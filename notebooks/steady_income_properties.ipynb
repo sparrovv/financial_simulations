{
    "cells": [
        {
            "cell_type": "markdown",
            "metadata": {},
            "source": [
                "# FIRE \n",
                "\n",
                "This notebook will try to answer the following question:\n",
                "\n",
                "- Given I have a few property investments, and steady income, how much the value of the properties will increase over time\n",
                "\n",
                "\n",
                "## Assumptions\n",
                "\n",
                "- Income covers expenses\n",
                "- Income from properties cover mortgage\n"
            ]
        },
        {
            "cell_type": "code",
            "execution_count": 1,
            "metadata": {},
            "outputs": [],
            "source": [
                "import sys\n",
                "from pathlib import Path\n",
                "\n",
                "project_root = Path.cwd().parent \n",
                "src_path = project_root / 'src'\n",
                "\n",
                "sys.path.append(str(src_path))"
            ]
        },
        {
            "cell_type": "code",
            "execution_count": 2,
            "metadata": {},
            "outputs": [],
            "source": [
                "import datetime\n",
                "from fire.simulations import FireSimulation, run_simulation, InvestmentProperty\n",
                "import pandas as pd\n",
                "import plotly.express as px\n",
                "from decimal import Decimal\n"
            ]
        },
        {
            "cell_type": "code",
            "execution_count": 3,
            "metadata": {},
            "outputs": [],
            "source": [
                "from decimal import Decimal\n",
                "\n",
                "\n",
                "init = FireSimulation(\n",
                "    stock_investments=Decimal(\"0\"),\n",
                "    bonds_investments=Decimal(\"0\"),\n",
                "    cash=Decimal(\"20_000\"),\n",
                "    investment_properties=[\n",
                "        InvestmentProperty(\n",
                "            mortgage_left=Decimal(\"292000\"),\n",
                "            mortgage_rate=Decimal(\"7.66\"),\n",
                "            mortgage_months=202,\n",
                "            market_value=Decimal(\"520000\"),\n",
                "            monthly_income=Decimal(\"2100\"),\n",
                "            annual_rent_increase_rate=Decimal(\"0.02\"),\n",
                "        )\n",
                "    ],\n",
                "    stock_return_rate=Decimal(\"0.05\"),\n",
                "    bonds_return_rate=Decimal(\"0.04\"),\n",
                "    monthly_expenses=Decimal(\"10_000\"),\n",
                "    annual_inflation_rate=Decimal(\"0.02\"),\n",
                "    annual_income_increase_rate=Decimal(\"0.02\"),\n",
                "    monthly_income=Decimal(\"10_000\"),\n",
                "    annual_property_appreciation_rate=Decimal(\"0.02\"),\n",
                "    invest_cash_surplus=False,\n",
                "    date=datetime.datetime.fromisoformat('2024-04-01')\n",
                ")\n",
                "\n",
                "# simulate for next X years\n",
                "years = 15\n",
                "expected_number_of_months = years * 12\n",
                "simulation = run_simulation(init, years*12)"
            ]
        },
        {
            "cell_type": "code",
            "execution_count": 4,
            "metadata": {},
            "outputs": [
                {
                    "data": {
                        "text/html": [
                            "<div>\n",
                            "<style scoped>\n",
                            "    .dataframe tbody tr th:only-of-type {\n",
                            "        vertical-align: middle;\n",
                            "    }\n",
                            "\n",
                            "    .dataframe tbody tr th {\n",
                            "        vertical-align: top;\n",
                            "    }\n",
                            "\n",
                            "    .dataframe thead th {\n",
                            "        text-align: right;\n",
                            "    }\n",
                            "</style>\n",
                            "<table border=\"1\" class=\"dataframe\">\n",
                            "  <thead>\n",
                            "    <tr style=\"text-align: right;\">\n",
                            "      <th></th>\n",
                            "      <th>stock_investments</th>\n",
                            "      <th>bonds_investments</th>\n",
                            "      <th>cash</th>\n",
                            "      <th>monthly_expenses</th>\n",
                            "      <th>monthly_income</th>\n",
                            "      <th>date</th>\n",
                            "      <th>stock_return_rate</th>\n",
                            "      <th>investment_properties</th>\n",
                            "      <th>bonds_return_rate</th>\n",
                            "      <th>annual_inflation_rate</th>\n",
                            "      <th>...</th>\n",
                            "      <th>invest_cash_surplus</th>\n",
                            "      <th>invest_cash_threshold</th>\n",
                            "      <th>invest_cash_surplus_strategy</th>\n",
                            "      <th>liquid_wealth</th>\n",
                            "      <th>wealth_inc_properties</th>\n",
                            "      <th>properties_monthly_mortgage</th>\n",
                            "      <th>properties_market_value</th>\n",
                            "      <th>properties_monthly_income</th>\n",
                            "      <th>properties_net_cash_value</th>\n",
                            "      <th>properties_mortgage_left</th>\n",
                            "    </tr>\n",
                            "  </thead>\n",
                            "  <tbody>\n",
                            "    <tr>\n",
                            "      <th>0</th>\n",
                            "      <td>0.0</td>\n",
                            "      <td>0.0</td>\n",
                            "      <td>20000.00</td>\n",
                            "      <td>10000.00</td>\n",
                            "      <td>10000.00</td>\n",
                            "      <td>2024-04-01</td>\n",
                            "      <td>0.05</td>\n",
                            "      <td>[{'market_value': 520000, 'monthly_income': 21...</td>\n",
                            "      <td>0.04</td>\n",
                            "      <td>0.02</td>\n",
                            "      <td>...</td>\n",
                            "      <td>False</td>\n",
                            "      <td>0.0</td>\n",
                            "      <td>80-20</td>\n",
                            "      <td>20000.00</td>\n",
                            "      <td>248000.00</td>\n",
                            "      <td>2576.48</td>\n",
                            "      <td>520000.00</td>\n",
                            "      <td>2100.000000</td>\n",
                            "      <td>228000.00</td>\n",
                            "      <td>292000.00</td>\n",
                            "    </tr>\n",
                            "    <tr>\n",
                            "      <th>1</th>\n",
                            "      <td>0.0</td>\n",
                            "      <td>0.0</td>\n",
                            "      <td>22083.33</td>\n",
                            "      <td>10016.67</td>\n",
                            "      <td>10000.00</td>\n",
                            "      <td>2024-05-01</td>\n",
                            "      <td>0.05</td>\n",
                            "      <td>[{'market_value': 520866.67, 'monthly_income':...</td>\n",
                            "      <td>0.04</td>\n",
                            "      <td>0.02</td>\n",
                            "      <td>...</td>\n",
                            "      <td>False</td>\n",
                            "      <td>0.0</td>\n",
                            "      <td>80-20</td>\n",
                            "      <td>22083.33</td>\n",
                            "      <td>251662.55</td>\n",
                            "      <td>2576.48</td>\n",
                            "      <td>520866.67</td>\n",
                            "      <td>2100.000000</td>\n",
                            "      <td>229579.22</td>\n",
                            "      <td>291287.45</td>\n",
                            "    </tr>\n",
                            "    <tr>\n",
                            "      <th>2</th>\n",
                            "      <td>0.0</td>\n",
                            "      <td>0.0</td>\n",
                            "      <td>24149.97</td>\n",
                            "      <td>10033.36</td>\n",
                            "      <td>10000.00</td>\n",
                            "      <td>2024-06-01</td>\n",
                            "      <td>0.05</td>\n",
                            "      <td>[{'market_value': 521734.78, 'monthly_income':...</td>\n",
                            "      <td>0.04</td>\n",
                            "      <td>0.02</td>\n",
                            "      <td>...</td>\n",
                            "      <td>False</td>\n",
                            "      <td>0.0</td>\n",
                            "      <td>80-20</td>\n",
                            "      <td>24149.97</td>\n",
                            "      <td>255314.40</td>\n",
                            "      <td>2576.48</td>\n",
                            "      <td>521734.78</td>\n",
                            "      <td>2100.000000</td>\n",
                            "      <td>231164.43</td>\n",
                            "      <td>290570.35</td>\n",
                            "    </tr>\n",
                            "    <tr>\n",
                            "      <th>3</th>\n",
                            "      <td>0.0</td>\n",
                            "      <td>0.0</td>\n",
                            "      <td>26199.89</td>\n",
                            "      <td>10050.08</td>\n",
                            "      <td>10000.00</td>\n",
                            "      <td>2024-07-01</td>\n",
                            "      <td>0.05</td>\n",
                            "      <td>[{'market_value': 522604.34, 'monthly_income':...</td>\n",
                            "      <td>0.04</td>\n",
                            "      <td>0.02</td>\n",
                            "      <td>...</td>\n",
                            "      <td>False</td>\n",
                            "      <td>0.0</td>\n",
                            "      <td>80-20</td>\n",
                            "      <td>26199.89</td>\n",
                            "      <td>258955.55</td>\n",
                            "      <td>2576.48</td>\n",
                            "      <td>522604.34</td>\n",
                            "      <td>2100.000000</td>\n",
                            "      <td>232755.66</td>\n",
                            "      <td>289848.68</td>\n",
                            "    </tr>\n",
                            "    <tr>\n",
                            "      <th>4</th>\n",
                            "      <td>0.0</td>\n",
                            "      <td>0.0</td>\n",
                            "      <td>28233.06</td>\n",
                            "      <td>10066.83</td>\n",
                            "      <td>10000.00</td>\n",
                            "      <td>2024-08-01</td>\n",
                            "      <td>0.05</td>\n",
                            "      <td>[{'market_value': 523475.35, 'monthly_income':...</td>\n",
                            "      <td>0.04</td>\n",
                            "      <td>0.02</td>\n",
                            "      <td>...</td>\n",
                            "      <td>False</td>\n",
                            "      <td>0.0</td>\n",
                            "      <td>80-20</td>\n",
                            "      <td>28233.06</td>\n",
                            "      <td>262586.01</td>\n",
                            "      <td>2576.48</td>\n",
                            "      <td>523475.35</td>\n",
                            "      <td>2100.000000</td>\n",
                            "      <td>234352.95</td>\n",
                            "      <td>289122.40</td>\n",
                            "    </tr>\n",
                            "    <tr>\n",
                            "      <th>...</th>\n",
                            "      <td>...</td>\n",
                            "      <td>...</td>\n",
                            "      <td>...</td>\n",
                            "      <td>...</td>\n",
                            "      <td>...</td>\n",
                            "      <td>...</td>\n",
                            "      <td>...</td>\n",
                            "      <td>...</td>\n",
                            "      <td>...</td>\n",
                            "      <td>...</td>\n",
                            "      <td>...</td>\n",
                            "      <td>...</td>\n",
                            "      <td>...</td>\n",
                            "      <td>...</td>\n",
                            "      <td>...</td>\n",
                            "      <td>...</td>\n",
                            "      <td>...</td>\n",
                            "      <td>...</td>\n",
                            "      <td>...</td>\n",
                            "      <td>...</td>\n",
                            "      <td>...</td>\n",
                            "    </tr>\n",
                            "    <tr>\n",
                            "      <th>176</th>\n",
                            "      <td>0.0</td>\n",
                            "      <td>0.0</td>\n",
                            "      <td>435157.29</td>\n",
                            "      <td>13405.59</td>\n",
                            "      <td>13194.79</td>\n",
                            "      <td>2038-12-01</td>\n",
                            "      <td>0.05</td>\n",
                            "      <td>[{'market_value': 697092.45, 'monthly_income':...</td>\n",
                            "      <td>0.04</td>\n",
                            "      <td>0.02</td>\n",
                            "      <td>...</td>\n",
                            "      <td>False</td>\n",
                            "      <td>0.0</td>\n",
                            "      <td>80-20</td>\n",
                            "      <td>435157.29</td>\n",
                            "      <td>1070705.51</td>\n",
                            "      <td>2576.48</td>\n",
                            "      <td>697092.45</td>\n",
                            "      <td>2770.905402</td>\n",
                            "      <td>635548.22</td>\n",
                            "      <td>61544.23</td>\n",
                            "    </tr>\n",
                            "    <tr>\n",
                            "      <th>177</th>\n",
                            "      <td>0.0</td>\n",
                            "      <td>0.0</td>\n",
                            "      <td>437958.95</td>\n",
                            "      <td>13427.93</td>\n",
                            "      <td>13458.69</td>\n",
                            "      <td>2039-01-01</td>\n",
                            "      <td>0.05</td>\n",
                            "      <td>[{'market_value': 698254.27, 'monthly_income':...</td>\n",
                            "      <td>0.04</td>\n",
                            "      <td>0.02</td>\n",
                            "      <td>...</td>\n",
                            "      <td>False</td>\n",
                            "      <td>0.0</td>\n",
                            "      <td>80-20</td>\n",
                            "      <td>437958.95</td>\n",
                            "      <td>1076852.61</td>\n",
                            "      <td>2576.47</td>\n",
                            "      <td>698254.27</td>\n",
                            "      <td>2826.323510</td>\n",
                            "      <td>638893.66</td>\n",
                            "      <td>59360.61</td>\n",
                            "    </tr>\n",
                            "    <tr>\n",
                            "      <th>178</th>\n",
                            "      <td>0.0</td>\n",
                            "      <td>0.0</td>\n",
                            "      <td>440793.65</td>\n",
                            "      <td>13450.31</td>\n",
                            "      <td>13458.69</td>\n",
                            "      <td>2039-02-01</td>\n",
                            "      <td>0.05</td>\n",
                            "      <td>[{'market_value': 699418.03, 'monthly_income':...</td>\n",
                            "      <td>0.04</td>\n",
                            "      <td>0.02</td>\n",
                            "      <td>...</td>\n",
                            "      <td>False</td>\n",
                            "      <td>0.0</td>\n",
                            "      <td>80-20</td>\n",
                            "      <td>440793.65</td>\n",
                            "      <td>1083048.62</td>\n",
                            "      <td>2576.48</td>\n",
                            "      <td>699418.03</td>\n",
                            "      <td>2826.323510</td>\n",
                            "      <td>642254.97</td>\n",
                            "      <td>57163.06</td>\n",
                            "    </tr>\n",
                            "    <tr>\n",
                            "      <th>179</th>\n",
                            "      <td>0.0</td>\n",
                            "      <td>0.0</td>\n",
                            "      <td>443605.94</td>\n",
                            "      <td>13472.73</td>\n",
                            "      <td>13458.69</td>\n",
                            "      <td>2039-03-01</td>\n",
                            "      <td>0.05</td>\n",
                            "      <td>[{'market_value': 700583.73, 'monthly_income':...</td>\n",
                            "      <td>0.04</td>\n",
                            "      <td>0.02</td>\n",
                            "      <td>...</td>\n",
                            "      <td>False</td>\n",
                            "      <td>0.0</td>\n",
                            "      <td>80-20</td>\n",
                            "      <td>443605.94</td>\n",
                            "      <td>1089238.20</td>\n",
                            "      <td>2576.47</td>\n",
                            "      <td>700583.73</td>\n",
                            "      <td>2826.323510</td>\n",
                            "      <td>645632.26</td>\n",
                            "      <td>54951.47</td>\n",
                            "    </tr>\n",
                            "    <tr>\n",
                            "      <th>180</th>\n",
                            "      <td>0.0</td>\n",
                            "      <td>0.0</td>\n",
                            "      <td>446395.77</td>\n",
                            "      <td>13495.18</td>\n",
                            "      <td>13458.69</td>\n",
                            "      <td>2039-04-01</td>\n",
                            "      <td>0.05</td>\n",
                            "      <td>[{'market_value': 701751.37, 'monthly_income':...</td>\n",
                            "      <td>0.04</td>\n",
                            "      <td>0.02</td>\n",
                            "      <td>...</td>\n",
                            "      <td>False</td>\n",
                            "      <td>0.0</td>\n",
                            "      <td>80-20</td>\n",
                            "      <td>446395.77</td>\n",
                            "      <td>1095421.37</td>\n",
                            "      <td>2576.48</td>\n",
                            "      <td>701751.37</td>\n",
                            "      <td>2826.323510</td>\n",
                            "      <td>649025.60</td>\n",
                            "      <td>52725.77</td>\n",
                            "    </tr>\n",
                            "  </tbody>\n",
                            "</table>\n",
                            "<p>181 rows × 22 columns</p>\n",
                            "</div>"
                        ],
                        "text/plain": [
                            "     stock_investments  bonds_investments       cash  monthly_expenses  \\\n",
                            "0                  0.0                0.0   20000.00          10000.00   \n",
                            "1                  0.0                0.0   22083.33          10016.67   \n",
                            "2                  0.0                0.0   24149.97          10033.36   \n",
                            "3                  0.0                0.0   26199.89          10050.08   \n",
                            "4                  0.0                0.0   28233.06          10066.83   \n",
                            "..                 ...                ...        ...               ...   \n",
                            "176                0.0                0.0  435157.29          13405.59   \n",
                            "177                0.0                0.0  437958.95          13427.93   \n",
                            "178                0.0                0.0  440793.65          13450.31   \n",
                            "179                0.0                0.0  443605.94          13472.73   \n",
                            "180                0.0                0.0  446395.77          13495.18   \n",
                            "\n",
                            "     monthly_income       date  stock_return_rate  \\\n",
                            "0          10000.00 2024-04-01               0.05   \n",
                            "1          10000.00 2024-05-01               0.05   \n",
                            "2          10000.00 2024-06-01               0.05   \n",
                            "3          10000.00 2024-07-01               0.05   \n",
                            "4          10000.00 2024-08-01               0.05   \n",
                            "..              ...        ...                ...   \n",
                            "176        13194.79 2038-12-01               0.05   \n",
                            "177        13458.69 2039-01-01               0.05   \n",
                            "178        13458.69 2039-02-01               0.05   \n",
                            "179        13458.69 2039-03-01               0.05   \n",
                            "180        13458.69 2039-04-01               0.05   \n",
                            "\n",
                            "                                 investment_properties  bonds_return_rate  \\\n",
                            "0    [{'market_value': 520000, 'monthly_income': 21...               0.04   \n",
                            "1    [{'market_value': 520866.67, 'monthly_income':...               0.04   \n",
                            "2    [{'market_value': 521734.78, 'monthly_income':...               0.04   \n",
                            "3    [{'market_value': 522604.34, 'monthly_income':...               0.04   \n",
                            "4    [{'market_value': 523475.35, 'monthly_income':...               0.04   \n",
                            "..                                                 ...                ...   \n",
                            "176  [{'market_value': 697092.45, 'monthly_income':...               0.04   \n",
                            "177  [{'market_value': 698254.27, 'monthly_income':...               0.04   \n",
                            "178  [{'market_value': 699418.03, 'monthly_income':...               0.04   \n",
                            "179  [{'market_value': 700583.73, 'monthly_income':...               0.04   \n",
                            "180  [{'market_value': 701751.37, 'monthly_income':...               0.04   \n",
                            "\n",
                            "     annual_inflation_rate  ...  invest_cash_surplus  invest_cash_threshold  \\\n",
                            "0                     0.02  ...                False                    0.0   \n",
                            "1                     0.02  ...                False                    0.0   \n",
                            "2                     0.02  ...                False                    0.0   \n",
                            "3                     0.02  ...                False                    0.0   \n",
                            "4                     0.02  ...                False                    0.0   \n",
                            "..                     ...  ...                  ...                    ...   \n",
                            "176                   0.02  ...                False                    0.0   \n",
                            "177                   0.02  ...                False                    0.0   \n",
                            "178                   0.02  ...                False                    0.0   \n",
                            "179                   0.02  ...                False                    0.0   \n",
                            "180                   0.02  ...                False                    0.0   \n",
                            "\n",
                            "     invest_cash_surplus_strategy  liquid_wealth wealth_inc_properties  \\\n",
                            "0                           80-20       20000.00             248000.00   \n",
                            "1                           80-20       22083.33             251662.55   \n",
                            "2                           80-20       24149.97             255314.40   \n",
                            "3                           80-20       26199.89             258955.55   \n",
                            "4                           80-20       28233.06             262586.01   \n",
                            "..                            ...            ...                   ...   \n",
                            "176                         80-20      435157.29            1070705.51   \n",
                            "177                         80-20      437958.95            1076852.61   \n",
                            "178                         80-20      440793.65            1083048.62   \n",
                            "179                         80-20      443605.94            1089238.20   \n",
                            "180                         80-20      446395.77            1095421.37   \n",
                            "\n",
                            "     properties_monthly_mortgage  properties_market_value  \\\n",
                            "0                        2576.48                520000.00   \n",
                            "1                        2576.48                520866.67   \n",
                            "2                        2576.48                521734.78   \n",
                            "3                        2576.48                522604.34   \n",
                            "4                        2576.48                523475.35   \n",
                            "..                           ...                      ...   \n",
                            "176                      2576.48                697092.45   \n",
                            "177                      2576.47                698254.27   \n",
                            "178                      2576.48                699418.03   \n",
                            "179                      2576.47                700583.73   \n",
                            "180                      2576.48                701751.37   \n",
                            "\n",
                            "     properties_monthly_income  properties_net_cash_value  \\\n",
                            "0                  2100.000000                  228000.00   \n",
                            "1                  2100.000000                  229579.22   \n",
                            "2                  2100.000000                  231164.43   \n",
                            "3                  2100.000000                  232755.66   \n",
                            "4                  2100.000000                  234352.95   \n",
                            "..                         ...                        ...   \n",
                            "176                2770.905402                  635548.22   \n",
                            "177                2826.323510                  638893.66   \n",
                            "178                2826.323510                  642254.97   \n",
                            "179                2826.323510                  645632.26   \n",
                            "180                2826.323510                  649025.60   \n",
                            "\n",
                            "     properties_mortgage_left  \n",
                            "0                   292000.00  \n",
                            "1                   291287.45  \n",
                            "2                   290570.35  \n",
                            "3                   289848.68  \n",
                            "4                   289122.40  \n",
                            "..                        ...  \n",
                            "176                  61544.23  \n",
                            "177                  59360.61  \n",
                            "178                  57163.06  \n",
                            "179                  54951.47  \n",
                            "180                  52725.77  \n",
                            "\n",
                            "[181 rows x 22 columns]"
                        ]
                    },
                    "execution_count": 4,
                    "metadata": {},
                    "output_type": "execute_result"
                }
            ],
            "source": [
                "\n",
                "df = pd.DataFrame([s.to_dict() for s in simulation])\n",
                "df"
            ]
        },
        {
            "cell_type": "code",
            "execution_count": 5,
            "metadata": {},
            "outputs": [
                {
                    "data": {
                        "application/vnd.plotly.v1+json": {
                            "config": {
                                "plotlyServerURL": "https://plot.ly"
                            },
                            "data": [
                                {
                                    "name": "Category A",
                                    "type": "bar",
                                    "x": [
                                        "2024-04-01T00:00:00",
                                        "2024-05-01T00:00:00",
                                        "2024-06-01T00:00:00",
                                        "2024-07-01T00:00:00",
                                        "2024-08-01T00:00:00",
                                        "2024-09-01T00:00:00",
                                        "2024-10-01T00:00:00",
                                        "2024-11-01T00:00:00",
                                        "2024-12-01T00:00:00",
                                        "2025-01-01T00:00:00",
                                        "2025-02-01T00:00:00",
                                        "2025-03-01T00:00:00",
                                        "2025-04-01T00:00:00",
                                        "2025-05-01T00:00:00",
                                        "2025-06-01T00:00:00",
                                        "2025-07-01T00:00:00",
                                        "2025-08-01T00:00:00",
                                        "2025-09-01T00:00:00",
                                        "2025-10-01T00:00:00",
                                        "2025-11-01T00:00:00",
                                        "2025-12-01T00:00:00",
                                        "2026-01-01T00:00:00",
                                        "2026-02-01T00:00:00",
                                        "2026-03-01T00:00:00",
                                        "2026-04-01T00:00:00",
                                        "2026-05-01T00:00:00",
                                        "2026-06-01T00:00:00",
                                        "2026-07-01T00:00:00",
                                        "2026-08-01T00:00:00",
                                        "2026-09-01T00:00:00",
                                        "2026-10-01T00:00:00",
                                        "2026-11-01T00:00:00",
                                        "2026-12-01T00:00:00",
                                        "2027-01-01T00:00:00",
                                        "2027-02-01T00:00:00",
                                        "2027-03-01T00:00:00",
                                        "2027-04-01T00:00:00",
                                        "2027-05-01T00:00:00",
                                        "2027-06-01T00:00:00",
                                        "2027-07-01T00:00:00",
                                        "2027-08-01T00:00:00",
                                        "2027-09-01T00:00:00",
                                        "2027-10-01T00:00:00",
                                        "2027-11-01T00:00:00",
                                        "2027-12-01T00:00:00",
                                        "2028-01-01T00:00:00",
                                        "2028-02-01T00:00:00",
                                        "2028-03-01T00:00:00",
                                        "2028-04-01T00:00:00",
                                        "2028-05-01T00:00:00",
                                        "2028-06-01T00:00:00",
                                        "2028-07-01T00:00:00",
                                        "2028-08-01T00:00:00",
                                        "2028-09-01T00:00:00",
                                        "2028-10-01T00:00:00",
                                        "2028-11-01T00:00:00",
                                        "2028-12-01T00:00:00",
                                        "2029-01-01T00:00:00",
                                        "2029-02-01T00:00:00",
                                        "2029-03-01T00:00:00",
                                        "2029-04-01T00:00:00",
                                        "2029-05-01T00:00:00",
                                        "2029-06-01T00:00:00",
                                        "2029-07-01T00:00:00",
                                        "2029-08-01T00:00:00",
                                        "2029-09-01T00:00:00",
                                        "2029-10-01T00:00:00",
                                        "2029-11-01T00:00:00",
                                        "2029-12-01T00:00:00",
                                        "2030-01-01T00:00:00",
                                        "2030-02-01T00:00:00",
                                        "2030-03-01T00:00:00",
                                        "2030-04-01T00:00:00",
                                        "2030-05-01T00:00:00",
                                        "2030-06-01T00:00:00",
                                        "2030-07-01T00:00:00",
                                        "2030-08-01T00:00:00",
                                        "2030-09-01T00:00:00",
                                        "2030-10-01T00:00:00",
                                        "2030-11-01T00:00:00",
                                        "2030-12-01T00:00:00",
                                        "2031-01-01T00:00:00",
                                        "2031-02-01T00:00:00",
                                        "2031-03-01T00:00:00",
                                        "2031-04-01T00:00:00",
                                        "2031-05-01T00:00:00",
                                        "2031-06-01T00:00:00",
                                        "2031-07-01T00:00:00",
                                        "2031-08-01T00:00:00",
                                        "2031-09-01T00:00:00",
                                        "2031-10-01T00:00:00",
                                        "2031-11-01T00:00:00",
                                        "2031-12-01T00:00:00",
                                        "2032-01-01T00:00:00",
                                        "2032-02-01T00:00:00",
                                        "2032-03-01T00:00:00",
                                        "2032-04-01T00:00:00",
                                        "2032-05-01T00:00:00",
                                        "2032-06-01T00:00:00",
                                        "2032-07-01T00:00:00",
                                        "2032-08-01T00:00:00",
                                        "2032-09-01T00:00:00",
                                        "2032-10-01T00:00:00",
                                        "2032-11-01T00:00:00",
                                        "2032-12-01T00:00:00",
                                        "2033-01-01T00:00:00",
                                        "2033-02-01T00:00:00",
                                        "2033-03-01T00:00:00",
                                        "2033-04-01T00:00:00",
                                        "2033-05-01T00:00:00",
                                        "2033-06-01T00:00:00",
                                        "2033-07-01T00:00:00",
                                        "2033-08-01T00:00:00",
                                        "2033-09-01T00:00:00",
                                        "2033-10-01T00:00:00",
                                        "2033-11-01T00:00:00",
                                        "2033-12-01T00:00:00",
                                        "2034-01-01T00:00:00",
                                        "2034-02-01T00:00:00",
                                        "2034-03-01T00:00:00",
                                        "2034-04-01T00:00:00",
                                        "2034-05-01T00:00:00",
                                        "2034-06-01T00:00:00",
                                        "2034-07-01T00:00:00",
                                        "2034-08-01T00:00:00",
                                        "2034-09-01T00:00:00",
                                        "2034-10-01T00:00:00",
                                        "2034-11-01T00:00:00",
                                        "2034-12-01T00:00:00",
                                        "2035-01-01T00:00:00",
                                        "2035-02-01T00:00:00",
                                        "2035-03-01T00:00:00",
                                        "2035-04-01T00:00:00",
                                        "2035-05-01T00:00:00",
                                        "2035-06-01T00:00:00",
                                        "2035-07-01T00:00:00",
                                        "2035-08-01T00:00:00",
                                        "2035-09-01T00:00:00",
                                        "2035-10-01T00:00:00",
                                        "2035-11-01T00:00:00",
                                        "2035-12-01T00:00:00",
                                        "2036-01-01T00:00:00",
                                        "2036-02-01T00:00:00",
                                        "2036-03-01T00:00:00",
                                        "2036-04-01T00:00:00",
                                        "2036-05-01T00:00:00",
                                        "2036-06-01T00:00:00",
                                        "2036-07-01T00:00:00",
                                        "2036-08-01T00:00:00",
                                        "2036-09-01T00:00:00",
                                        "2036-10-01T00:00:00",
                                        "2036-11-01T00:00:00",
                                        "2036-12-01T00:00:00",
                                        "2037-01-01T00:00:00",
                                        "2037-02-01T00:00:00",
                                        "2037-03-01T00:00:00",
                                        "2037-04-01T00:00:00",
                                        "2037-05-01T00:00:00",
                                        "2037-06-01T00:00:00",
                                        "2037-07-01T00:00:00",
                                        "2037-08-01T00:00:00",
                                        "2037-09-01T00:00:00",
                                        "2037-10-01T00:00:00",
                                        "2037-11-01T00:00:00",
                                        "2037-12-01T00:00:00",
                                        "2038-01-01T00:00:00",
                                        "2038-02-01T00:00:00",
                                        "2038-03-01T00:00:00",
                                        "2038-04-01T00:00:00",
                                        "2038-05-01T00:00:00",
                                        "2038-06-01T00:00:00",
                                        "2038-07-01T00:00:00",
                                        "2038-08-01T00:00:00",
                                        "2038-09-01T00:00:00",
                                        "2038-10-01T00:00:00",
                                        "2038-11-01T00:00:00",
                                        "2038-12-01T00:00:00",
                                        "2039-01-01T00:00:00",
                                        "2039-02-01T00:00:00",
                                        "2039-03-01T00:00:00",
                                        "2039-04-01T00:00:00"
                                    ],
                                    "y": [
                                        2100,
                                        2100,
                                        2100,
                                        2100,
                                        2100,
                                        2100,
                                        2100,
                                        2100,
                                        2100,
                                        2142,
                                        2142,
                                        2142,
                                        2142,
                                        2142,
                                        2142,
                                        2142,
                                        2142,
                                        2142,
                                        2142,
                                        2142,
                                        2142,
                                        2184.84,
                                        2184.84,
                                        2184.84,
                                        2184.84,
                                        2184.84,
                                        2184.84,
                                        2184.84,
                                        2184.84,
                                        2184.84,
                                        2184.84,
                                        2184.84,
                                        2184.84,
                                        2228.5368,
                                        2228.5368,
                                        2228.5368,
                                        2228.5368,
                                        2228.5368,
                                        2228.5368,
                                        2228.5368,
                                        2228.5368,
                                        2228.5368,
                                        2228.5368,
                                        2228.5368,
                                        2228.5368,
                                        2273.107536,
                                        2273.107536,
                                        2273.107536,
                                        2273.107536,
                                        2273.107536,
                                        2273.107536,
                                        2273.107536,
                                        2273.107536,
                                        2273.107536,
                                        2273.107536,
                                        2273.107536,
                                        2273.107536,
                                        2318.56968672,
                                        2318.56968672,
                                        2318.56968672,
                                        2318.56968672,
                                        2318.56968672,
                                        2318.56968672,
                                        2318.56968672,
                                        2318.56968672,
                                        2318.56968672,
                                        2318.56968672,
                                        2318.56968672,
                                        2318.56968672,
                                        2364.9410804544,
                                        2364.9410804544,
                                        2364.9410804544,
                                        2364.9410804544,
                                        2364.9410804544,
                                        2364.9410804544,
                                        2364.9410804544,
                                        2364.9410804544,
                                        2364.9410804544,
                                        2364.9410804544,
                                        2364.9410804544,
                                        2364.9410804544,
                                        2412.239902063488,
                                        2412.239902063488,
                                        2412.239902063488,
                                        2412.239902063488,
                                        2412.239902063488,
                                        2412.239902063488,
                                        2412.239902063488,
                                        2412.239902063488,
                                        2412.239902063488,
                                        2412.239902063488,
                                        2412.239902063488,
                                        2412.239902063488,
                                        2460.484700104758,
                                        2460.484700104758,
                                        2460.484700104758,
                                        2460.484700104758,
                                        2460.484700104758,
                                        2460.484700104758,
                                        2460.484700104758,
                                        2460.484700104758,
                                        2460.484700104758,
                                        2460.484700104758,
                                        2460.484700104758,
                                        2460.484700104758,
                                        2509.694394106853,
                                        2509.694394106853,
                                        2509.694394106853,
                                        2509.694394106853,
                                        2509.694394106853,
                                        2509.694394106853,
                                        2509.694394106853,
                                        2509.694394106853,
                                        2509.694394106853,
                                        2509.694394106853,
                                        2509.694394106853,
                                        2509.694394106853,
                                        2559.88828198899,
                                        2559.88828198899,
                                        2559.88828198899,
                                        2559.88828198899,
                                        2559.88828198899,
                                        2559.88828198899,
                                        2559.88828198899,
                                        2559.88828198899,
                                        2559.88828198899,
                                        2559.88828198899,
                                        2559.88828198899,
                                        2559.88828198899,
                                        2611.08604762877,
                                        2611.08604762877,
                                        2611.08604762877,
                                        2611.08604762877,
                                        2611.08604762877,
                                        2611.08604762877,
                                        2611.08604762877,
                                        2611.08604762877,
                                        2611.08604762877,
                                        2611.08604762877,
                                        2611.08604762877,
                                        2611.08604762877,
                                        2663.307768581345,
                                        2663.307768581345,
                                        2663.307768581345,
                                        2663.307768581345,
                                        2663.307768581345,
                                        2663.307768581345,
                                        2663.307768581345,
                                        2663.307768581345,
                                        2663.307768581345,
                                        2663.307768581345,
                                        2663.307768581345,
                                        2663.307768581345,
                                        2716.573923952972,
                                        2716.573923952972,
                                        2716.573923952972,
                                        2716.573923952972,
                                        2716.573923952972,
                                        2716.573923952972,
                                        2716.573923952972,
                                        2716.573923952972,
                                        2716.573923952972,
                                        2716.573923952972,
                                        2716.573923952972,
                                        2716.573923952972,
                                        2770.9054024320317,
                                        2770.9054024320317,
                                        2770.9054024320317,
                                        2770.9054024320317,
                                        2770.9054024320317,
                                        2770.9054024320317,
                                        2770.9054024320317,
                                        2770.9054024320317,
                                        2770.9054024320317,
                                        2770.9054024320317,
                                        2770.9054024320317,
                                        2770.9054024320317,
                                        2826.323510480672,
                                        2826.323510480672,
                                        2826.323510480672,
                                        2826.323510480672
                                    ]
                                },
                                {
                                    "name": "Category A",
                                    "type": "bar",
                                    "x": [
                                        "2024-04-01T00:00:00",
                                        "2024-05-01T00:00:00",
                                        "2024-06-01T00:00:00",
                                        "2024-07-01T00:00:00",
                                        "2024-08-01T00:00:00",
                                        "2024-09-01T00:00:00",
                                        "2024-10-01T00:00:00",
                                        "2024-11-01T00:00:00",
                                        "2024-12-01T00:00:00",
                                        "2025-01-01T00:00:00",
                                        "2025-02-01T00:00:00",
                                        "2025-03-01T00:00:00",
                                        "2025-04-01T00:00:00",
                                        "2025-05-01T00:00:00",
                                        "2025-06-01T00:00:00",
                                        "2025-07-01T00:00:00",
                                        "2025-08-01T00:00:00",
                                        "2025-09-01T00:00:00",
                                        "2025-10-01T00:00:00",
                                        "2025-11-01T00:00:00",
                                        "2025-12-01T00:00:00",
                                        "2026-01-01T00:00:00",
                                        "2026-02-01T00:00:00",
                                        "2026-03-01T00:00:00",
                                        "2026-04-01T00:00:00",
                                        "2026-05-01T00:00:00",
                                        "2026-06-01T00:00:00",
                                        "2026-07-01T00:00:00",
                                        "2026-08-01T00:00:00",
                                        "2026-09-01T00:00:00",
                                        "2026-10-01T00:00:00",
                                        "2026-11-01T00:00:00",
                                        "2026-12-01T00:00:00",
                                        "2027-01-01T00:00:00",
                                        "2027-02-01T00:00:00",
                                        "2027-03-01T00:00:00",
                                        "2027-04-01T00:00:00",
                                        "2027-05-01T00:00:00",
                                        "2027-06-01T00:00:00",
                                        "2027-07-01T00:00:00",
                                        "2027-08-01T00:00:00",
                                        "2027-09-01T00:00:00",
                                        "2027-10-01T00:00:00",
                                        "2027-11-01T00:00:00",
                                        "2027-12-01T00:00:00",
                                        "2028-01-01T00:00:00",
                                        "2028-02-01T00:00:00",
                                        "2028-03-01T00:00:00",
                                        "2028-04-01T00:00:00",
                                        "2028-05-01T00:00:00",
                                        "2028-06-01T00:00:00",
                                        "2028-07-01T00:00:00",
                                        "2028-08-01T00:00:00",
                                        "2028-09-01T00:00:00",
                                        "2028-10-01T00:00:00",
                                        "2028-11-01T00:00:00",
                                        "2028-12-01T00:00:00",
                                        "2029-01-01T00:00:00",
                                        "2029-02-01T00:00:00",
                                        "2029-03-01T00:00:00",
                                        "2029-04-01T00:00:00",
                                        "2029-05-01T00:00:00",
                                        "2029-06-01T00:00:00",
                                        "2029-07-01T00:00:00",
                                        "2029-08-01T00:00:00",
                                        "2029-09-01T00:00:00",
                                        "2029-10-01T00:00:00",
                                        "2029-11-01T00:00:00",
                                        "2029-12-01T00:00:00",
                                        "2030-01-01T00:00:00",
                                        "2030-02-01T00:00:00",
                                        "2030-03-01T00:00:00",
                                        "2030-04-01T00:00:00",
                                        "2030-05-01T00:00:00",
                                        "2030-06-01T00:00:00",
                                        "2030-07-01T00:00:00",
                                        "2030-08-01T00:00:00",
                                        "2030-09-01T00:00:00",
                                        "2030-10-01T00:00:00",
                                        "2030-11-01T00:00:00",
                                        "2030-12-01T00:00:00",
                                        "2031-01-01T00:00:00",
                                        "2031-02-01T00:00:00",
                                        "2031-03-01T00:00:00",
                                        "2031-04-01T00:00:00",
                                        "2031-05-01T00:00:00",
                                        "2031-06-01T00:00:00",
                                        "2031-07-01T00:00:00",
                                        "2031-08-01T00:00:00",
                                        "2031-09-01T00:00:00",
                                        "2031-10-01T00:00:00",
                                        "2031-11-01T00:00:00",
                                        "2031-12-01T00:00:00",
                                        "2032-01-01T00:00:00",
                                        "2032-02-01T00:00:00",
                                        "2032-03-01T00:00:00",
                                        "2032-04-01T00:00:00",
                                        "2032-05-01T00:00:00",
                                        "2032-06-01T00:00:00",
                                        "2032-07-01T00:00:00",
                                        "2032-08-01T00:00:00",
                                        "2032-09-01T00:00:00",
                                        "2032-10-01T00:00:00",
                                        "2032-11-01T00:00:00",
                                        "2032-12-01T00:00:00",
                                        "2033-01-01T00:00:00",
                                        "2033-02-01T00:00:00",
                                        "2033-03-01T00:00:00",
                                        "2033-04-01T00:00:00",
                                        "2033-05-01T00:00:00",
                                        "2033-06-01T00:00:00",
                                        "2033-07-01T00:00:00",
                                        "2033-08-01T00:00:00",
                                        "2033-09-01T00:00:00",
                                        "2033-10-01T00:00:00",
                                        "2033-11-01T00:00:00",
                                        "2033-12-01T00:00:00",
                                        "2034-01-01T00:00:00",
                                        "2034-02-01T00:00:00",
                                        "2034-03-01T00:00:00",
                                        "2034-04-01T00:00:00",
                                        "2034-05-01T00:00:00",
                                        "2034-06-01T00:00:00",
                                        "2034-07-01T00:00:00",
                                        "2034-08-01T00:00:00",
                                        "2034-09-01T00:00:00",
                                        "2034-10-01T00:00:00",
                                        "2034-11-01T00:00:00",
                                        "2034-12-01T00:00:00",
                                        "2035-01-01T00:00:00",
                                        "2035-02-01T00:00:00",
                                        "2035-03-01T00:00:00",
                                        "2035-04-01T00:00:00",
                                        "2035-05-01T00:00:00",
                                        "2035-06-01T00:00:00",
                                        "2035-07-01T00:00:00",
                                        "2035-08-01T00:00:00",
                                        "2035-09-01T00:00:00",
                                        "2035-10-01T00:00:00",
                                        "2035-11-01T00:00:00",
                                        "2035-12-01T00:00:00",
                                        "2036-01-01T00:00:00",
                                        "2036-02-01T00:00:00",
                                        "2036-03-01T00:00:00",
                                        "2036-04-01T00:00:00",
                                        "2036-05-01T00:00:00",
                                        "2036-06-01T00:00:00",
                                        "2036-07-01T00:00:00",
                                        "2036-08-01T00:00:00",
                                        "2036-09-01T00:00:00",
                                        "2036-10-01T00:00:00",
                                        "2036-11-01T00:00:00",
                                        "2036-12-01T00:00:00",
                                        "2037-01-01T00:00:00",
                                        "2037-02-01T00:00:00",
                                        "2037-03-01T00:00:00",
                                        "2037-04-01T00:00:00",
                                        "2037-05-01T00:00:00",
                                        "2037-06-01T00:00:00",
                                        "2037-07-01T00:00:00",
                                        "2037-08-01T00:00:00",
                                        "2037-09-01T00:00:00",
                                        "2037-10-01T00:00:00",
                                        "2037-11-01T00:00:00",
                                        "2037-12-01T00:00:00",
                                        "2038-01-01T00:00:00",
                                        "2038-02-01T00:00:00",
                                        "2038-03-01T00:00:00",
                                        "2038-04-01T00:00:00",
                                        "2038-05-01T00:00:00",
                                        "2038-06-01T00:00:00",
                                        "2038-07-01T00:00:00",
                                        "2038-08-01T00:00:00",
                                        "2038-09-01T00:00:00",
                                        "2038-10-01T00:00:00",
                                        "2038-11-01T00:00:00",
                                        "2038-12-01T00:00:00",
                                        "2039-01-01T00:00:00",
                                        "2039-02-01T00:00:00",
                                        "2039-03-01T00:00:00",
                                        "2039-04-01T00:00:00"
                                    ],
                                    "y": [
                                        2576.48,
                                        2576.48,
                                        2576.48,
                                        2576.48,
                                        2576.48,
                                        2576.48,
                                        2576.48,
                                        2576.48,
                                        2576.48,
                                        2576.48,
                                        2576.48,
                                        2576.48,
                                        2576.48,
                                        2576.48,
                                        2576.48,
                                        2576.48,
                                        2576.48,
                                        2576.48,
                                        2576.48,
                                        2576.48,
                                        2576.48,
                                        2576.48,
                                        2576.48,
                                        2576.48,
                                        2576.48,
                                        2576.48,
                                        2576.48,
                                        2576.48,
                                        2576.48,
                                        2576.48,
                                        2576.48,
                                        2576.48,
                                        2576.48,
                                        2576.48,
                                        2576.48,
                                        2576.48,
                                        2576.48,
                                        2576.48,
                                        2576.48,
                                        2576.48,
                                        2576.48,
                                        2576.48,
                                        2576.48,
                                        2576.48,
                                        2576.48,
                                        2576.48,
                                        2576.48,
                                        2576.48,
                                        2576.48,
                                        2576.48,
                                        2576.48,
                                        2576.48,
                                        2576.48,
                                        2576.48,
                                        2576.48,
                                        2576.48,
                                        2576.48,
                                        2576.48,
                                        2576.48,
                                        2576.48,
                                        2576.48,
                                        2576.48,
                                        2576.48,
                                        2576.48,
                                        2576.48,
                                        2576.48,
                                        2576.48,
                                        2576.48,
                                        2576.48,
                                        2576.48,
                                        2576.48,
                                        2576.48,
                                        2576.48,
                                        2576.48,
                                        2576.48,
                                        2576.48,
                                        2576.48,
                                        2576.48,
                                        2576.48,
                                        2576.48,
                                        2576.48,
                                        2576.48,
                                        2576.48,
                                        2576.48,
                                        2576.48,
                                        2576.48,
                                        2576.48,
                                        2576.48,
                                        2576.48,
                                        2576.48,
                                        2576.48,
                                        2576.48,
                                        2576.48,
                                        2576.48,
                                        2576.48,
                                        2576.48,
                                        2576.48,
                                        2576.48,
                                        2576.48,
                                        2576.48,
                                        2576.48,
                                        2576.48,
                                        2576.48,
                                        2576.48,
                                        2576.48,
                                        2576.48,
                                        2576.48,
                                        2576.48,
                                        2576.48,
                                        2576.47,
                                        2576.47,
                                        2576.48,
                                        2576.47,
                                        2576.47,
                                        2576.48,
                                        2576.47,
                                        2576.48,
                                        2576.47,
                                        2576.48,
                                        2576.47,
                                        2576.47,
                                        2576.48,
                                        2576.48,
                                        2576.47,
                                        2576.48,
                                        2576.47,
                                        2576.48,
                                        2576.48,
                                        2576.47,
                                        2576.48,
                                        2576.48,
                                        2576.48,
                                        2576.48,
                                        2576.47,
                                        2576.47,
                                        2576.47,
                                        2576.48,
                                        2576.47,
                                        2576.47,
                                        2576.48,
                                        2576.47,
                                        2576.48,
                                        2576.47,
                                        2576.48,
                                        2576.47,
                                        2576.48,
                                        2576.47,
                                        2576.47,
                                        2576.47,
                                        2576.47,
                                        2576.48,
                                        2576.47,
                                        2576.48,
                                        2576.47,
                                        2576.48,
                                        2576.47,
                                        2576.48,
                                        2576.47,
                                        2576.48,
                                        2576.48,
                                        2576.48,
                                        2576.48,
                                        2576.47,
                                        2576.48,
                                        2576.48,
                                        2576.47,
                                        2576.48,
                                        2576.47,
                                        2576.47,
                                        2576.47,
                                        2576.47,
                                        2576.47,
                                        2576.48,
                                        2576.47,
                                        2576.48,
                                        2576.48,
                                        2576.48,
                                        2576.47,
                                        2576.48,
                                        2576.47,
                                        2576.48
                                    ]
                                }
                            ],
                            "layout": {
                                "barmode": "group",
                                "template": {
                                    "data": {
                                        "bar": [
                                            {
                                                "error_x": {
                                                    "color": "#2a3f5f"
                                                },
                                                "error_y": {
                                                    "color": "#2a3f5f"
                                                },
                                                "marker": {
                                                    "line": {
                                                        "color": "#E5ECF6",
                                                        "width": 0.5
                                                    },
                                                    "pattern": {
                                                        "fillmode": "overlay",
                                                        "size": 10,
                                                        "solidity": 0.2
                                                    }
                                                },
                                                "type": "bar"
                                            }
                                        ],
                                        "barpolar": [
                                            {
                                                "marker": {
                                                    "line": {
                                                        "color": "#E5ECF6",
                                                        "width": 0.5
                                                    },
                                                    "pattern": {
                                                        "fillmode": "overlay",
                                                        "size": 10,
                                                        "solidity": 0.2
                                                    }
                                                },
                                                "type": "barpolar"
                                            }
                                        ],
                                        "carpet": [
                                            {
                                                "aaxis": {
                                                    "endlinecolor": "#2a3f5f",
                                                    "gridcolor": "white",
                                                    "linecolor": "white",
                                                    "minorgridcolor": "white",
                                                    "startlinecolor": "#2a3f5f"
                                                },
                                                "baxis": {
                                                    "endlinecolor": "#2a3f5f",
                                                    "gridcolor": "white",
                                                    "linecolor": "white",
                                                    "minorgridcolor": "white",
                                                    "startlinecolor": "#2a3f5f"
                                                },
                                                "type": "carpet"
                                            }
                                        ],
                                        "choropleth": [
                                            {
                                                "colorbar": {
                                                    "outlinewidth": 0,
                                                    "ticks": ""
                                                },
                                                "type": "choropleth"
                                            }
                                        ],
                                        "contour": [
                                            {
                                                "colorbar": {
                                                    "outlinewidth": 0,
                                                    "ticks": ""
                                                },
                                                "colorscale": [
                                                    [
                                                        0,
                                                        "#0d0887"
                                                    ],
                                                    [
                                                        0.1111111111111111,
                                                        "#46039f"
                                                    ],
                                                    [
                                                        0.2222222222222222,
                                                        "#7201a8"
                                                    ],
                                                    [
                                                        0.3333333333333333,
                                                        "#9c179e"
                                                    ],
                                                    [
                                                        0.4444444444444444,
                                                        "#bd3786"
                                                    ],
                                                    [
                                                        0.5555555555555556,
                                                        "#d8576b"
                                                    ],
                                                    [
                                                        0.6666666666666666,
                                                        "#ed7953"
                                                    ],
                                                    [
                                                        0.7777777777777778,
                                                        "#fb9f3a"
                                                    ],
                                                    [
                                                        0.8888888888888888,
                                                        "#fdca26"
                                                    ],
                                                    [
                                                        1,
                                                        "#f0f921"
                                                    ]
                                                ],
                                                "type": "contour"
                                            }
                                        ],
                                        "contourcarpet": [
                                            {
                                                "colorbar": {
                                                    "outlinewidth": 0,
                                                    "ticks": ""
                                                },
                                                "type": "contourcarpet"
                                            }
                                        ],
                                        "heatmap": [
                                            {
                                                "colorbar": {
                                                    "outlinewidth": 0,
                                                    "ticks": ""
                                                },
                                                "colorscale": [
                                                    [
                                                        0,
                                                        "#0d0887"
                                                    ],
                                                    [
                                                        0.1111111111111111,
                                                        "#46039f"
                                                    ],
                                                    [
                                                        0.2222222222222222,
                                                        "#7201a8"
                                                    ],
                                                    [
                                                        0.3333333333333333,
                                                        "#9c179e"
                                                    ],
                                                    [
                                                        0.4444444444444444,
                                                        "#bd3786"
                                                    ],
                                                    [
                                                        0.5555555555555556,
                                                        "#d8576b"
                                                    ],
                                                    [
                                                        0.6666666666666666,
                                                        "#ed7953"
                                                    ],
                                                    [
                                                        0.7777777777777778,
                                                        "#fb9f3a"
                                                    ],
                                                    [
                                                        0.8888888888888888,
                                                        "#fdca26"
                                                    ],
                                                    [
                                                        1,
                                                        "#f0f921"
                                                    ]
                                                ],
                                                "type": "heatmap"
                                            }
                                        ],
                                        "heatmapgl": [
                                            {
                                                "colorbar": {
                                                    "outlinewidth": 0,
                                                    "ticks": ""
                                                },
                                                "colorscale": [
                                                    [
                                                        0,
                                                        "#0d0887"
                                                    ],
                                                    [
                                                        0.1111111111111111,
                                                        "#46039f"
                                                    ],
                                                    [
                                                        0.2222222222222222,
                                                        "#7201a8"
                                                    ],
                                                    [
                                                        0.3333333333333333,
                                                        "#9c179e"
                                                    ],
                                                    [
                                                        0.4444444444444444,
                                                        "#bd3786"
                                                    ],
                                                    [
                                                        0.5555555555555556,
                                                        "#d8576b"
                                                    ],
                                                    [
                                                        0.6666666666666666,
                                                        "#ed7953"
                                                    ],
                                                    [
                                                        0.7777777777777778,
                                                        "#fb9f3a"
                                                    ],
                                                    [
                                                        0.8888888888888888,
                                                        "#fdca26"
                                                    ],
                                                    [
                                                        1,
                                                        "#f0f921"
                                                    ]
                                                ],
                                                "type": "heatmapgl"
                                            }
                                        ],
                                        "histogram": [
                                            {
                                                "marker": {
                                                    "pattern": {
                                                        "fillmode": "overlay",
                                                        "size": 10,
                                                        "solidity": 0.2
                                                    }
                                                },
                                                "type": "histogram"
                                            }
                                        ],
                                        "histogram2d": [
                                            {
                                                "colorbar": {
                                                    "outlinewidth": 0,
                                                    "ticks": ""
                                                },
                                                "colorscale": [
                                                    [
                                                        0,
                                                        "#0d0887"
                                                    ],
                                                    [
                                                        0.1111111111111111,
                                                        "#46039f"
                                                    ],
                                                    [
                                                        0.2222222222222222,
                                                        "#7201a8"
                                                    ],
                                                    [
                                                        0.3333333333333333,
                                                        "#9c179e"
                                                    ],
                                                    [
                                                        0.4444444444444444,
                                                        "#bd3786"
                                                    ],
                                                    [
                                                        0.5555555555555556,
                                                        "#d8576b"
                                                    ],
                                                    [
                                                        0.6666666666666666,
                                                        "#ed7953"
                                                    ],
                                                    [
                                                        0.7777777777777778,
                                                        "#fb9f3a"
                                                    ],
                                                    [
                                                        0.8888888888888888,
                                                        "#fdca26"
                                                    ],
                                                    [
                                                        1,
                                                        "#f0f921"
                                                    ]
                                                ],
                                                "type": "histogram2d"
                                            }
                                        ],
                                        "histogram2dcontour": [
                                            {
                                                "colorbar": {
                                                    "outlinewidth": 0,
                                                    "ticks": ""
                                                },
                                                "colorscale": [
                                                    [
                                                        0,
                                                        "#0d0887"
                                                    ],
                                                    [
                                                        0.1111111111111111,
                                                        "#46039f"
                                                    ],
                                                    [
                                                        0.2222222222222222,
                                                        "#7201a8"
                                                    ],
                                                    [
                                                        0.3333333333333333,
                                                        "#9c179e"
                                                    ],
                                                    [
                                                        0.4444444444444444,
                                                        "#bd3786"
                                                    ],
                                                    [
                                                        0.5555555555555556,
                                                        "#d8576b"
                                                    ],
                                                    [
                                                        0.6666666666666666,
                                                        "#ed7953"
                                                    ],
                                                    [
                                                        0.7777777777777778,
                                                        "#fb9f3a"
                                                    ],
                                                    [
                                                        0.8888888888888888,
                                                        "#fdca26"
                                                    ],
                                                    [
                                                        1,
                                                        "#f0f921"
                                                    ]
                                                ],
                                                "type": "histogram2dcontour"
                                            }
                                        ],
                                        "mesh3d": [
                                            {
                                                "colorbar": {
                                                    "outlinewidth": 0,
                                                    "ticks": ""
                                                },
                                                "type": "mesh3d"
                                            }
                                        ],
                                        "parcoords": [
                                            {
                                                "line": {
                                                    "colorbar": {
                                                        "outlinewidth": 0,
                                                        "ticks": ""
                                                    }
                                                },
                                                "type": "parcoords"
                                            }
                                        ],
                                        "pie": [
                                            {
                                                "automargin": true,
                                                "type": "pie"
                                            }
                                        ],
                                        "scatter": [
                                            {
                                                "fillpattern": {
                                                    "fillmode": "overlay",
                                                    "size": 10,
                                                    "solidity": 0.2
                                                },
                                                "type": "scatter"
                                            }
                                        ],
                                        "scatter3d": [
                                            {
                                                "line": {
                                                    "colorbar": {
                                                        "outlinewidth": 0,
                                                        "ticks": ""
                                                    }
                                                },
                                                "marker": {
                                                    "colorbar": {
                                                        "outlinewidth": 0,
                                                        "ticks": ""
                                                    }
                                                },
                                                "type": "scatter3d"
                                            }
                                        ],
                                        "scattercarpet": [
                                            {
                                                "marker": {
                                                    "colorbar": {
                                                        "outlinewidth": 0,
                                                        "ticks": ""
                                                    }
                                                },
                                                "type": "scattercarpet"
                                            }
                                        ],
                                        "scattergeo": [
                                            {
                                                "marker": {
                                                    "colorbar": {
                                                        "outlinewidth": 0,
                                                        "ticks": ""
                                                    }
                                                },
                                                "type": "scattergeo"
                                            }
                                        ],
                                        "scattergl": [
                                            {
                                                "marker": {
                                                    "colorbar": {
                                                        "outlinewidth": 0,
                                                        "ticks": ""
                                                    }
                                                },
                                                "type": "scattergl"
                                            }
                                        ],
                                        "scattermapbox": [
                                            {
                                                "marker": {
                                                    "colorbar": {
                                                        "outlinewidth": 0,
                                                        "ticks": ""
                                                    }
                                                },
                                                "type": "scattermapbox"
                                            }
                                        ],
                                        "scatterpolar": [
                                            {
                                                "marker": {
                                                    "colorbar": {
                                                        "outlinewidth": 0,
                                                        "ticks": ""
                                                    }
                                                },
                                                "type": "scatterpolar"
                                            }
                                        ],
                                        "scatterpolargl": [
                                            {
                                                "marker": {
                                                    "colorbar": {
                                                        "outlinewidth": 0,
                                                        "ticks": ""
                                                    }
                                                },
                                                "type": "scatterpolargl"
                                            }
                                        ],
                                        "scatterternary": [
                                            {
                                                "marker": {
                                                    "colorbar": {
                                                        "outlinewidth": 0,
                                                        "ticks": ""
                                                    }
                                                },
                                                "type": "scatterternary"
                                            }
                                        ],
                                        "surface": [
                                            {
                                                "colorbar": {
                                                    "outlinewidth": 0,
                                                    "ticks": ""
                                                },
                                                "colorscale": [
                                                    [
                                                        0,
                                                        "#0d0887"
                                                    ],
                                                    [
                                                        0.1111111111111111,
                                                        "#46039f"
                                                    ],
                                                    [
                                                        0.2222222222222222,
                                                        "#7201a8"
                                                    ],
                                                    [
                                                        0.3333333333333333,
                                                        "#9c179e"
                                                    ],
                                                    [
                                                        0.4444444444444444,
                                                        "#bd3786"
                                                    ],
                                                    [
                                                        0.5555555555555556,
                                                        "#d8576b"
                                                    ],
                                                    [
                                                        0.6666666666666666,
                                                        "#ed7953"
                                                    ],
                                                    [
                                                        0.7777777777777778,
                                                        "#fb9f3a"
                                                    ],
                                                    [
                                                        0.8888888888888888,
                                                        "#fdca26"
                                                    ],
                                                    [
                                                        1,
                                                        "#f0f921"
                                                    ]
                                                ],
                                                "type": "surface"
                                            }
                                        ],
                                        "table": [
                                            {
                                                "cells": {
                                                    "fill": {
                                                        "color": "#EBF0F8"
                                                    },
                                                    "line": {
                                                        "color": "white"
                                                    }
                                                },
                                                "header": {
                                                    "fill": {
                                                        "color": "#C8D4E3"
                                                    },
                                                    "line": {
                                                        "color": "white"
                                                    }
                                                },
                                                "type": "table"
                                            }
                                        ]
                                    },
                                    "layout": {
                                        "annotationdefaults": {
                                            "arrowcolor": "#2a3f5f",
                                            "arrowhead": 0,
                                            "arrowwidth": 1
                                        },
                                        "autotypenumbers": "strict",
                                        "coloraxis": {
                                            "colorbar": {
                                                "outlinewidth": 0,
                                                "ticks": ""
                                            }
                                        },
                                        "colorscale": {
                                            "diverging": [
                                                [
                                                    0,
                                                    "#8e0152"
                                                ],
                                                [
                                                    0.1,
                                                    "#c51b7d"
                                                ],
                                                [
                                                    0.2,
                                                    "#de77ae"
                                                ],
                                                [
                                                    0.3,
                                                    "#f1b6da"
                                                ],
                                                [
                                                    0.4,
                                                    "#fde0ef"
                                                ],
                                                [
                                                    0.5,
                                                    "#f7f7f7"
                                                ],
                                                [
                                                    0.6,
                                                    "#e6f5d0"
                                                ],
                                                [
                                                    0.7,
                                                    "#b8e186"
                                                ],
                                                [
                                                    0.8,
                                                    "#7fbc41"
                                                ],
                                                [
                                                    0.9,
                                                    "#4d9221"
                                                ],
                                                [
                                                    1,
                                                    "#276419"
                                                ]
                                            ],
                                            "sequential": [
                                                [
                                                    0,
                                                    "#0d0887"
                                                ],
                                                [
                                                    0.1111111111111111,
                                                    "#46039f"
                                                ],
                                                [
                                                    0.2222222222222222,
                                                    "#7201a8"
                                                ],
                                                [
                                                    0.3333333333333333,
                                                    "#9c179e"
                                                ],
                                                [
                                                    0.4444444444444444,
                                                    "#bd3786"
                                                ],
                                                [
                                                    0.5555555555555556,
                                                    "#d8576b"
                                                ],
                                                [
                                                    0.6666666666666666,
                                                    "#ed7953"
                                                ],
                                                [
                                                    0.7777777777777778,
                                                    "#fb9f3a"
                                                ],
                                                [
                                                    0.8888888888888888,
                                                    "#fdca26"
                                                ],
                                                [
                                                    1,
                                                    "#f0f921"
                                                ]
                                            ],
                                            "sequentialminus": [
                                                [
                                                    0,
                                                    "#0d0887"
                                                ],
                                                [
                                                    0.1111111111111111,
                                                    "#46039f"
                                                ],
                                                [
                                                    0.2222222222222222,
                                                    "#7201a8"
                                                ],
                                                [
                                                    0.3333333333333333,
                                                    "#9c179e"
                                                ],
                                                [
                                                    0.4444444444444444,
                                                    "#bd3786"
                                                ],
                                                [
                                                    0.5555555555555556,
                                                    "#d8576b"
                                                ],
                                                [
                                                    0.6666666666666666,
                                                    "#ed7953"
                                                ],
                                                [
                                                    0.7777777777777778,
                                                    "#fb9f3a"
                                                ],
                                                [
                                                    0.8888888888888888,
                                                    "#fdca26"
                                                ],
                                                [
                                                    1,
                                                    "#f0f921"
                                                ]
                                            ]
                                        },
                                        "colorway": [
                                            "#636efa",
                                            "#EF553B",
                                            "#00cc96",
                                            "#ab63fa",
                                            "#FFA15A",
                                            "#19d3f3",
                                            "#FF6692",
                                            "#B6E880",
                                            "#FF97FF",
                                            "#FECB52"
                                        ],
                                        "font": {
                                            "color": "#2a3f5f"
                                        },
                                        "geo": {
                                            "bgcolor": "white",
                                            "lakecolor": "white",
                                            "landcolor": "#E5ECF6",
                                            "showlakes": true,
                                            "showland": true,
                                            "subunitcolor": "white"
                                        },
                                        "hoverlabel": {
                                            "align": "left"
                                        },
                                        "hovermode": "closest",
                                        "mapbox": {
                                            "style": "light"
                                        },
                                        "paper_bgcolor": "white",
                                        "plot_bgcolor": "#E5ECF6",
                                        "polar": {
                                            "angularaxis": {
                                                "gridcolor": "white",
                                                "linecolor": "white",
                                                "ticks": ""
                                            },
                                            "bgcolor": "#E5ECF6",
                                            "radialaxis": {
                                                "gridcolor": "white",
                                                "linecolor": "white",
                                                "ticks": ""
                                            }
                                        },
                                        "scene": {
                                            "xaxis": {
                                                "backgroundcolor": "#E5ECF6",
                                                "gridcolor": "white",
                                                "gridwidth": 2,
                                                "linecolor": "white",
                                                "showbackground": true,
                                                "ticks": "",
                                                "zerolinecolor": "white"
                                            },
                                            "yaxis": {
                                                "backgroundcolor": "#E5ECF6",
                                                "gridcolor": "white",
                                                "gridwidth": 2,
                                                "linecolor": "white",
                                                "showbackground": true,
                                                "ticks": "",
                                                "zerolinecolor": "white"
                                            },
                                            "zaxis": {
                                                "backgroundcolor": "#E5ECF6",
                                                "gridcolor": "white",
                                                "gridwidth": 2,
                                                "linecolor": "white",
                                                "showbackground": true,
                                                "ticks": "",
                                                "zerolinecolor": "white"
                                            }
                                        },
                                        "shapedefaults": {
                                            "line": {
                                                "color": "#2a3f5f"
                                            }
                                        },
                                        "ternary": {
                                            "aaxis": {
                                                "gridcolor": "white",
                                                "linecolor": "white",
                                                "ticks": ""
                                            },
                                            "baxis": {
                                                "gridcolor": "white",
                                                "linecolor": "white",
                                                "ticks": ""
                                            },
                                            "bgcolor": "#E5ECF6",
                                            "caxis": {
                                                "gridcolor": "white",
                                                "linecolor": "white",
                                                "ticks": ""
                                            }
                                        },
                                        "title": {
                                            "x": 0.05
                                        },
                                        "xaxis": {
                                            "automargin": true,
                                            "gridcolor": "white",
                                            "linecolor": "white",
                                            "ticks": "",
                                            "title": {
                                                "standoff": 15
                                            },
                                            "zerolinecolor": "white",
                                            "zerolinewidth": 2
                                        },
                                        "yaxis": {
                                            "automargin": true,
                                            "gridcolor": "white",
                                            "linecolor": "white",
                                            "ticks": "",
                                            "title": {
                                                "standoff": 15
                                            },
                                            "zerolinecolor": "white",
                                            "zerolinewidth": 2
                                        }
                                    }
                                },
                                "title": {
                                    "text": "Bar Chart Over Period of Dates"
                                },
                                "xaxis": {
                                    "title": {
                                        "text": "Date"
                                    }
                                },
                                "yaxis": {
                                    "title": {
                                        "text": "Value"
                                    }
                                }
                            }
                        }
                    },
                    "metadata": {},
                    "output_type": "display_data"
                }
            ],
            "source": [
                "\n",
                "# bar plot next to each other for each investment type\n",
                "import plotly.graph_objects as go\n",
                "    \n",
                "a = go.Bar(x=df['date'], y=df['properties_monthly_income'], name='Category A')\n",
                "b = go.Bar(x=df['date'], y=df['properties_monthly_mortgage'], name='Category A')\n",
                "\n",
                "# Customize layout (optional)\n",
                "layout = go.Layout(\n",
                "    title='Bar Chart Over Period of Dates',\n",
                "    xaxis_title='Date',\n",
                "    yaxis_title='Value',\n",
                "    barmode='group' # Use 'group' mode to place bars next to each other\n",
                ")\n",
                "\n",
                "# Create figure and add traces\n",
                "fig = go.Figure(data=[a, b], layout=layout)\n",
                "\n",
                "fig.show()\n",
                "\n"
            ]
        },
        {
            "cell_type": "markdown",
            "metadata": {},
            "source": [
                "## Properties specific"
            ]
        },
        {
            "cell_type": "code",
            "execution_count": 6,
            "metadata": {},
            "outputs": [
                {
                    "data": {
                        "application/vnd.plotly.v1+json": {
                            "config": {
                                "plotlyServerURL": "https://plot.ly"
                            },
                            "data": [
                                {
                                    "mode": "lines",
                                    "name": "market value",
                                    "type": "scatter",
                                    "x": [
                                        "2024-04-01T00:00:00",
                                        "2024-05-01T00:00:00",
                                        "2024-06-01T00:00:00",
                                        "2024-07-01T00:00:00",
                                        "2024-08-01T00:00:00",
                                        "2024-09-01T00:00:00",
                                        "2024-10-01T00:00:00",
                                        "2024-11-01T00:00:00",
                                        "2024-12-01T00:00:00",
                                        "2025-01-01T00:00:00",
                                        "2025-02-01T00:00:00",
                                        "2025-03-01T00:00:00",
                                        "2025-04-01T00:00:00",
                                        "2025-05-01T00:00:00",
                                        "2025-06-01T00:00:00",
                                        "2025-07-01T00:00:00",
                                        "2025-08-01T00:00:00",
                                        "2025-09-01T00:00:00",
                                        "2025-10-01T00:00:00",
                                        "2025-11-01T00:00:00",
                                        "2025-12-01T00:00:00",
                                        "2026-01-01T00:00:00",
                                        "2026-02-01T00:00:00",
                                        "2026-03-01T00:00:00",
                                        "2026-04-01T00:00:00",
                                        "2026-05-01T00:00:00",
                                        "2026-06-01T00:00:00",
                                        "2026-07-01T00:00:00",
                                        "2026-08-01T00:00:00",
                                        "2026-09-01T00:00:00",
                                        "2026-10-01T00:00:00",
                                        "2026-11-01T00:00:00",
                                        "2026-12-01T00:00:00",
                                        "2027-01-01T00:00:00",
                                        "2027-02-01T00:00:00",
                                        "2027-03-01T00:00:00",
                                        "2027-04-01T00:00:00",
                                        "2027-05-01T00:00:00",
                                        "2027-06-01T00:00:00",
                                        "2027-07-01T00:00:00",
                                        "2027-08-01T00:00:00",
                                        "2027-09-01T00:00:00",
                                        "2027-10-01T00:00:00",
                                        "2027-11-01T00:00:00",
                                        "2027-12-01T00:00:00",
                                        "2028-01-01T00:00:00",
                                        "2028-02-01T00:00:00",
                                        "2028-03-01T00:00:00",
                                        "2028-04-01T00:00:00",
                                        "2028-05-01T00:00:00",
                                        "2028-06-01T00:00:00",
                                        "2028-07-01T00:00:00",
                                        "2028-08-01T00:00:00",
                                        "2028-09-01T00:00:00",
                                        "2028-10-01T00:00:00",
                                        "2028-11-01T00:00:00",
                                        "2028-12-01T00:00:00",
                                        "2029-01-01T00:00:00",
                                        "2029-02-01T00:00:00",
                                        "2029-03-01T00:00:00",
                                        "2029-04-01T00:00:00",
                                        "2029-05-01T00:00:00",
                                        "2029-06-01T00:00:00",
                                        "2029-07-01T00:00:00",
                                        "2029-08-01T00:00:00",
                                        "2029-09-01T00:00:00",
                                        "2029-10-01T00:00:00",
                                        "2029-11-01T00:00:00",
                                        "2029-12-01T00:00:00",
                                        "2030-01-01T00:00:00",
                                        "2030-02-01T00:00:00",
                                        "2030-03-01T00:00:00",
                                        "2030-04-01T00:00:00",
                                        "2030-05-01T00:00:00",
                                        "2030-06-01T00:00:00",
                                        "2030-07-01T00:00:00",
                                        "2030-08-01T00:00:00",
                                        "2030-09-01T00:00:00",
                                        "2030-10-01T00:00:00",
                                        "2030-11-01T00:00:00",
                                        "2030-12-01T00:00:00",
                                        "2031-01-01T00:00:00",
                                        "2031-02-01T00:00:00",
                                        "2031-03-01T00:00:00",
                                        "2031-04-01T00:00:00",
                                        "2031-05-01T00:00:00",
                                        "2031-06-01T00:00:00",
                                        "2031-07-01T00:00:00",
                                        "2031-08-01T00:00:00",
                                        "2031-09-01T00:00:00",
                                        "2031-10-01T00:00:00",
                                        "2031-11-01T00:00:00",
                                        "2031-12-01T00:00:00",
                                        "2032-01-01T00:00:00",
                                        "2032-02-01T00:00:00",
                                        "2032-03-01T00:00:00",
                                        "2032-04-01T00:00:00",
                                        "2032-05-01T00:00:00",
                                        "2032-06-01T00:00:00",
                                        "2032-07-01T00:00:00",
                                        "2032-08-01T00:00:00",
                                        "2032-09-01T00:00:00",
                                        "2032-10-01T00:00:00",
                                        "2032-11-01T00:00:00",
                                        "2032-12-01T00:00:00",
                                        "2033-01-01T00:00:00",
                                        "2033-02-01T00:00:00",
                                        "2033-03-01T00:00:00",
                                        "2033-04-01T00:00:00",
                                        "2033-05-01T00:00:00",
                                        "2033-06-01T00:00:00",
                                        "2033-07-01T00:00:00",
                                        "2033-08-01T00:00:00",
                                        "2033-09-01T00:00:00",
                                        "2033-10-01T00:00:00",
                                        "2033-11-01T00:00:00",
                                        "2033-12-01T00:00:00",
                                        "2034-01-01T00:00:00",
                                        "2034-02-01T00:00:00",
                                        "2034-03-01T00:00:00",
                                        "2034-04-01T00:00:00",
                                        "2034-05-01T00:00:00",
                                        "2034-06-01T00:00:00",
                                        "2034-07-01T00:00:00",
                                        "2034-08-01T00:00:00",
                                        "2034-09-01T00:00:00",
                                        "2034-10-01T00:00:00",
                                        "2034-11-01T00:00:00",
                                        "2034-12-01T00:00:00",
                                        "2035-01-01T00:00:00",
                                        "2035-02-01T00:00:00",
                                        "2035-03-01T00:00:00",
                                        "2035-04-01T00:00:00",
                                        "2035-05-01T00:00:00",
                                        "2035-06-01T00:00:00",
                                        "2035-07-01T00:00:00",
                                        "2035-08-01T00:00:00",
                                        "2035-09-01T00:00:00",
                                        "2035-10-01T00:00:00",
                                        "2035-11-01T00:00:00",
                                        "2035-12-01T00:00:00",
                                        "2036-01-01T00:00:00",
                                        "2036-02-01T00:00:00",
                                        "2036-03-01T00:00:00",
                                        "2036-04-01T00:00:00",
                                        "2036-05-01T00:00:00",
                                        "2036-06-01T00:00:00",
                                        "2036-07-01T00:00:00",
                                        "2036-08-01T00:00:00",
                                        "2036-09-01T00:00:00",
                                        "2036-10-01T00:00:00",
                                        "2036-11-01T00:00:00",
                                        "2036-12-01T00:00:00",
                                        "2037-01-01T00:00:00",
                                        "2037-02-01T00:00:00",
                                        "2037-03-01T00:00:00",
                                        "2037-04-01T00:00:00",
                                        "2037-05-01T00:00:00",
                                        "2037-06-01T00:00:00",
                                        "2037-07-01T00:00:00",
                                        "2037-08-01T00:00:00",
                                        "2037-09-01T00:00:00",
                                        "2037-10-01T00:00:00",
                                        "2037-11-01T00:00:00",
                                        "2037-12-01T00:00:00",
                                        "2038-01-01T00:00:00",
                                        "2038-02-01T00:00:00",
                                        "2038-03-01T00:00:00",
                                        "2038-04-01T00:00:00",
                                        "2038-05-01T00:00:00",
                                        "2038-06-01T00:00:00",
                                        "2038-07-01T00:00:00",
                                        "2038-08-01T00:00:00",
                                        "2038-09-01T00:00:00",
                                        "2038-10-01T00:00:00",
                                        "2038-11-01T00:00:00",
                                        "2038-12-01T00:00:00",
                                        "2039-01-01T00:00:00",
                                        "2039-02-01T00:00:00",
                                        "2039-03-01T00:00:00",
                                        "2039-04-01T00:00:00"
                                    ],
                                    "y": [
                                        520000,
                                        520866.67,
                                        521734.78,
                                        522604.34,
                                        523475.35,
                                        524347.81,
                                        525221.72,
                                        526097.09,
                                        526973.92,
                                        527852.21,
                                        528731.96,
                                        529613.18,
                                        530495.87,
                                        531380.03,
                                        532265.66,
                                        533152.77,
                                        534041.36,
                                        534931.43,
                                        535822.98,
                                        536716.02,
                                        537610.55,
                                        538506.57,
                                        539404.08,
                                        540303.09,
                                        541203.6,
                                        542105.61,
                                        543009.12,
                                        543914.14,
                                        544820.66,
                                        545728.69,
                                        546638.24,
                                        547549.3,
                                        548461.88,
                                        549375.98,
                                        550291.61,
                                        551208.76,
                                        552127.44,
                                        553047.65,
                                        553969.4,
                                        554892.68,
                                        555817.5,
                                        556743.86,
                                        557671.77,
                                        558601.22,
                                        559532.22,
                                        560464.77,
                                        561398.88,
                                        562334.54,
                                        563271.76,
                                        564210.55,
                                        565150.9,
                                        566092.82,
                                        567036.31,
                                        567981.37,
                                        568928.01,
                                        569876.22,
                                        570826.01,
                                        571777.39,
                                        572730.35,
                                        573684.9,
                                        574641.04,
                                        575598.78,
                                        576558.11,
                                        577519.04,
                                        578481.57,
                                        579445.71,
                                        580411.45,
                                        581378.8,
                                        582347.76,
                                        583318.34,
                                        584290.54,
                                        585264.36,
                                        586239.8,
                                        587216.87,
                                        588195.56,
                                        589175.89,
                                        590157.85,
                                        591141.45,
                                        592126.69,
                                        593113.57,
                                        594102.09,
                                        595092.26,
                                        596084.08,
                                        597077.55,
                                        598072.68,
                                        599069.47,
                                        600067.92,
                                        601068.03,
                                        602069.81,
                                        603073.26,
                                        604078.38,
                                        605085.18,
                                        606093.66,
                                        607103.82,
                                        608115.66,
                                        609129.19,
                                        610144.41,
                                        611161.32,
                                        612179.92,
                                        613200.22,
                                        614222.22,
                                        615245.92,
                                        616271.33,
                                        617298.45,
                                        618327.28,
                                        619357.83,
                                        620390.09,
                                        621424.07,
                                        622459.78,
                                        623497.21,
                                        624536.37,
                                        625577.26,
                                        626619.89,
                                        627664.26,
                                        628710.37,
                                        629758.22,
                                        630807.82,
                                        631859.17,
                                        632912.27,
                                        633967.12,
                                        635023.73,
                                        636082.1,
                                        637142.24,
                                        638204.14,
                                        639267.81,
                                        640333.26,
                                        641400.48,
                                        642469.48,
                                        643540.26,
                                        644612.83,
                                        645687.18,
                                        646763.33,
                                        647841.27,
                                        648921.01,
                                        650002.55,
                                        651085.89,
                                        652171.03,
                                        653257.98,
                                        654346.74,
                                        655437.32,
                                        656529.72,
                                        657623.94,
                                        658719.98,
                                        659817.85,
                                        660917.55,
                                        662019.08,
                                        663122.45,
                                        664227.65,
                                        665334.7,
                                        666443.59,
                                        667554.33,
                                        668666.92,
                                        669781.36,
                                        670897.66,
                                        672015.82,
                                        673135.85,
                                        674257.74,
                                        675381.5,
                                        676507.14,
                                        677634.65,
                                        678764.04,
                                        679895.31,
                                        681028.47,
                                        682163.52,
                                        683300.46,
                                        684439.29,
                                        685580.02,
                                        686722.65,
                                        687867.19,
                                        689013.64,
                                        690162,
                                        691312.27,
                                        692464.46,
                                        693618.57,
                                        694774.6,
                                        695932.56,
                                        697092.45,
                                        698254.27,
                                        699418.03,
                                        700583.73,
                                        701751.37
                                    ]
                                },
                                {
                                    "mode": "lines",
                                    "name": "net cash value",
                                    "type": "scatter",
                                    "x": [
                                        "2024-04-01T00:00:00",
                                        "2024-05-01T00:00:00",
                                        "2024-06-01T00:00:00",
                                        "2024-07-01T00:00:00",
                                        "2024-08-01T00:00:00",
                                        "2024-09-01T00:00:00",
                                        "2024-10-01T00:00:00",
                                        "2024-11-01T00:00:00",
                                        "2024-12-01T00:00:00",
                                        "2025-01-01T00:00:00",
                                        "2025-02-01T00:00:00",
                                        "2025-03-01T00:00:00",
                                        "2025-04-01T00:00:00",
                                        "2025-05-01T00:00:00",
                                        "2025-06-01T00:00:00",
                                        "2025-07-01T00:00:00",
                                        "2025-08-01T00:00:00",
                                        "2025-09-01T00:00:00",
                                        "2025-10-01T00:00:00",
                                        "2025-11-01T00:00:00",
                                        "2025-12-01T00:00:00",
                                        "2026-01-01T00:00:00",
                                        "2026-02-01T00:00:00",
                                        "2026-03-01T00:00:00",
                                        "2026-04-01T00:00:00",
                                        "2026-05-01T00:00:00",
                                        "2026-06-01T00:00:00",
                                        "2026-07-01T00:00:00",
                                        "2026-08-01T00:00:00",
                                        "2026-09-01T00:00:00",
                                        "2026-10-01T00:00:00",
                                        "2026-11-01T00:00:00",
                                        "2026-12-01T00:00:00",
                                        "2027-01-01T00:00:00",
                                        "2027-02-01T00:00:00",
                                        "2027-03-01T00:00:00",
                                        "2027-04-01T00:00:00",
                                        "2027-05-01T00:00:00",
                                        "2027-06-01T00:00:00",
                                        "2027-07-01T00:00:00",
                                        "2027-08-01T00:00:00",
                                        "2027-09-01T00:00:00",
                                        "2027-10-01T00:00:00",
                                        "2027-11-01T00:00:00",
                                        "2027-12-01T00:00:00",
                                        "2028-01-01T00:00:00",
                                        "2028-02-01T00:00:00",
                                        "2028-03-01T00:00:00",
                                        "2028-04-01T00:00:00",
                                        "2028-05-01T00:00:00",
                                        "2028-06-01T00:00:00",
                                        "2028-07-01T00:00:00",
                                        "2028-08-01T00:00:00",
                                        "2028-09-01T00:00:00",
                                        "2028-10-01T00:00:00",
                                        "2028-11-01T00:00:00",
                                        "2028-12-01T00:00:00",
                                        "2029-01-01T00:00:00",
                                        "2029-02-01T00:00:00",
                                        "2029-03-01T00:00:00",
                                        "2029-04-01T00:00:00",
                                        "2029-05-01T00:00:00",
                                        "2029-06-01T00:00:00",
                                        "2029-07-01T00:00:00",
                                        "2029-08-01T00:00:00",
                                        "2029-09-01T00:00:00",
                                        "2029-10-01T00:00:00",
                                        "2029-11-01T00:00:00",
                                        "2029-12-01T00:00:00",
                                        "2030-01-01T00:00:00",
                                        "2030-02-01T00:00:00",
                                        "2030-03-01T00:00:00",
                                        "2030-04-01T00:00:00",
                                        "2030-05-01T00:00:00",
                                        "2030-06-01T00:00:00",
                                        "2030-07-01T00:00:00",
                                        "2030-08-01T00:00:00",
                                        "2030-09-01T00:00:00",
                                        "2030-10-01T00:00:00",
                                        "2030-11-01T00:00:00",
                                        "2030-12-01T00:00:00",
                                        "2031-01-01T00:00:00",
                                        "2031-02-01T00:00:00",
                                        "2031-03-01T00:00:00",
                                        "2031-04-01T00:00:00",
                                        "2031-05-01T00:00:00",
                                        "2031-06-01T00:00:00",
                                        "2031-07-01T00:00:00",
                                        "2031-08-01T00:00:00",
                                        "2031-09-01T00:00:00",
                                        "2031-10-01T00:00:00",
                                        "2031-11-01T00:00:00",
                                        "2031-12-01T00:00:00",
                                        "2032-01-01T00:00:00",
                                        "2032-02-01T00:00:00",
                                        "2032-03-01T00:00:00",
                                        "2032-04-01T00:00:00",
                                        "2032-05-01T00:00:00",
                                        "2032-06-01T00:00:00",
                                        "2032-07-01T00:00:00",
                                        "2032-08-01T00:00:00",
                                        "2032-09-01T00:00:00",
                                        "2032-10-01T00:00:00",
                                        "2032-11-01T00:00:00",
                                        "2032-12-01T00:00:00",
                                        "2033-01-01T00:00:00",
                                        "2033-02-01T00:00:00",
                                        "2033-03-01T00:00:00",
                                        "2033-04-01T00:00:00",
                                        "2033-05-01T00:00:00",
                                        "2033-06-01T00:00:00",
                                        "2033-07-01T00:00:00",
                                        "2033-08-01T00:00:00",
                                        "2033-09-01T00:00:00",
                                        "2033-10-01T00:00:00",
                                        "2033-11-01T00:00:00",
                                        "2033-12-01T00:00:00",
                                        "2034-01-01T00:00:00",
                                        "2034-02-01T00:00:00",
                                        "2034-03-01T00:00:00",
                                        "2034-04-01T00:00:00",
                                        "2034-05-01T00:00:00",
                                        "2034-06-01T00:00:00",
                                        "2034-07-01T00:00:00",
                                        "2034-08-01T00:00:00",
                                        "2034-09-01T00:00:00",
                                        "2034-10-01T00:00:00",
                                        "2034-11-01T00:00:00",
                                        "2034-12-01T00:00:00",
                                        "2035-01-01T00:00:00",
                                        "2035-02-01T00:00:00",
                                        "2035-03-01T00:00:00",
                                        "2035-04-01T00:00:00",
                                        "2035-05-01T00:00:00",
                                        "2035-06-01T00:00:00",
                                        "2035-07-01T00:00:00",
                                        "2035-08-01T00:00:00",
                                        "2035-09-01T00:00:00",
                                        "2035-10-01T00:00:00",
                                        "2035-11-01T00:00:00",
                                        "2035-12-01T00:00:00",
                                        "2036-01-01T00:00:00",
                                        "2036-02-01T00:00:00",
                                        "2036-03-01T00:00:00",
                                        "2036-04-01T00:00:00",
                                        "2036-05-01T00:00:00",
                                        "2036-06-01T00:00:00",
                                        "2036-07-01T00:00:00",
                                        "2036-08-01T00:00:00",
                                        "2036-09-01T00:00:00",
                                        "2036-10-01T00:00:00",
                                        "2036-11-01T00:00:00",
                                        "2036-12-01T00:00:00",
                                        "2037-01-01T00:00:00",
                                        "2037-02-01T00:00:00",
                                        "2037-03-01T00:00:00",
                                        "2037-04-01T00:00:00",
                                        "2037-05-01T00:00:00",
                                        "2037-06-01T00:00:00",
                                        "2037-07-01T00:00:00",
                                        "2037-08-01T00:00:00",
                                        "2037-09-01T00:00:00",
                                        "2037-10-01T00:00:00",
                                        "2037-11-01T00:00:00",
                                        "2037-12-01T00:00:00",
                                        "2038-01-01T00:00:00",
                                        "2038-02-01T00:00:00",
                                        "2038-03-01T00:00:00",
                                        "2038-04-01T00:00:00",
                                        "2038-05-01T00:00:00",
                                        "2038-06-01T00:00:00",
                                        "2038-07-01T00:00:00",
                                        "2038-08-01T00:00:00",
                                        "2038-09-01T00:00:00",
                                        "2038-10-01T00:00:00",
                                        "2038-11-01T00:00:00",
                                        "2038-12-01T00:00:00",
                                        "2039-01-01T00:00:00",
                                        "2039-02-01T00:00:00",
                                        "2039-03-01T00:00:00",
                                        "2039-04-01T00:00:00"
                                    ],
                                    "y": [
                                        228000,
                                        229579.22,
                                        231164.43,
                                        232755.66,
                                        234352.95,
                                        235956.33,
                                        237565.82,
                                        239181.47,
                                        240803.3,
                                        242431.35,
                                        244065.64,
                                        245706.22,
                                        247353.12,
                                        249006.37,
                                        250665.99,
                                        252332.04,
                                        254004.54,
                                        255683.52,
                                        257369.02,
                                        259061.08,
                                        260759.73,
                                        262465,
                                        264176.92,
                                        265895.54,
                                        267620.9,
                                        269353.02,
                                        271091.94,
                                        272837.7,
                                        274590.33,
                                        276349.87,
                                        278116.37,
                                        279889.85,
                                        281670.35,
                                        283457.91,
                                        285252.58,
                                        287054.38,
                                        288863.35,
                                        290679.54,
                                        292502.99,
                                        294333.72,
                                        296171.79,
                                        298017.22,
                                        299870.07,
                                        301730.37,
                                        303598.16,
                                        305473.48,
                                        307356.38,
                                        309246.88,
                                        311145.04,
                                        313050.9,
                                        314964.49,
                                        316885.87,
                                        318815.07,
                                        320752.13,
                                        322697.1,
                                        324650.02,
                                        326610.93,
                                        328579.88,
                                        330556.91,
                                        332542.07,
                                        334535.39,
                                        336536.94,
                                        338546.74,
                                        340564.84,
                                        342591.29,
                                        344626.14,
                                        346669.43,
                                        348721.21,
                                        350781.52,
                                        352850.42,
                                        354927.95,
                                        357014.15,
                                        359109.07,
                                        361212.77,
                                        363325.28,
                                        365446.67,
                                        367576.97,
                                        369716.24,
                                        371864.53,
                                        374021.88,
                                        376188.34,
                                        378363.97,
                                        380548.82,
                                        382742.94,
                                        384946.38,
                                        387159.19,
                                        389381.43,
                                        391613.14,
                                        393854.38,
                                        396105.2,
                                        398365.65,
                                        400635.8,
                                        402915.69,
                                        405205.38,
                                        407504.91,
                                        409814.35,
                                        412133.76,
                                        414463.18,
                                        416802.67,
                                        419152.29,
                                        421512.1,
                                        423882.15,
                                        426262.5,
                                        428653.21,
                                        431054.33,
                                        433465.93,
                                        435888.06,
                                        438320.78,
                                        440764.16,
                                        443218.25,
                                        445683.1,
                                        448158.78,
                                        450645.37,
                                        453142.91,
                                        455651.46,
                                        458171.1,
                                        460701.87,
                                        463243.86,
                                        465797.1,
                                        468361.68,
                                        470937.65,
                                        473525.07,
                                        476124.03,
                                        478734.58,
                                        481356.77,
                                        483990.7,
                                        486636.4,
                                        489293.97,
                                        491963.46,
                                        494644.93,
                                        497338.46,
                                        500044.13,
                                        502761.99,
                                        505492.12,
                                        508234.58,
                                        510989.44,
                                        513756.77,
                                        516536.66,
                                        519329.15,
                                        522134.34,
                                        524952.3,
                                        527783.09,
                                        530626.79,
                                        533483.47,
                                        536353.22,
                                        539236.08,
                                        542132.17,
                                        545041.52,
                                        547964.24,
                                        550900.39,
                                        553850.05,
                                        556813.31,
                                        559790.22,
                                        562780.89,
                                        565785.37,
                                        568803.78,
                                        571836.15,
                                        574882.6,
                                        577943.19,
                                        581018.01,
                                        584107.14,
                                        587210.66,
                                        590328.66,
                                        593461.21,
                                        596608.41,
                                        599770.34,
                                        602947.07,
                                        606138.71,
                                        609345.33,
                                        612567.02,
                                        615803.87,
                                        619055.96,
                                        622323.38,
                                        625606.24,
                                        628904.59,
                                        632218.56,
                                        635548.22,
                                        638893.66,
                                        642254.97,
                                        645632.26,
                                        649025.6
                                    ]
                                },
                                {
                                    "mode": "lines",
                                    "name": "combined mortgage",
                                    "type": "scatter",
                                    "x": [
                                        "2024-04-01T00:00:00",
                                        "2024-05-01T00:00:00",
                                        "2024-06-01T00:00:00",
                                        "2024-07-01T00:00:00",
                                        "2024-08-01T00:00:00",
                                        "2024-09-01T00:00:00",
                                        "2024-10-01T00:00:00",
                                        "2024-11-01T00:00:00",
                                        "2024-12-01T00:00:00",
                                        "2025-01-01T00:00:00",
                                        "2025-02-01T00:00:00",
                                        "2025-03-01T00:00:00",
                                        "2025-04-01T00:00:00",
                                        "2025-05-01T00:00:00",
                                        "2025-06-01T00:00:00",
                                        "2025-07-01T00:00:00",
                                        "2025-08-01T00:00:00",
                                        "2025-09-01T00:00:00",
                                        "2025-10-01T00:00:00",
                                        "2025-11-01T00:00:00",
                                        "2025-12-01T00:00:00",
                                        "2026-01-01T00:00:00",
                                        "2026-02-01T00:00:00",
                                        "2026-03-01T00:00:00",
                                        "2026-04-01T00:00:00",
                                        "2026-05-01T00:00:00",
                                        "2026-06-01T00:00:00",
                                        "2026-07-01T00:00:00",
                                        "2026-08-01T00:00:00",
                                        "2026-09-01T00:00:00",
                                        "2026-10-01T00:00:00",
                                        "2026-11-01T00:00:00",
                                        "2026-12-01T00:00:00",
                                        "2027-01-01T00:00:00",
                                        "2027-02-01T00:00:00",
                                        "2027-03-01T00:00:00",
                                        "2027-04-01T00:00:00",
                                        "2027-05-01T00:00:00",
                                        "2027-06-01T00:00:00",
                                        "2027-07-01T00:00:00",
                                        "2027-08-01T00:00:00",
                                        "2027-09-01T00:00:00",
                                        "2027-10-01T00:00:00",
                                        "2027-11-01T00:00:00",
                                        "2027-12-01T00:00:00",
                                        "2028-01-01T00:00:00",
                                        "2028-02-01T00:00:00",
                                        "2028-03-01T00:00:00",
                                        "2028-04-01T00:00:00",
                                        "2028-05-01T00:00:00",
                                        "2028-06-01T00:00:00",
                                        "2028-07-01T00:00:00",
                                        "2028-08-01T00:00:00",
                                        "2028-09-01T00:00:00",
                                        "2028-10-01T00:00:00",
                                        "2028-11-01T00:00:00",
                                        "2028-12-01T00:00:00",
                                        "2029-01-01T00:00:00",
                                        "2029-02-01T00:00:00",
                                        "2029-03-01T00:00:00",
                                        "2029-04-01T00:00:00",
                                        "2029-05-01T00:00:00",
                                        "2029-06-01T00:00:00",
                                        "2029-07-01T00:00:00",
                                        "2029-08-01T00:00:00",
                                        "2029-09-01T00:00:00",
                                        "2029-10-01T00:00:00",
                                        "2029-11-01T00:00:00",
                                        "2029-12-01T00:00:00",
                                        "2030-01-01T00:00:00",
                                        "2030-02-01T00:00:00",
                                        "2030-03-01T00:00:00",
                                        "2030-04-01T00:00:00",
                                        "2030-05-01T00:00:00",
                                        "2030-06-01T00:00:00",
                                        "2030-07-01T00:00:00",
                                        "2030-08-01T00:00:00",
                                        "2030-09-01T00:00:00",
                                        "2030-10-01T00:00:00",
                                        "2030-11-01T00:00:00",
                                        "2030-12-01T00:00:00",
                                        "2031-01-01T00:00:00",
                                        "2031-02-01T00:00:00",
                                        "2031-03-01T00:00:00",
                                        "2031-04-01T00:00:00",
                                        "2031-05-01T00:00:00",
                                        "2031-06-01T00:00:00",
                                        "2031-07-01T00:00:00",
                                        "2031-08-01T00:00:00",
                                        "2031-09-01T00:00:00",
                                        "2031-10-01T00:00:00",
                                        "2031-11-01T00:00:00",
                                        "2031-12-01T00:00:00",
                                        "2032-01-01T00:00:00",
                                        "2032-02-01T00:00:00",
                                        "2032-03-01T00:00:00",
                                        "2032-04-01T00:00:00",
                                        "2032-05-01T00:00:00",
                                        "2032-06-01T00:00:00",
                                        "2032-07-01T00:00:00",
                                        "2032-08-01T00:00:00",
                                        "2032-09-01T00:00:00",
                                        "2032-10-01T00:00:00",
                                        "2032-11-01T00:00:00",
                                        "2032-12-01T00:00:00",
                                        "2033-01-01T00:00:00",
                                        "2033-02-01T00:00:00",
                                        "2033-03-01T00:00:00",
                                        "2033-04-01T00:00:00",
                                        "2033-05-01T00:00:00",
                                        "2033-06-01T00:00:00",
                                        "2033-07-01T00:00:00",
                                        "2033-08-01T00:00:00",
                                        "2033-09-01T00:00:00",
                                        "2033-10-01T00:00:00",
                                        "2033-11-01T00:00:00",
                                        "2033-12-01T00:00:00",
                                        "2034-01-01T00:00:00",
                                        "2034-02-01T00:00:00",
                                        "2034-03-01T00:00:00",
                                        "2034-04-01T00:00:00",
                                        "2034-05-01T00:00:00",
                                        "2034-06-01T00:00:00",
                                        "2034-07-01T00:00:00",
                                        "2034-08-01T00:00:00",
                                        "2034-09-01T00:00:00",
                                        "2034-10-01T00:00:00",
                                        "2034-11-01T00:00:00",
                                        "2034-12-01T00:00:00",
                                        "2035-01-01T00:00:00",
                                        "2035-02-01T00:00:00",
                                        "2035-03-01T00:00:00",
                                        "2035-04-01T00:00:00",
                                        "2035-05-01T00:00:00",
                                        "2035-06-01T00:00:00",
                                        "2035-07-01T00:00:00",
                                        "2035-08-01T00:00:00",
                                        "2035-09-01T00:00:00",
                                        "2035-10-01T00:00:00",
                                        "2035-11-01T00:00:00",
                                        "2035-12-01T00:00:00",
                                        "2036-01-01T00:00:00",
                                        "2036-02-01T00:00:00",
                                        "2036-03-01T00:00:00",
                                        "2036-04-01T00:00:00",
                                        "2036-05-01T00:00:00",
                                        "2036-06-01T00:00:00",
                                        "2036-07-01T00:00:00",
                                        "2036-08-01T00:00:00",
                                        "2036-09-01T00:00:00",
                                        "2036-10-01T00:00:00",
                                        "2036-11-01T00:00:00",
                                        "2036-12-01T00:00:00",
                                        "2037-01-01T00:00:00",
                                        "2037-02-01T00:00:00",
                                        "2037-03-01T00:00:00",
                                        "2037-04-01T00:00:00",
                                        "2037-05-01T00:00:00",
                                        "2037-06-01T00:00:00",
                                        "2037-07-01T00:00:00",
                                        "2037-08-01T00:00:00",
                                        "2037-09-01T00:00:00",
                                        "2037-10-01T00:00:00",
                                        "2037-11-01T00:00:00",
                                        "2037-12-01T00:00:00",
                                        "2038-01-01T00:00:00",
                                        "2038-02-01T00:00:00",
                                        "2038-03-01T00:00:00",
                                        "2038-04-01T00:00:00",
                                        "2038-05-01T00:00:00",
                                        "2038-06-01T00:00:00",
                                        "2038-07-01T00:00:00",
                                        "2038-08-01T00:00:00",
                                        "2038-09-01T00:00:00",
                                        "2038-10-01T00:00:00",
                                        "2038-11-01T00:00:00",
                                        "2038-12-01T00:00:00",
                                        "2039-01-01T00:00:00",
                                        "2039-02-01T00:00:00",
                                        "2039-03-01T00:00:00",
                                        "2039-04-01T00:00:00"
                                    ],
                                    "y": [
                                        292000,
                                        291287.45,
                                        290570.35,
                                        289848.68,
                                        289122.4,
                                        288391.48,
                                        287655.9,
                                        286915.62,
                                        286170.62,
                                        285420.86,
                                        284666.32,
                                        283906.96,
                                        283142.75,
                                        282373.66,
                                        281599.67,
                                        280820.73,
                                        280036.82,
                                        279247.91,
                                        278453.96,
                                        277654.94,
                                        276850.82,
                                        276041.57,
                                        275227.16,
                                        274407.55,
                                        273582.7,
                                        272752.59,
                                        271917.18,
                                        271076.44,
                                        270230.33,
                                        269378.82,
                                        268521.87,
                                        267659.45,
                                        266791.53,
                                        265918.07,
                                        265039.03,
                                        264154.38,
                                        263264.09,
                                        262368.11,
                                        261466.41,
                                        260558.96,
                                        259645.71,
                                        258726.64,
                                        257801.7,
                                        256870.85,
                                        255934.06,
                                        254991.29,
                                        254042.5,
                                        253087.66,
                                        252126.72,
                                        251159.65,
                                        250186.41,
                                        249206.95,
                                        248221.24,
                                        247229.24,
                                        246230.91,
                                        245226.2,
                                        244215.08,
                                        243197.51,
                                        242173.44,
                                        241142.83,
                                        240105.65,
                                        239061.84,
                                        238011.37,
                                        236954.2,
                                        235890.28,
                                        234819.57,
                                        233742.02,
                                        232657.59,
                                        231566.24,
                                        230467.92,
                                        229362.59,
                                        228250.21,
                                        227130.73,
                                        226004.1,
                                        224870.28,
                                        223729.22,
                                        222580.88,
                                        221425.21,
                                        220262.16,
                                        219091.69,
                                        217913.75,
                                        216728.29,
                                        215535.26,
                                        214334.61,
                                        213126.3,
                                        211910.28,
                                        210686.49,
                                        209454.89,
                                        208215.43,
                                        206968.06,
                                        205712.73,
                                        204449.38,
                                        203177.97,
                                        201898.44,
                                        200610.75,
                                        199314.84,
                                        198010.65,
                                        196698.14,
                                        195377.25,
                                        194047.93,
                                        192710.12,
                                        191363.77,
                                        190008.83,
                                        188645.24,
                                        187272.95,
                                        185891.9,
                                        184502.03,
                                        183103.29,
                                        181695.62,
                                        180278.96,
                                        178853.27,
                                        177418.48,
                                        175974.52,
                                        174521.35,
                                        173058.91,
                                        171587.12,
                                        170105.95,
                                        168615.31,
                                        167115.17,
                                        165605.44,
                                        164086.08,
                                        162557.03,
                                        161018.21,
                                        159469.56,
                                        157911.04,
                                        156342.56,
                                        154764.08,
                                        153175.51,
                                        151576.8,
                                        149967.9,
                                        148348.72,
                                        146719.2,
                                        145079.28,
                                        143428.89,
                                        141767.97,
                                        140096.45,
                                        138414.26,
                                        136721.32,
                                        135017.59,
                                        133302.98,
                                        131577.42,
                                        129840.85,
                                        128093.19,
                                        126334.38,
                                        124564.33,
                                        122783,
                                        120990.28,
                                        119186.13,
                                        117370.46,
                                        115543.2,
                                        113704.28,
                                        111853.61,
                                        109991.14,
                                        108116.77,
                                        106230.45,
                                        104332.07,
                                        102421.59,
                                        100498.9,
                                        98563.95,
                                        96616.64,
                                        94656.9,
                                        92684.65,
                                        90699.81,
                                        88702.31,
                                        86692.05,
                                        84668.95,
                                        82632.95,
                                        80583.94,
                                        78521.86,
                                        76446.62,
                                        74358.13,
                                        72256.31,
                                        70141.08,
                                        68012.33,
                                        65870.01,
                                        63714,
                                        61544.23,
                                        59360.61,
                                        57163.06,
                                        54951.47,
                                        52725.77
                                    ]
                                }
                            ],
                            "layout": {
                                "barmode": "relative",
                                "legend": {
                                    "tracegroupgap": 0
                                },
                                "template": {
                                    "data": {
                                        "bar": [
                                            {
                                                "error_x": {
                                                    "color": "#2a3f5f"
                                                },
                                                "error_y": {
                                                    "color": "#2a3f5f"
                                                },
                                                "marker": {
                                                    "line": {
                                                        "color": "#E5ECF6",
                                                        "width": 0.5
                                                    },
                                                    "pattern": {
                                                        "fillmode": "overlay",
                                                        "size": 10,
                                                        "solidity": 0.2
                                                    }
                                                },
                                                "type": "bar"
                                            }
                                        ],
                                        "barpolar": [
                                            {
                                                "marker": {
                                                    "line": {
                                                        "color": "#E5ECF6",
                                                        "width": 0.5
                                                    },
                                                    "pattern": {
                                                        "fillmode": "overlay",
                                                        "size": 10,
                                                        "solidity": 0.2
                                                    }
                                                },
                                                "type": "barpolar"
                                            }
                                        ],
                                        "carpet": [
                                            {
                                                "aaxis": {
                                                    "endlinecolor": "#2a3f5f",
                                                    "gridcolor": "white",
                                                    "linecolor": "white",
                                                    "minorgridcolor": "white",
                                                    "startlinecolor": "#2a3f5f"
                                                },
                                                "baxis": {
                                                    "endlinecolor": "#2a3f5f",
                                                    "gridcolor": "white",
                                                    "linecolor": "white",
                                                    "minorgridcolor": "white",
                                                    "startlinecolor": "#2a3f5f"
                                                },
                                                "type": "carpet"
                                            }
                                        ],
                                        "choropleth": [
                                            {
                                                "colorbar": {
                                                    "outlinewidth": 0,
                                                    "ticks": ""
                                                },
                                                "type": "choropleth"
                                            }
                                        ],
                                        "contour": [
                                            {
                                                "colorbar": {
                                                    "outlinewidth": 0,
                                                    "ticks": ""
                                                },
                                                "colorscale": [
                                                    [
                                                        0,
                                                        "#0d0887"
                                                    ],
                                                    [
                                                        0.1111111111111111,
                                                        "#46039f"
                                                    ],
                                                    [
                                                        0.2222222222222222,
                                                        "#7201a8"
                                                    ],
                                                    [
                                                        0.3333333333333333,
                                                        "#9c179e"
                                                    ],
                                                    [
                                                        0.4444444444444444,
                                                        "#bd3786"
                                                    ],
                                                    [
                                                        0.5555555555555556,
                                                        "#d8576b"
                                                    ],
                                                    [
                                                        0.6666666666666666,
                                                        "#ed7953"
                                                    ],
                                                    [
                                                        0.7777777777777778,
                                                        "#fb9f3a"
                                                    ],
                                                    [
                                                        0.8888888888888888,
                                                        "#fdca26"
                                                    ],
                                                    [
                                                        1,
                                                        "#f0f921"
                                                    ]
                                                ],
                                                "type": "contour"
                                            }
                                        ],
                                        "contourcarpet": [
                                            {
                                                "colorbar": {
                                                    "outlinewidth": 0,
                                                    "ticks": ""
                                                },
                                                "type": "contourcarpet"
                                            }
                                        ],
                                        "heatmap": [
                                            {
                                                "colorbar": {
                                                    "outlinewidth": 0,
                                                    "ticks": ""
                                                },
                                                "colorscale": [
                                                    [
                                                        0,
                                                        "#0d0887"
                                                    ],
                                                    [
                                                        0.1111111111111111,
                                                        "#46039f"
                                                    ],
                                                    [
                                                        0.2222222222222222,
                                                        "#7201a8"
                                                    ],
                                                    [
                                                        0.3333333333333333,
                                                        "#9c179e"
                                                    ],
                                                    [
                                                        0.4444444444444444,
                                                        "#bd3786"
                                                    ],
                                                    [
                                                        0.5555555555555556,
                                                        "#d8576b"
                                                    ],
                                                    [
                                                        0.6666666666666666,
                                                        "#ed7953"
                                                    ],
                                                    [
                                                        0.7777777777777778,
                                                        "#fb9f3a"
                                                    ],
                                                    [
                                                        0.8888888888888888,
                                                        "#fdca26"
                                                    ],
                                                    [
                                                        1,
                                                        "#f0f921"
                                                    ]
                                                ],
                                                "type": "heatmap"
                                            }
                                        ],
                                        "heatmapgl": [
                                            {
                                                "colorbar": {
                                                    "outlinewidth": 0,
                                                    "ticks": ""
                                                },
                                                "colorscale": [
                                                    [
                                                        0,
                                                        "#0d0887"
                                                    ],
                                                    [
                                                        0.1111111111111111,
                                                        "#46039f"
                                                    ],
                                                    [
                                                        0.2222222222222222,
                                                        "#7201a8"
                                                    ],
                                                    [
                                                        0.3333333333333333,
                                                        "#9c179e"
                                                    ],
                                                    [
                                                        0.4444444444444444,
                                                        "#bd3786"
                                                    ],
                                                    [
                                                        0.5555555555555556,
                                                        "#d8576b"
                                                    ],
                                                    [
                                                        0.6666666666666666,
                                                        "#ed7953"
                                                    ],
                                                    [
                                                        0.7777777777777778,
                                                        "#fb9f3a"
                                                    ],
                                                    [
                                                        0.8888888888888888,
                                                        "#fdca26"
                                                    ],
                                                    [
                                                        1,
                                                        "#f0f921"
                                                    ]
                                                ],
                                                "type": "heatmapgl"
                                            }
                                        ],
                                        "histogram": [
                                            {
                                                "marker": {
                                                    "pattern": {
                                                        "fillmode": "overlay",
                                                        "size": 10,
                                                        "solidity": 0.2
                                                    }
                                                },
                                                "type": "histogram"
                                            }
                                        ],
                                        "histogram2d": [
                                            {
                                                "colorbar": {
                                                    "outlinewidth": 0,
                                                    "ticks": ""
                                                },
                                                "colorscale": [
                                                    [
                                                        0,
                                                        "#0d0887"
                                                    ],
                                                    [
                                                        0.1111111111111111,
                                                        "#46039f"
                                                    ],
                                                    [
                                                        0.2222222222222222,
                                                        "#7201a8"
                                                    ],
                                                    [
                                                        0.3333333333333333,
                                                        "#9c179e"
                                                    ],
                                                    [
                                                        0.4444444444444444,
                                                        "#bd3786"
                                                    ],
                                                    [
                                                        0.5555555555555556,
                                                        "#d8576b"
                                                    ],
                                                    [
                                                        0.6666666666666666,
                                                        "#ed7953"
                                                    ],
                                                    [
                                                        0.7777777777777778,
                                                        "#fb9f3a"
                                                    ],
                                                    [
                                                        0.8888888888888888,
                                                        "#fdca26"
                                                    ],
                                                    [
                                                        1,
                                                        "#f0f921"
                                                    ]
                                                ],
                                                "type": "histogram2d"
                                            }
                                        ],
                                        "histogram2dcontour": [
                                            {
                                                "colorbar": {
                                                    "outlinewidth": 0,
                                                    "ticks": ""
                                                },
                                                "colorscale": [
                                                    [
                                                        0,
                                                        "#0d0887"
                                                    ],
                                                    [
                                                        0.1111111111111111,
                                                        "#46039f"
                                                    ],
                                                    [
                                                        0.2222222222222222,
                                                        "#7201a8"
                                                    ],
                                                    [
                                                        0.3333333333333333,
                                                        "#9c179e"
                                                    ],
                                                    [
                                                        0.4444444444444444,
                                                        "#bd3786"
                                                    ],
                                                    [
                                                        0.5555555555555556,
                                                        "#d8576b"
                                                    ],
                                                    [
                                                        0.6666666666666666,
                                                        "#ed7953"
                                                    ],
                                                    [
                                                        0.7777777777777778,
                                                        "#fb9f3a"
                                                    ],
                                                    [
                                                        0.8888888888888888,
                                                        "#fdca26"
                                                    ],
                                                    [
                                                        1,
                                                        "#f0f921"
                                                    ]
                                                ],
                                                "type": "histogram2dcontour"
                                            }
                                        ],
                                        "mesh3d": [
                                            {
                                                "colorbar": {
                                                    "outlinewidth": 0,
                                                    "ticks": ""
                                                },
                                                "type": "mesh3d"
                                            }
                                        ],
                                        "parcoords": [
                                            {
                                                "line": {
                                                    "colorbar": {
                                                        "outlinewidth": 0,
                                                        "ticks": ""
                                                    }
                                                },
                                                "type": "parcoords"
                                            }
                                        ],
                                        "pie": [
                                            {
                                                "automargin": true,
                                                "type": "pie"
                                            }
                                        ],
                                        "scatter": [
                                            {
                                                "fillpattern": {
                                                    "fillmode": "overlay",
                                                    "size": 10,
                                                    "solidity": 0.2
                                                },
                                                "type": "scatter"
                                            }
                                        ],
                                        "scatter3d": [
                                            {
                                                "line": {
                                                    "colorbar": {
                                                        "outlinewidth": 0,
                                                        "ticks": ""
                                                    }
                                                },
                                                "marker": {
                                                    "colorbar": {
                                                        "outlinewidth": 0,
                                                        "ticks": ""
                                                    }
                                                },
                                                "type": "scatter3d"
                                            }
                                        ],
                                        "scattercarpet": [
                                            {
                                                "marker": {
                                                    "colorbar": {
                                                        "outlinewidth": 0,
                                                        "ticks": ""
                                                    }
                                                },
                                                "type": "scattercarpet"
                                            }
                                        ],
                                        "scattergeo": [
                                            {
                                                "marker": {
                                                    "colorbar": {
                                                        "outlinewidth": 0,
                                                        "ticks": ""
                                                    }
                                                },
                                                "type": "scattergeo"
                                            }
                                        ],
                                        "scattergl": [
                                            {
                                                "marker": {
                                                    "colorbar": {
                                                        "outlinewidth": 0,
                                                        "ticks": ""
                                                    }
                                                },
                                                "type": "scattergl"
                                            }
                                        ],
                                        "scattermapbox": [
                                            {
                                                "marker": {
                                                    "colorbar": {
                                                        "outlinewidth": 0,
                                                        "ticks": ""
                                                    }
                                                },
                                                "type": "scattermapbox"
                                            }
                                        ],
                                        "scatterpolar": [
                                            {
                                                "marker": {
                                                    "colorbar": {
                                                        "outlinewidth": 0,
                                                        "ticks": ""
                                                    }
                                                },
                                                "type": "scatterpolar"
                                            }
                                        ],
                                        "scatterpolargl": [
                                            {
                                                "marker": {
                                                    "colorbar": {
                                                        "outlinewidth": 0,
                                                        "ticks": ""
                                                    }
                                                },
                                                "type": "scatterpolargl"
                                            }
                                        ],
                                        "scatterternary": [
                                            {
                                                "marker": {
                                                    "colorbar": {
                                                        "outlinewidth": 0,
                                                        "ticks": ""
                                                    }
                                                },
                                                "type": "scatterternary"
                                            }
                                        ],
                                        "surface": [
                                            {
                                                "colorbar": {
                                                    "outlinewidth": 0,
                                                    "ticks": ""
                                                },
                                                "colorscale": [
                                                    [
                                                        0,
                                                        "#0d0887"
                                                    ],
                                                    [
                                                        0.1111111111111111,
                                                        "#46039f"
                                                    ],
                                                    [
                                                        0.2222222222222222,
                                                        "#7201a8"
                                                    ],
                                                    [
                                                        0.3333333333333333,
                                                        "#9c179e"
                                                    ],
                                                    [
                                                        0.4444444444444444,
                                                        "#bd3786"
                                                    ],
                                                    [
                                                        0.5555555555555556,
                                                        "#d8576b"
                                                    ],
                                                    [
                                                        0.6666666666666666,
                                                        "#ed7953"
                                                    ],
                                                    [
                                                        0.7777777777777778,
                                                        "#fb9f3a"
                                                    ],
                                                    [
                                                        0.8888888888888888,
                                                        "#fdca26"
                                                    ],
                                                    [
                                                        1,
                                                        "#f0f921"
                                                    ]
                                                ],
                                                "type": "surface"
                                            }
                                        ],
                                        "table": [
                                            {
                                                "cells": {
                                                    "fill": {
                                                        "color": "#EBF0F8"
                                                    },
                                                    "line": {
                                                        "color": "white"
                                                    }
                                                },
                                                "header": {
                                                    "fill": {
                                                        "color": "#C8D4E3"
                                                    },
                                                    "line": {
                                                        "color": "white"
                                                    }
                                                },
                                                "type": "table"
                                            }
                                        ]
                                    },
                                    "layout": {
                                        "annotationdefaults": {
                                            "arrowcolor": "#2a3f5f",
                                            "arrowhead": 0,
                                            "arrowwidth": 1
                                        },
                                        "autotypenumbers": "strict",
                                        "coloraxis": {
                                            "colorbar": {
                                                "outlinewidth": 0,
                                                "ticks": ""
                                            }
                                        },
                                        "colorscale": {
                                            "diverging": [
                                                [
                                                    0,
                                                    "#8e0152"
                                                ],
                                                [
                                                    0.1,
                                                    "#c51b7d"
                                                ],
                                                [
                                                    0.2,
                                                    "#de77ae"
                                                ],
                                                [
                                                    0.3,
                                                    "#f1b6da"
                                                ],
                                                [
                                                    0.4,
                                                    "#fde0ef"
                                                ],
                                                [
                                                    0.5,
                                                    "#f7f7f7"
                                                ],
                                                [
                                                    0.6,
                                                    "#e6f5d0"
                                                ],
                                                [
                                                    0.7,
                                                    "#b8e186"
                                                ],
                                                [
                                                    0.8,
                                                    "#7fbc41"
                                                ],
                                                [
                                                    0.9,
                                                    "#4d9221"
                                                ],
                                                [
                                                    1,
                                                    "#276419"
                                                ]
                                            ],
                                            "sequential": [
                                                [
                                                    0,
                                                    "#0d0887"
                                                ],
                                                [
                                                    0.1111111111111111,
                                                    "#46039f"
                                                ],
                                                [
                                                    0.2222222222222222,
                                                    "#7201a8"
                                                ],
                                                [
                                                    0.3333333333333333,
                                                    "#9c179e"
                                                ],
                                                [
                                                    0.4444444444444444,
                                                    "#bd3786"
                                                ],
                                                [
                                                    0.5555555555555556,
                                                    "#d8576b"
                                                ],
                                                [
                                                    0.6666666666666666,
                                                    "#ed7953"
                                                ],
                                                [
                                                    0.7777777777777778,
                                                    "#fb9f3a"
                                                ],
                                                [
                                                    0.8888888888888888,
                                                    "#fdca26"
                                                ],
                                                [
                                                    1,
                                                    "#f0f921"
                                                ]
                                            ],
                                            "sequentialminus": [
                                                [
                                                    0,
                                                    "#0d0887"
                                                ],
                                                [
                                                    0.1111111111111111,
                                                    "#46039f"
                                                ],
                                                [
                                                    0.2222222222222222,
                                                    "#7201a8"
                                                ],
                                                [
                                                    0.3333333333333333,
                                                    "#9c179e"
                                                ],
                                                [
                                                    0.4444444444444444,
                                                    "#bd3786"
                                                ],
                                                [
                                                    0.5555555555555556,
                                                    "#d8576b"
                                                ],
                                                [
                                                    0.6666666666666666,
                                                    "#ed7953"
                                                ],
                                                [
                                                    0.7777777777777778,
                                                    "#fb9f3a"
                                                ],
                                                [
                                                    0.8888888888888888,
                                                    "#fdca26"
                                                ],
                                                [
                                                    1,
                                                    "#f0f921"
                                                ]
                                            ]
                                        },
                                        "colorway": [
                                            "#636efa",
                                            "#EF553B",
                                            "#00cc96",
                                            "#ab63fa",
                                            "#FFA15A",
                                            "#19d3f3",
                                            "#FF6692",
                                            "#B6E880",
                                            "#FF97FF",
                                            "#FECB52"
                                        ],
                                        "font": {
                                            "color": "#2a3f5f"
                                        },
                                        "geo": {
                                            "bgcolor": "white",
                                            "lakecolor": "white",
                                            "landcolor": "#E5ECF6",
                                            "showlakes": true,
                                            "showland": true,
                                            "subunitcolor": "white"
                                        },
                                        "hoverlabel": {
                                            "align": "left"
                                        },
                                        "hovermode": "closest",
                                        "mapbox": {
                                            "style": "light"
                                        },
                                        "paper_bgcolor": "white",
                                        "plot_bgcolor": "#E5ECF6",
                                        "polar": {
                                            "angularaxis": {
                                                "gridcolor": "white",
                                                "linecolor": "white",
                                                "ticks": ""
                                            },
                                            "bgcolor": "#E5ECF6",
                                            "radialaxis": {
                                                "gridcolor": "white",
                                                "linecolor": "white",
                                                "ticks": ""
                                            }
                                        },
                                        "scene": {
                                            "xaxis": {
                                                "backgroundcolor": "#E5ECF6",
                                                "gridcolor": "white",
                                                "gridwidth": 2,
                                                "linecolor": "white",
                                                "showbackground": true,
                                                "ticks": "",
                                                "zerolinecolor": "white"
                                            },
                                            "yaxis": {
                                                "backgroundcolor": "#E5ECF6",
                                                "gridcolor": "white",
                                                "gridwidth": 2,
                                                "linecolor": "white",
                                                "showbackground": true,
                                                "ticks": "",
                                                "zerolinecolor": "white"
                                            },
                                            "zaxis": {
                                                "backgroundcolor": "#E5ECF6",
                                                "gridcolor": "white",
                                                "gridwidth": 2,
                                                "linecolor": "white",
                                                "showbackground": true,
                                                "ticks": "",
                                                "zerolinecolor": "white"
                                            }
                                        },
                                        "shapedefaults": {
                                            "line": {
                                                "color": "#2a3f5f"
                                            }
                                        },
                                        "ternary": {
                                            "aaxis": {
                                                "gridcolor": "white",
                                                "linecolor": "white",
                                                "ticks": ""
                                            },
                                            "baxis": {
                                                "gridcolor": "white",
                                                "linecolor": "white",
                                                "ticks": ""
                                            },
                                            "bgcolor": "#E5ECF6",
                                            "caxis": {
                                                "gridcolor": "white",
                                                "linecolor": "white",
                                                "ticks": ""
                                            }
                                        },
                                        "title": {
                                            "x": 0.05
                                        },
                                        "xaxis": {
                                            "automargin": true,
                                            "gridcolor": "white",
                                            "linecolor": "white",
                                            "ticks": "",
                                            "title": {
                                                "standoff": 15
                                            },
                                            "zerolinecolor": "white",
                                            "zerolinewidth": 2
                                        },
                                        "yaxis": {
                                            "automargin": true,
                                            "gridcolor": "white",
                                            "linecolor": "white",
                                            "ticks": "",
                                            "title": {
                                                "standoff": 15
                                            },
                                            "zerolinecolor": "white",
                                            "zerolinewidth": 2
                                        }
                                    }
                                },
                                "title": {
                                    "text": "Properties values over time"
                                },
                                "xaxis": {
                                    "anchor": "y",
                                    "domain": [
                                        0,
                                        1
                                    ],
                                    "title": {
                                        "text": "date"
                                    }
                                },
                                "yaxis": {
                                    "anchor": "x",
                                    "domain": [
                                        0,
                                        1
                                    ],
                                    "title": {
                                        "text": "value"
                                    }
                                }
                            }
                        }
                    },
                    "metadata": {},
                    "output_type": "display_data"
                }
            ],
            "source": [
                "\n",
                "fig = px.bar(df, x=df['date'], y=[\n",
                "    ], title='Properties values over time')\n",
                "fig.add_scatter(x=df['date'], y=df['properties_market_value'], mode='lines', name='market value')\n",
                "fig.add_scatter(x=df['date'], y=df['properties_net_cash_value'], mode='lines', name='net cash value')\n",
                "fig.add_scatter(x=df['date'], y=df['properties_mortgage_left'], mode='lines', name='combined mortgage')\n",
                "\n",
                "fig.show()"
            ]
        }
    ],
    "metadata": {
        "kernelspec": {
            "display_name": "fire-notebooks-V1dUDsYi-py3.11",
            "language": "python",
            "name": "python3"
        },
        "language_info": {
            "codemirror_mode": {
                "name": "ipython",
                "version": 3
            },
            "file_extension": ".py",
            "mimetype": "text/x-python",
            "name": "python",
            "nbconvert_exporter": "python",
            "pygments_lexer": "ipython3",
            "version": "3.11.8"
        }
    },
    "nbformat": 4,
    "nbformat_minor": 2
}
