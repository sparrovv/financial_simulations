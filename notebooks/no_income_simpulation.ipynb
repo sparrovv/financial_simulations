{
    "cells": [
        {
            "cell_type": "markdown",
            "metadata": {},
            "source": [
                "# FIRE \n",
                "\n",
                "This notebook will try to answer the following questions:\n",
                "\n",
                "- Given my current savings and no income, how many months will my savings last\n",
                "\n",
                "\n",
                "## Assumptions\n",
                "\n",
                "- The annual return on the stock investment (assumption ETF) is an average and is applied monthly. \n",
                "The assumption is a long term.\n",
                "- The bond investment has a fixed return rate that's applied monthly. In reality that should be close to inflation rate.\n",
                "- The monthly income is constant and is added to cash every month. It's also a simplification as in reality the income is not constant\n",
                "- The monthly expenses are constant but the inflation rate is applied. In reality, the expenses won't be constant as they change depending on many factors.\n",
                "- The inflation rate is constant\n",
                "- When the cash is depleted, the investment is used to cover the expenses. The investment is used in the following order: cash, bond, stock, real estate. \n",
                "- Simulation ends when the wealth is depleted and no more assets are available to cover the expenses.\n"
            ]
        },
        {
            "cell_type": "code",
            "execution_count": 1,
            "metadata": {},
            "outputs": [],
            "source": [
                "import sys\n",
                "from pathlib import Path\n",
                "\n",
                "project_root = Path.cwd().parent \n",
                "src_path = project_root / 'src'\n",
                "\n",
                "sys.path.append(str(src_path))"
            ]
        },
        {
            "cell_type": "code",
            "execution_count": 2,
            "metadata": {},
            "outputs": [],
            "source": [
                "import datetime\n",
                "from fire.simulations import FireSimulation, run_simulation, InvestmentProperty\n",
                "import pandas as pd\n",
                "import plotly.express as px\n",
                "from decimal import Decimal\n"
            ]
        },
        {
            "cell_type": "code",
            "execution_count": 3,
            "metadata": {},
            "outputs": [],
            "source": [
                "\n",
                "\n",
                "init = FireSimulation(\n",
                "    stock_investments=100_000,\n",
                "    bonds_investments=100_000,\n",
                "    cash=100_000,\n",
                "    investment_properties=[\n",
                "        InvestmentProperty(\n",
                "            mortgage_left=Decimal(\"292000\"),\n",
                "            mortgage_rate=Decimal(\"7.66\"),\n",
                "            mortgage_months=202,\n",
                "            market_value=Decimal(\"520_000\"),\n",
                "            monthly_income=Decimal(\"2_100\"),\n",
                "        )\n",
                "    ],\n",
                "    stock_return_rate=0.05,\n",
                "    bonds_return_rate=0.04,\n",
                "    monthly_expenses=16_000,\n",
                "    annual_inflation_rate=0.04,\n",
                "    monthly_income=0,\n",
                "    annual_property_appreciation_rate=Decimal('0.02'),\n",
                "    invest_cash_surplus=True,\n",
                "    invest_cash_threshold=50_000,\n",
                "    invest_cash_surplus_strategy='80-20',\n",
                "    date=datetime.datetime.fromisoformat('2024-03-01')\n",
                ")\n",
                "\n",
                "# simulate for next X years\n",
                "years = 15\n",
                "expected_number_of_months = years * 12\n",
                "simulation = run_simulation(init, years*12)"
            ]
        },
        {
            "cell_type": "code",
            "execution_count": 4,
            "metadata": {},
            "outputs": [
                {
                    "data": {
                        "text/html": [
                            "<div>\n",
                            "<style scoped>\n",
                            "    .dataframe tbody tr th:only-of-type {\n",
                            "        vertical-align: middle;\n",
                            "    }\n",
                            "\n",
                            "    .dataframe tbody tr th {\n",
                            "        vertical-align: top;\n",
                            "    }\n",
                            "\n",
                            "    .dataframe thead th {\n",
                            "        text-align: right;\n",
                            "    }\n",
                            "</style>\n",
                            "<table border=\"1\" class=\"dataframe\">\n",
                            "  <thead>\n",
                            "    <tr style=\"text-align: right;\">\n",
                            "      <th></th>\n",
                            "      <th>stock_investments</th>\n",
                            "      <th>bonds_investments</th>\n",
                            "      <th>cash</th>\n",
                            "      <th>monthly_expenses</th>\n",
                            "      <th>monthly_income</th>\n",
                            "      <th>date</th>\n",
                            "      <th>return_rate_from_investment</th>\n",
                            "      <th>investment_properties</th>\n",
                            "      <th>return_rate_from_bonds</th>\n",
                            "      <th>annual_inflation_rate</th>\n",
                            "      <th>annual_property_appreciation_rate</th>\n",
                            "      <th>invest_cash_surplus</th>\n",
                            "      <th>invest_cash_threshold</th>\n",
                            "      <th>invest_cash_surplus_strategy</th>\n",
                            "      <th>liquid_wealth</th>\n",
                            "      <th>wealth_inc_properties</th>\n",
                            "      <th>properties_monthly_mortgage</th>\n",
                            "      <th>properties_market_value</th>\n",
                            "      <th>properties_monthly_income</th>\n",
                            "      <th>properties_net_cash_value</th>\n",
                            "    </tr>\n",
                            "  </thead>\n",
                            "  <tbody>\n",
                            "    <tr>\n",
                            "      <th>0</th>\n",
                            "      <td>100000.000000</td>\n",
                            "      <td>100000.000000</td>\n",
                            "      <td>100000.000000</td>\n",
                            "      <td>16000.000000</td>\n",
                            "      <td>0</td>\n",
                            "      <td>2024-03-01</td>\n",
                            "      <td>0.05</td>\n",
                            "      <td>[{'market_value': 520000, 'monthly_income': 21...</td>\n",
                            "      <td>0.04</td>\n",
                            "      <td>0.04</td>\n",
                            "      <td>0.02</td>\n",
                            "      <td>True</td>\n",
                            "      <td>50000</td>\n",
                            "      <td>80-20</td>\n",
                            "      <td>300000.000000</td>\n",
                            "      <td>528000.000000</td>\n",
                            "      <td>2576.48</td>\n",
                            "      <td>520000.00</td>\n",
                            "      <td>2100.0</td>\n",
                            "      <td>228000.00</td>\n",
                            "    </tr>\n",
                            "    <tr>\n",
                            "      <th>1</th>\n",
                            "      <td>129254.003333</td>\n",
                            "      <td>107542.663333</td>\n",
                            "      <td>50000.000000</td>\n",
                            "      <td>16053.333333</td>\n",
                            "      <td>0</td>\n",
                            "      <td>2024-04-01</td>\n",
                            "      <td>0.05</td>\n",
                            "      <td>[{'market_value': 520866.67, 'monthly_income':...</td>\n",
                            "      <td>0.04</td>\n",
                            "      <td>0.04</td>\n",
                            "      <td>0.02</td>\n",
                            "      <td>True</td>\n",
                            "      <td>50000</td>\n",
                            "      <td>80-20</td>\n",
                            "      <td>286796.666667</td>\n",
                            "      <td>516375.886667</td>\n",
                            "      <td>2576.48</td>\n",
                            "      <td>520866.67</td>\n",
                            "      <td>2100.0</td>\n",
                            "      <td>229579.22</td>\n",
                            "    </tr>\n",
                            "    <tr>\n",
                            "      <th>2</th>\n",
                            "      <td>129792.560000</td>\n",
                            "      <td>107901.140000</td>\n",
                            "      <td>35993.155556</td>\n",
                            "      <td>16106.844444</td>\n",
                            "      <td>0</td>\n",
                            "      <td>2024-05-01</td>\n",
                            "      <td>0.05</td>\n",
                            "      <td>[{'market_value': 521734.78, 'monthly_income':...</td>\n",
                            "      <td>0.04</td>\n",
                            "      <td>0.04</td>\n",
                            "      <td>0.02</td>\n",
                            "      <td>True</td>\n",
                            "      <td>50000</td>\n",
                            "      <td>80-20</td>\n",
                            "      <td>273686.855556</td>\n",
                            "      <td>504851.285556</td>\n",
                            "      <td>2576.48</td>\n",
                            "      <td>521734.78</td>\n",
                            "      <td>2100.0</td>\n",
                            "      <td>231164.43</td>\n",
                            "    </tr>\n",
                            "    <tr>\n",
                            "      <th>3</th>\n",
                            "      <td>130333.360000</td>\n",
                            "      <td>108260.810000</td>\n",
                            "      <td>21932.621630</td>\n",
                            "      <td>16160.533926</td>\n",
                            "      <td>0</td>\n",
                            "      <td>2024-06-01</td>\n",
                            "      <td>0.05</td>\n",
                            "      <td>[{'market_value': 522604.34, 'monthly_income':...</td>\n",
                            "      <td>0.04</td>\n",
                            "      <td>0.04</td>\n",
                            "      <td>0.02</td>\n",
                            "      <td>True</td>\n",
                            "      <td>50000</td>\n",
                            "      <td>80-20</td>\n",
                            "      <td>260526.791630</td>\n",
                            "      <td>493282.451630</td>\n",
                            "      <td>2576.48</td>\n",
                            "      <td>522604.34</td>\n",
                            "      <td>2100.0</td>\n",
                            "      <td>232755.66</td>\n",
                            "    </tr>\n",
                            "    <tr>\n",
                            "      <th>4</th>\n",
                            "      <td>130876.420000</td>\n",
                            "      <td>108621.680000</td>\n",
                            "      <td>7818.219257</td>\n",
                            "      <td>16214.402372</td>\n",
                            "      <td>0</td>\n",
                            "      <td>2024-07-01</td>\n",
                            "      <td>0.05</td>\n",
                            "      <td>[{'market_value': 523475.35, 'monthly_income':...</td>\n",
                            "      <td>0.04</td>\n",
                            "      <td>0.04</td>\n",
                            "      <td>0.02</td>\n",
                            "      <td>True</td>\n",
                            "      <td>50000</td>\n",
                            "      <td>80-20</td>\n",
                            "      <td>247316.319257</td>\n",
                            "      <td>481669.269257</td>\n",
                            "      <td>2576.48</td>\n",
                            "      <td>523475.35</td>\n",
                            "      <td>2100.0</td>\n",
                            "      <td>234352.95</td>\n",
                            "    </tr>\n",
                            "    <tr>\n",
                            "      <th>5</th>\n",
                            "      <td>131421.740000</td>\n",
                            "      <td>102633.518877</td>\n",
                            "      <td>0.000000</td>\n",
                            "      <td>16268.450380</td>\n",
                            "      <td>0</td>\n",
                            "      <td>2024-08-01</td>\n",
                            "      <td>0.05</td>\n",
                            "      <td>[{'market_value': 524347.81, 'monthly_income':...</td>\n",
                            "      <td>0.04</td>\n",
                            "      <td>0.04</td>\n",
                            "      <td>0.02</td>\n",
                            "      <td>True</td>\n",
                            "      <td>50000</td>\n",
                            "      <td>80-20</td>\n",
                            "      <td>234055.258877</td>\n",
                            "      <td>470011.588877</td>\n",
                            "      <td>2576.48</td>\n",
                            "      <td>524347.81</td>\n",
                            "      <td>2100.0</td>\n",
                            "      <td>235956.33</td>\n",
                            "    </tr>\n",
                            "    <tr>\n",
                            "      <th>6</th>\n",
                            "      <td>131969.330000</td>\n",
                            "      <td>88752.951452</td>\n",
                            "      <td>0.000000</td>\n",
                            "      <td>16322.678548</td>\n",
                            "      <td>0</td>\n",
                            "      <td>2024-09-01</td>\n",
                            "      <td>0.05</td>\n",
                            "      <td>[{'market_value': 525221.72, 'monthly_income':...</td>\n",
                            "      <td>0.04</td>\n",
                            "      <td>0.04</td>\n",
                            "      <td>0.02</td>\n",
                            "      <td>True</td>\n",
                            "      <td>50000</td>\n",
                            "      <td>80-20</td>\n",
                            "      <td>220722.281452</td>\n",
                            "      <td>458288.101452</td>\n",
                            "      <td>2576.48</td>\n",
                            "      <td>525221.72</td>\n",
                            "      <td>2100.0</td>\n",
                            "      <td>237565.82</td>\n",
                            "    </tr>\n",
                            "    <tr>\n",
                            "      <th>7</th>\n",
                            "      <td>132519.200000</td>\n",
                            "      <td>74771.702523</td>\n",
                            "      <td>0.000000</td>\n",
                            "      <td>16377.087477</td>\n",
                            "      <td>0</td>\n",
                            "      <td>2024-10-01</td>\n",
                            "      <td>0.05</td>\n",
                            "      <td>[{'market_value': 526097.09, 'monthly_income':...</td>\n",
                            "      <td>0.04</td>\n",
                            "      <td>0.04</td>\n",
                            "      <td>0.02</td>\n",
                            "      <td>True</td>\n",
                            "      <td>50000</td>\n",
                            "      <td>80-20</td>\n",
                            "      <td>207290.902523</td>\n",
                            "      <td>446472.372523</td>\n",
                            "      <td>2576.48</td>\n",
                            "      <td>526097.09</td>\n",
                            "      <td>2100.0</td>\n",
                            "      <td>239181.47</td>\n",
                            "    </tr>\n",
                            "    <tr>\n",
                            "      <th>8</th>\n",
                            "      <td>133071.360000</td>\n",
                            "      <td>60689.262232</td>\n",
                            "      <td>0.000000</td>\n",
                            "      <td>16431.677768</td>\n",
                            "      <td>0</td>\n",
                            "      <td>2024-11-01</td>\n",
                            "      <td>0.05</td>\n",
                            "      <td>[{'market_value': 526973.92, 'monthly_income':...</td>\n",
                            "      <td>0.04</td>\n",
                            "      <td>0.04</td>\n",
                            "      <td>0.02</td>\n",
                            "      <td>True</td>\n",
                            "      <td>50000</td>\n",
                            "      <td>80-20</td>\n",
                            "      <td>193760.622232</td>\n",
                            "      <td>434563.922232</td>\n",
                            "      <td>2576.48</td>\n",
                            "      <td>526973.92</td>\n",
                            "      <td>2100.0</td>\n",
                            "      <td>240803.30</td>\n",
                            "    </tr>\n",
                            "    <tr>\n",
                            "      <th>9</th>\n",
                            "      <td>133625.820000</td>\n",
                            "      <td>46505.109973</td>\n",
                            "      <td>0.000000</td>\n",
                            "      <td>16486.450027</td>\n",
                            "      <td>0</td>\n",
                            "      <td>2024-12-01</td>\n",
                            "      <td>0.05</td>\n",
                            "      <td>[{'market_value': 527852.21, 'monthly_income':...</td>\n",
                            "      <td>0.04</td>\n",
                            "      <td>0.04</td>\n",
                            "      <td>0.02</td>\n",
                            "      <td>True</td>\n",
                            "      <td>50000</td>\n",
                            "      <td>80-20</td>\n",
                            "      <td>180130.929973</td>\n",
                            "      <td>422562.279973</td>\n",
                            "      <td>2576.48</td>\n",
                            "      <td>527852.21</td>\n",
                            "      <td>2100.0</td>\n",
                            "      <td>242431.35</td>\n",
                            "    </tr>\n",
                            "    <tr>\n",
                            "      <th>10</th>\n",
                            "      <td>134182.590000</td>\n",
                            "      <td>32218.725139</td>\n",
                            "      <td>0.000000</td>\n",
                            "      <td>16541.404861</td>\n",
                            "      <td>0</td>\n",
                            "      <td>2025-01-01</td>\n",
                            "      <td>0.05</td>\n",
                            "      <td>[{'market_value': 528731.96, 'monthly_income':...</td>\n",
                            "      <td>0.04</td>\n",
                            "      <td>0.04</td>\n",
                            "      <td>0.02</td>\n",
                            "      <td>True</td>\n",
                            "      <td>50000</td>\n",
                            "      <td>80-20</td>\n",
                            "      <td>166401.315139</td>\n",
                            "      <td>410466.955139</td>\n",
                            "      <td>2576.48</td>\n",
                            "      <td>528731.96</td>\n",
                            "      <td>2100.0</td>\n",
                            "      <td>244065.64</td>\n",
                            "    </tr>\n",
                            "    <tr>\n",
                            "      <th>11</th>\n",
                            "      <td>134741.680000</td>\n",
                            "      <td>17829.577123</td>\n",
                            "      <td>0.000000</td>\n",
                            "      <td>16596.542877</td>\n",
                            "      <td>0</td>\n",
                            "      <td>2025-02-01</td>\n",
                            "      <td>0.05</td>\n",
                            "      <td>[{'market_value': 529613.18, 'monthly_income':...</td>\n",
                            "      <td>0.04</td>\n",
                            "      <td>0.04</td>\n",
                            "      <td>0.02</td>\n",
                            "      <td>True</td>\n",
                            "      <td>50000</td>\n",
                            "      <td>80-20</td>\n",
                            "      <td>152571.257123</td>\n",
                            "      <td>398277.477123</td>\n",
                            "      <td>2576.48</td>\n",
                            "      <td>529613.18</td>\n",
                            "      <td>2100.0</td>\n",
                            "      <td>245706.22</td>\n",
                            "    </tr>\n",
                            "    <tr>\n",
                            "      <th>12</th>\n",
                            "      <td>135303.100000</td>\n",
                            "      <td>3337.145313</td>\n",
                            "      <td>0.000000</td>\n",
                            "      <td>16651.864687</td>\n",
                            "      <td>0</td>\n",
                            "      <td>2025-03-01</td>\n",
                            "      <td>0.05</td>\n",
                            "      <td>[{'market_value': 530495.87, 'monthly_income':...</td>\n",
                            "      <td>0.04</td>\n",
                            "      <td>0.04</td>\n",
                            "      <td>0.02</td>\n",
                            "      <td>True</td>\n",
                            "      <td>50000</td>\n",
                            "      <td>80-20</td>\n",
                            "      <td>138640.245313</td>\n",
                            "      <td>385993.365313</td>\n",
                            "      <td>2576.48</td>\n",
                            "      <td>530495.87</td>\n",
                            "      <td>2100.0</td>\n",
                            "      <td>247353.12</td>\n",
                            "    </tr>\n",
                            "    <tr>\n",
                            "      <th>13</th>\n",
                            "      <td>124607.759098</td>\n",
                            "      <td>0.000000</td>\n",
                            "      <td>0.000000</td>\n",
                            "      <td>16707.370902</td>\n",
                            "      <td>0</td>\n",
                            "      <td>2025-04-01</td>\n",
                            "      <td>0.05</td>\n",
                            "      <td>[{'market_value': 531380.03, 'monthly_income':...</td>\n",
                            "      <td>0.04</td>\n",
                            "      <td>0.04</td>\n",
                            "      <td>0.02</td>\n",
                            "      <td>True</td>\n",
                            "      <td>50000</td>\n",
                            "      <td>80-20</td>\n",
                            "      <td>124607.759098</td>\n",
                            "      <td>373614.129098</td>\n",
                            "      <td>2576.48</td>\n",
                            "      <td>531380.03</td>\n",
                            "      <td>2100.0</td>\n",
                            "      <td>249006.37</td>\n",
                            "    </tr>\n",
                            "    <tr>\n",
                            "      <th>14</th>\n",
                            "      <td>110463.897861</td>\n",
                            "      <td>0.000000</td>\n",
                            "      <td>0.000000</td>\n",
                            "      <td>16763.062139</td>\n",
                            "      <td>0</td>\n",
                            "      <td>2025-05-01</td>\n",
                            "      <td>0.05</td>\n",
                            "      <td>[{'market_value': 532265.66, 'monthly_income':...</td>\n",
                            "      <td>0.04</td>\n",
                            "      <td>0.04</td>\n",
                            "      <td>0.02</td>\n",
                            "      <td>True</td>\n",
                            "      <td>50000</td>\n",
                            "      <td>80-20</td>\n",
                            "      <td>110463.897861</td>\n",
                            "      <td>361129.887861</td>\n",
                            "      <td>2576.48</td>\n",
                            "      <td>532265.66</td>\n",
                            "      <td>2100.0</td>\n",
                            "      <td>250665.99</td>\n",
                            "    </tr>\n",
                            "    <tr>\n",
                            "      <th>15</th>\n",
                            "      <td>96205.220988</td>\n",
                            "      <td>0.000000</td>\n",
                            "      <td>0.000000</td>\n",
                            "      <td>16818.939012</td>\n",
                            "      <td>0</td>\n",
                            "      <td>2025-06-01</td>\n",
                            "      <td>0.05</td>\n",
                            "      <td>[{'market_value': 533152.77, 'monthly_income':...</td>\n",
                            "      <td>0.04</td>\n",
                            "      <td>0.04</td>\n",
                            "      <td>0.02</td>\n",
                            "      <td>True</td>\n",
                            "      <td>50000</td>\n",
                            "      <td>80-20</td>\n",
                            "      <td>96205.220988</td>\n",
                            "      <td>348537.260988</td>\n",
                            "      <td>2576.48</td>\n",
                            "      <td>533152.77</td>\n",
                            "      <td>2100.0</td>\n",
                            "      <td>252332.04</td>\n",
                            "    </tr>\n",
                            "    <tr>\n",
                            "      <th>16</th>\n",
                            "      <td>81831.077857</td>\n",
                            "      <td>0.000000</td>\n",
                            "      <td>0.000000</td>\n",
                            "      <td>16875.002143</td>\n",
                            "      <td>0</td>\n",
                            "      <td>2025-07-01</td>\n",
                            "      <td>0.05</td>\n",
                            "      <td>[{'market_value': 534041.36, 'monthly_income':...</td>\n",
                            "      <td>0.04</td>\n",
                            "      <td>0.04</td>\n",
                            "      <td>0.02</td>\n",
                            "      <td>True</td>\n",
                            "      <td>50000</td>\n",
                            "      <td>80-20</td>\n",
                            "      <td>81831.077857</td>\n",
                            "      <td>335835.617857</td>\n",
                            "      <td>2576.48</td>\n",
                            "      <td>534041.36</td>\n",
                            "      <td>2100.0</td>\n",
                            "      <td>254004.54</td>\n",
                            "    </tr>\n",
                            "    <tr>\n",
                            "      <th>17</th>\n",
                            "      <td>67340.787850</td>\n",
                            "      <td>0.000000</td>\n",
                            "      <td>0.000000</td>\n",
                            "      <td>16931.252150</td>\n",
                            "      <td>0</td>\n",
                            "      <td>2025-08-01</td>\n",
                            "      <td>0.05</td>\n",
                            "      <td>[{'market_value': 534931.43, 'monthly_income':...</td>\n",
                            "      <td>0.04</td>\n",
                            "      <td>0.04</td>\n",
                            "      <td>0.02</td>\n",
                            "      <td>True</td>\n",
                            "      <td>50000</td>\n",
                            "      <td>80-20</td>\n",
                            "      <td>67340.787850</td>\n",
                            "      <td>323024.307850</td>\n",
                            "      <td>2576.48</td>\n",
                            "      <td>534931.43</td>\n",
                            "      <td>2100.0</td>\n",
                            "      <td>255683.52</td>\n",
                            "    </tr>\n",
                            "    <tr>\n",
                            "      <th>18</th>\n",
                            "      <td>52733.680343</td>\n",
                            "      <td>0.000000</td>\n",
                            "      <td>0.000000</td>\n",
                            "      <td>16987.689657</td>\n",
                            "      <td>0</td>\n",
                            "      <td>2025-09-01</td>\n",
                            "      <td>0.05</td>\n",
                            "      <td>[{'market_value': 535822.98, 'monthly_income':...</td>\n",
                            "      <td>0.04</td>\n",
                            "      <td>0.04</td>\n",
                            "      <td>0.02</td>\n",
                            "      <td>True</td>\n",
                            "      <td>50000</td>\n",
                            "      <td>80-20</td>\n",
                            "      <td>52733.680343</td>\n",
                            "      <td>310102.700343</td>\n",
                            "      <td>2576.48</td>\n",
                            "      <td>535822.98</td>\n",
                            "      <td>2100.0</td>\n",
                            "      <td>257369.02</td>\n",
                            "    </tr>\n",
                            "    <tr>\n",
                            "      <th>19</th>\n",
                            "      <td>38009.084711</td>\n",
                            "      <td>0.000000</td>\n",
                            "      <td>0.000000</td>\n",
                            "      <td>17044.315289</td>\n",
                            "      <td>0</td>\n",
                            "      <td>2025-10-01</td>\n",
                            "      <td>0.05</td>\n",
                            "      <td>[{'market_value': 536716.02, 'monthly_income':...</td>\n",
                            "      <td>0.04</td>\n",
                            "      <td>0.04</td>\n",
                            "      <td>0.02</td>\n",
                            "      <td>True</td>\n",
                            "      <td>50000</td>\n",
                            "      <td>80-20</td>\n",
                            "      <td>38009.084711</td>\n",
                            "      <td>297070.164711</td>\n",
                            "      <td>2576.48</td>\n",
                            "      <td>536716.02</td>\n",
                            "      <td>2100.0</td>\n",
                            "      <td>259061.08</td>\n",
                            "    </tr>\n",
                            "    <tr>\n",
                            "      <th>20</th>\n",
                            "      <td>23166.330327</td>\n",
                            "      <td>0.000000</td>\n",
                            "      <td>0.000000</td>\n",
                            "      <td>17101.129673</td>\n",
                            "      <td>0</td>\n",
                            "      <td>2025-11-01</td>\n",
                            "      <td>0.05</td>\n",
                            "      <td>[{'market_value': 537610.55, 'monthly_income':...</td>\n",
                            "      <td>0.04</td>\n",
                            "      <td>0.04</td>\n",
                            "      <td>0.02</td>\n",
                            "      <td>True</td>\n",
                            "      <td>50000</td>\n",
                            "      <td>80-20</td>\n",
                            "      <td>23166.330327</td>\n",
                            "      <td>283926.060327</td>\n",
                            "      <td>2576.48</td>\n",
                            "      <td>537610.55</td>\n",
                            "      <td>2100.0</td>\n",
                            "      <td>260759.73</td>\n",
                            "    </tr>\n",
                            "    <tr>\n",
                            "      <th>21</th>\n",
                            "      <td>8204.726561</td>\n",
                            "      <td>0.000000</td>\n",
                            "      <td>0.000000</td>\n",
                            "      <td>17158.133439</td>\n",
                            "      <td>0</td>\n",
                            "      <td>2025-12-01</td>\n",
                            "      <td>0.05</td>\n",
                            "      <td>[{'market_value': 538506.57, 'monthly_income':...</td>\n",
                            "      <td>0.04</td>\n",
                            "      <td>0.04</td>\n",
                            "      <td>0.02</td>\n",
                            "      <td>True</td>\n",
                            "      <td>50000</td>\n",
                            "      <td>80-20</td>\n",
                            "      <td>8204.726561</td>\n",
                            "      <td>270669.726561</td>\n",
                            "      <td>2576.48</td>\n",
                            "      <td>538506.57</td>\n",
                            "      <td>2100.0</td>\n",
                            "      <td>262465.00</td>\n",
                            "    </tr>\n",
                            "    <tr>\n",
                            "      <th>22</th>\n",
                            "      <td>165840.402226</td>\n",
                            "      <td>41460.100557</td>\n",
                            "      <td>50000.000000</td>\n",
                            "      <td>17215.327217</td>\n",
                            "      <td>0</td>\n",
                            "      <td>2026-01-01</td>\n",
                            "      <td>0.05</td>\n",
                            "      <td>[]</td>\n",
                            "      <td>0.04</td>\n",
                            "      <td>0.04</td>\n",
                            "      <td>0.02</td>\n",
                            "      <td>True</td>\n",
                            "      <td>50000</td>\n",
                            "      <td>80-20</td>\n",
                            "      <td>257300.502783</td>\n",
                            "      <td>257300.502783</td>\n",
                            "      <td>0</td>\n",
                            "      <td>0.00</td>\n",
                            "      <td>0.0</td>\n",
                            "      <td>0.00</td>\n",
                            "    </tr>\n",
                            "    <tr>\n",
                            "      <th>23</th>\n",
                            "      <td>166531.400000</td>\n",
                            "      <td>41598.300000</td>\n",
                            "      <td>32727.288359</td>\n",
                            "      <td>17272.711641</td>\n",
                            "      <td>0</td>\n",
                            "      <td>2026-02-01</td>\n",
                            "      <td>0.05</td>\n",
                            "      <td>[]</td>\n",
                            "      <td>0.04</td>\n",
                            "      <td>0.04</td>\n",
                            "      <td>0.02</td>\n",
                            "      <td>True</td>\n",
                            "      <td>50000</td>\n",
                            "      <td>80-20</td>\n",
                            "      <td>240856.988359</td>\n",
                            "      <td>240856.988359</td>\n",
                            "      <td>0</td>\n",
                            "      <td>0.00</td>\n",
                            "      <td>0.0</td>\n",
                            "      <td>0.00</td>\n",
                            "    </tr>\n",
                            "    <tr>\n",
                            "      <th>24</th>\n",
                            "      <td>167225.280000</td>\n",
                            "      <td>41736.960000</td>\n",
                            "      <td>15397.001012</td>\n",
                            "      <td>17330.287347</td>\n",
                            "      <td>0</td>\n",
                            "      <td>2026-03-01</td>\n",
                            "      <td>0.05</td>\n",
                            "      <td>[]</td>\n",
                            "      <td>0.04</td>\n",
                            "      <td>0.04</td>\n",
                            "      <td>0.02</td>\n",
                            "      <td>True</td>\n",
                            "      <td>50000</td>\n",
                            "      <td>80-20</td>\n",
                            "      <td>224359.241012</td>\n",
                            "      <td>224359.241012</td>\n",
                            "      <td>0</td>\n",
                            "      <td>0.00</td>\n",
                            "      <td>0.0</td>\n",
                            "      <td>0.00</td>\n",
                            "    </tr>\n",
                            "    <tr>\n",
                            "      <th>25</th>\n",
                            "      <td>167922.050000</td>\n",
                            "      <td>39885.026041</td>\n",
                            "      <td>0.000000</td>\n",
                            "      <td>17388.054971</td>\n",
                            "      <td>0</td>\n",
                            "      <td>2026-04-01</td>\n",
                            "      <td>0.05</td>\n",
                            "      <td>[]</td>\n",
                            "      <td>0.04</td>\n",
                            "      <td>0.04</td>\n",
                            "      <td>0.02</td>\n",
                            "      <td>True</td>\n",
                            "      <td>50000</td>\n",
                            "      <td>80-20</td>\n",
                            "      <td>207807.076041</td>\n",
                            "      <td>207807.076041</td>\n",
                            "      <td>0</td>\n",
                            "      <td>0.00</td>\n",
                            "      <td>0.0</td>\n",
                            "      <td>0.00</td>\n",
                            "    </tr>\n",
                            "    <tr>\n",
                            "      <th>26</th>\n",
                            "      <td>168621.730000</td>\n",
                            "      <td>22571.964846</td>\n",
                            "      <td>0.000000</td>\n",
                            "      <td>17446.015154</td>\n",
                            "      <td>0</td>\n",
                            "      <td>2026-05-01</td>\n",
                            "      <td>0.05</td>\n",
                            "      <td>[]</td>\n",
                            "      <td>0.04</td>\n",
                            "      <td>0.04</td>\n",
                            "      <td>0.02</td>\n",
                            "      <td>True</td>\n",
                            "      <td>50000</td>\n",
                            "      <td>80-20</td>\n",
                            "      <td>191193.694846</td>\n",
                            "      <td>191193.694846</td>\n",
                            "      <td>0</td>\n",
                            "      <td>0.00</td>\n",
                            "      <td>0.0</td>\n",
                            "      <td>0.00</td>\n",
                            "    </tr>\n",
                            "    <tr>\n",
                            "      <th>27</th>\n",
                            "      <td>169324.320000</td>\n",
                            "      <td>5143.031462</td>\n",
                            "      <td>0.000000</td>\n",
                            "      <td>17504.168538</td>\n",
                            "      <td>0</td>\n",
                            "      <td>2026-06-01</td>\n",
                            "      <td>0.05</td>\n",
                            "      <td>[]</td>\n",
                            "      <td>0.04</td>\n",
                            "      <td>0.04</td>\n",
                            "      <td>0.02</td>\n",
                            "      <td>True</td>\n",
                            "      <td>50000</td>\n",
                            "      <td>80-20</td>\n",
                            "      <td>174467.351462</td>\n",
                            "      <td>174467.351462</td>\n",
                            "      <td>0</td>\n",
                            "      <td>0.00</td>\n",
                            "      <td>0.0</td>\n",
                            "      <td>0.00</td>\n",
                            "    </tr>\n",
                            "    <tr>\n",
                            "      <th>28</th>\n",
                            "      <td>157627.494233</td>\n",
                            "      <td>0.000000</td>\n",
                            "      <td>0.000000</td>\n",
                            "      <td>17562.515767</td>\n",
                            "      <td>0</td>\n",
                            "      <td>2026-07-01</td>\n",
                            "      <td>0.05</td>\n",
                            "      <td>[]</td>\n",
                            "      <td>0.04</td>\n",
                            "      <td>0.04</td>\n",
                            "      <td>0.02</td>\n",
                            "      <td>True</td>\n",
                            "      <td>50000</td>\n",
                            "      <td>80-20</td>\n",
                            "      <td>157627.494233</td>\n",
                            "      <td>157627.494233</td>\n",
                            "      <td>0</td>\n",
                            "      <td>0.00</td>\n",
                            "      <td>0.0</td>\n",
                            "      <td>0.00</td>\n",
                            "    </tr>\n",
                            "    <tr>\n",
                            "      <th>29</th>\n",
                            "      <td>140663.222514</td>\n",
                            "      <td>0.000000</td>\n",
                            "      <td>0.000000</td>\n",
                            "      <td>17621.057486</td>\n",
                            "      <td>0</td>\n",
                            "      <td>2026-08-01</td>\n",
                            "      <td>0.05</td>\n",
                            "      <td>[]</td>\n",
                            "      <td>0.04</td>\n",
                            "      <td>0.04</td>\n",
                            "      <td>0.02</td>\n",
                            "      <td>True</td>\n",
                            "      <td>50000</td>\n",
                            "      <td>80-20</td>\n",
                            "      <td>140663.222514</td>\n",
                            "      <td>140663.222514</td>\n",
                            "      <td>0</td>\n",
                            "      <td>0.00</td>\n",
                            "      <td>0.0</td>\n",
                            "      <td>0.00</td>\n",
                            "    </tr>\n",
                            "    <tr>\n",
                            "      <th>30</th>\n",
                            "      <td>123569.525656</td>\n",
                            "      <td>0.000000</td>\n",
                            "      <td>0.000000</td>\n",
                            "      <td>17679.794344</td>\n",
                            "      <td>0</td>\n",
                            "      <td>2026-09-01</td>\n",
                            "      <td>0.05</td>\n",
                            "      <td>[]</td>\n",
                            "      <td>0.04</td>\n",
                            "      <td>0.04</td>\n",
                            "      <td>0.02</td>\n",
                            "      <td>True</td>\n",
                            "      <td>50000</td>\n",
                            "      <td>80-20</td>\n",
                            "      <td>123569.525656</td>\n",
                            "      <td>123569.525656</td>\n",
                            "      <td>0</td>\n",
                            "      <td>0.00</td>\n",
                            "      <td>0.0</td>\n",
                            "      <td>0.00</td>\n",
                            "    </tr>\n",
                            "    <tr>\n",
                            "      <th>31</th>\n",
                            "      <td>106345.673008</td>\n",
                            "      <td>0.000000</td>\n",
                            "      <td>0.000000</td>\n",
                            "      <td>17738.726992</td>\n",
                            "      <td>0</td>\n",
                            "      <td>2026-10-01</td>\n",
                            "      <td>0.05</td>\n",
                            "      <td>[]</td>\n",
                            "      <td>0.04</td>\n",
                            "      <td>0.04</td>\n",
                            "      <td>0.02</td>\n",
                            "      <td>True</td>\n",
                            "      <td>50000</td>\n",
                            "      <td>80-20</td>\n",
                            "      <td>106345.673008</td>\n",
                            "      <td>106345.673008</td>\n",
                            "      <td>0</td>\n",
                            "      <td>0.00</td>\n",
                            "      <td>0.0</td>\n",
                            "      <td>0.00</td>\n",
                            "    </tr>\n",
                            "    <tr>\n",
                            "      <th>32</th>\n",
                            "      <td>88990.923918</td>\n",
                            "      <td>0.000000</td>\n",
                            "      <td>0.000000</td>\n",
                            "      <td>17797.856082</td>\n",
                            "      <td>0</td>\n",
                            "      <td>2026-11-01</td>\n",
                            "      <td>0.05</td>\n",
                            "      <td>[]</td>\n",
                            "      <td>0.04</td>\n",
                            "      <td>0.04</td>\n",
                            "      <td>0.02</td>\n",
                            "      <td>True</td>\n",
                            "      <td>50000</td>\n",
                            "      <td>80-20</td>\n",
                            "      <td>88990.923918</td>\n",
                            "      <td>88990.923918</td>\n",
                            "      <td>0</td>\n",
                            "      <td>0.00</td>\n",
                            "      <td>0.0</td>\n",
                            "      <td>0.00</td>\n",
                            "    </tr>\n",
                            "    <tr>\n",
                            "      <th>33</th>\n",
                            "      <td>71504.537731</td>\n",
                            "      <td>0.000000</td>\n",
                            "      <td>0.000000</td>\n",
                            "      <td>17857.182269</td>\n",
                            "      <td>0</td>\n",
                            "      <td>2026-12-01</td>\n",
                            "      <td>0.05</td>\n",
                            "      <td>[]</td>\n",
                            "      <td>0.04</td>\n",
                            "      <td>0.04</td>\n",
                            "      <td>0.02</td>\n",
                            "      <td>True</td>\n",
                            "      <td>50000</td>\n",
                            "      <td>80-20</td>\n",
                            "      <td>71504.537731</td>\n",
                            "      <td>71504.537731</td>\n",
                            "      <td>0</td>\n",
                            "      <td>0.00</td>\n",
                            "      <td>0.0</td>\n",
                            "      <td>0.00</td>\n",
                            "    </tr>\n",
                            "    <tr>\n",
                            "      <th>34</th>\n",
                            "      <td>53885.763790</td>\n",
                            "      <td>0.000000</td>\n",
                            "      <td>0.000000</td>\n",
                            "      <td>17916.706210</td>\n",
                            "      <td>0</td>\n",
                            "      <td>2027-01-01</td>\n",
                            "      <td>0.05</td>\n",
                            "      <td>[]</td>\n",
                            "      <td>0.04</td>\n",
                            "      <td>0.04</td>\n",
                            "      <td>0.02</td>\n",
                            "      <td>True</td>\n",
                            "      <td>50000</td>\n",
                            "      <td>80-20</td>\n",
                            "      <td>53885.763790</td>\n",
                            "      <td>53885.763790</td>\n",
                            "      <td>0</td>\n",
                            "      <td>0.00</td>\n",
                            "      <td>0.0</td>\n",
                            "      <td>0.00</td>\n",
                            "    </tr>\n",
                            "    <tr>\n",
                            "      <th>35</th>\n",
                            "      <td>36133.861436</td>\n",
                            "      <td>0.000000</td>\n",
                            "      <td>0.000000</td>\n",
                            "      <td>17976.428564</td>\n",
                            "      <td>0</td>\n",
                            "      <td>2027-02-01</td>\n",
                            "      <td>0.05</td>\n",
                            "      <td>[]</td>\n",
                            "      <td>0.04</td>\n",
                            "      <td>0.04</td>\n",
                            "      <td>0.02</td>\n",
                            "      <td>True</td>\n",
                            "      <td>50000</td>\n",
                            "      <td>80-20</td>\n",
                            "      <td>36133.861436</td>\n",
                            "      <td>36133.861436</td>\n",
                            "      <td>0</td>\n",
                            "      <td>0.00</td>\n",
                            "      <td>0.0</td>\n",
                            "      <td>0.00</td>\n",
                            "    </tr>\n",
                            "    <tr>\n",
                            "      <th>36</th>\n",
                            "      <td>18248.070008</td>\n",
                            "      <td>0.000000</td>\n",
                            "      <td>0.000000</td>\n",
                            "      <td>18036.349992</td>\n",
                            "      <td>0</td>\n",
                            "      <td>2027-03-01</td>\n",
                            "      <td>0.05</td>\n",
                            "      <td>[]</td>\n",
                            "      <td>0.04</td>\n",
                            "      <td>0.04</td>\n",
                            "      <td>0.02</td>\n",
                            "      <td>True</td>\n",
                            "      <td>50000</td>\n",
                            "      <td>80-20</td>\n",
                            "      <td>18248.070008</td>\n",
                            "      <td>18248.070008</td>\n",
                            "      <td>0</td>\n",
                            "      <td>0.00</td>\n",
                            "      <td>0.0</td>\n",
                            "      <td>0.00</td>\n",
                            "    </tr>\n",
                            "    <tr>\n",
                            "      <th>37</th>\n",
                            "      <td>227.628841</td>\n",
                            "      <td>0.000000</td>\n",
                            "      <td>0.000000</td>\n",
                            "      <td>18096.471159</td>\n",
                            "      <td>0</td>\n",
                            "      <td>2027-04-01</td>\n",
                            "      <td>0.05</td>\n",
                            "      <td>[]</td>\n",
                            "      <td>0.04</td>\n",
                            "      <td>0.04</td>\n",
                            "      <td>0.02</td>\n",
                            "      <td>True</td>\n",
                            "      <td>50000</td>\n",
                            "      <td>80-20</td>\n",
                            "      <td>227.628841</td>\n",
                            "      <td>227.628841</td>\n",
                            "      <td>0</td>\n",
                            "      <td>0.00</td>\n",
                            "      <td>0.0</td>\n",
                            "      <td>0.00</td>\n",
                            "    </tr>\n",
                            "  </tbody>\n",
                            "</table>\n",
                            "</div>"
                        ],
                        "text/plain": [
                            "    stock_investments  bonds_investments           cash  monthly_expenses  \\\n",
                            "0       100000.000000      100000.000000  100000.000000      16000.000000   \n",
                            "1       129254.003333      107542.663333   50000.000000      16053.333333   \n",
                            "2       129792.560000      107901.140000   35993.155556      16106.844444   \n",
                            "3       130333.360000      108260.810000   21932.621630      16160.533926   \n",
                            "4       130876.420000      108621.680000    7818.219257      16214.402372   \n",
                            "5       131421.740000      102633.518877       0.000000      16268.450380   \n",
                            "6       131969.330000       88752.951452       0.000000      16322.678548   \n",
                            "7       132519.200000       74771.702523       0.000000      16377.087477   \n",
                            "8       133071.360000       60689.262232       0.000000      16431.677768   \n",
                            "9       133625.820000       46505.109973       0.000000      16486.450027   \n",
                            "10      134182.590000       32218.725139       0.000000      16541.404861   \n",
                            "11      134741.680000       17829.577123       0.000000      16596.542877   \n",
                            "12      135303.100000        3337.145313       0.000000      16651.864687   \n",
                            "13      124607.759098           0.000000       0.000000      16707.370902   \n",
                            "14      110463.897861           0.000000       0.000000      16763.062139   \n",
                            "15       96205.220988           0.000000       0.000000      16818.939012   \n",
                            "16       81831.077857           0.000000       0.000000      16875.002143   \n",
                            "17       67340.787850           0.000000       0.000000      16931.252150   \n",
                            "18       52733.680343           0.000000       0.000000      16987.689657   \n",
                            "19       38009.084711           0.000000       0.000000      17044.315289   \n",
                            "20       23166.330327           0.000000       0.000000      17101.129673   \n",
                            "21        8204.726561           0.000000       0.000000      17158.133439   \n",
                            "22      165840.402226       41460.100557   50000.000000      17215.327217   \n",
                            "23      166531.400000       41598.300000   32727.288359      17272.711641   \n",
                            "24      167225.280000       41736.960000   15397.001012      17330.287347   \n",
                            "25      167922.050000       39885.026041       0.000000      17388.054971   \n",
                            "26      168621.730000       22571.964846       0.000000      17446.015154   \n",
                            "27      169324.320000        5143.031462       0.000000      17504.168538   \n",
                            "28      157627.494233           0.000000       0.000000      17562.515767   \n",
                            "29      140663.222514           0.000000       0.000000      17621.057486   \n",
                            "30      123569.525656           0.000000       0.000000      17679.794344   \n",
                            "31      106345.673008           0.000000       0.000000      17738.726992   \n",
                            "32       88990.923918           0.000000       0.000000      17797.856082   \n",
                            "33       71504.537731           0.000000       0.000000      17857.182269   \n",
                            "34       53885.763790           0.000000       0.000000      17916.706210   \n",
                            "35       36133.861436           0.000000       0.000000      17976.428564   \n",
                            "36       18248.070008           0.000000       0.000000      18036.349992   \n",
                            "37         227.628841           0.000000       0.000000      18096.471159   \n",
                            "\n",
                            "    monthly_income       date  return_rate_from_investment  \\\n",
                            "0                0 2024-03-01                         0.05   \n",
                            "1                0 2024-04-01                         0.05   \n",
                            "2                0 2024-05-01                         0.05   \n",
                            "3                0 2024-06-01                         0.05   \n",
                            "4                0 2024-07-01                         0.05   \n",
                            "5                0 2024-08-01                         0.05   \n",
                            "6                0 2024-09-01                         0.05   \n",
                            "7                0 2024-10-01                         0.05   \n",
                            "8                0 2024-11-01                         0.05   \n",
                            "9                0 2024-12-01                         0.05   \n",
                            "10               0 2025-01-01                         0.05   \n",
                            "11               0 2025-02-01                         0.05   \n",
                            "12               0 2025-03-01                         0.05   \n",
                            "13               0 2025-04-01                         0.05   \n",
                            "14               0 2025-05-01                         0.05   \n",
                            "15               0 2025-06-01                         0.05   \n",
                            "16               0 2025-07-01                         0.05   \n",
                            "17               0 2025-08-01                         0.05   \n",
                            "18               0 2025-09-01                         0.05   \n",
                            "19               0 2025-10-01                         0.05   \n",
                            "20               0 2025-11-01                         0.05   \n",
                            "21               0 2025-12-01                         0.05   \n",
                            "22               0 2026-01-01                         0.05   \n",
                            "23               0 2026-02-01                         0.05   \n",
                            "24               0 2026-03-01                         0.05   \n",
                            "25               0 2026-04-01                         0.05   \n",
                            "26               0 2026-05-01                         0.05   \n",
                            "27               0 2026-06-01                         0.05   \n",
                            "28               0 2026-07-01                         0.05   \n",
                            "29               0 2026-08-01                         0.05   \n",
                            "30               0 2026-09-01                         0.05   \n",
                            "31               0 2026-10-01                         0.05   \n",
                            "32               0 2026-11-01                         0.05   \n",
                            "33               0 2026-12-01                         0.05   \n",
                            "34               0 2027-01-01                         0.05   \n",
                            "35               0 2027-02-01                         0.05   \n",
                            "36               0 2027-03-01                         0.05   \n",
                            "37               0 2027-04-01                         0.05   \n",
                            "\n",
                            "                                investment_properties  return_rate_from_bonds  \\\n",
                            "0   [{'market_value': 520000, 'monthly_income': 21...                    0.04   \n",
                            "1   [{'market_value': 520866.67, 'monthly_income':...                    0.04   \n",
                            "2   [{'market_value': 521734.78, 'monthly_income':...                    0.04   \n",
                            "3   [{'market_value': 522604.34, 'monthly_income':...                    0.04   \n",
                            "4   [{'market_value': 523475.35, 'monthly_income':...                    0.04   \n",
                            "5   [{'market_value': 524347.81, 'monthly_income':...                    0.04   \n",
                            "6   [{'market_value': 525221.72, 'monthly_income':...                    0.04   \n",
                            "7   [{'market_value': 526097.09, 'monthly_income':...                    0.04   \n",
                            "8   [{'market_value': 526973.92, 'monthly_income':...                    0.04   \n",
                            "9   [{'market_value': 527852.21, 'monthly_income':...                    0.04   \n",
                            "10  [{'market_value': 528731.96, 'monthly_income':...                    0.04   \n",
                            "11  [{'market_value': 529613.18, 'monthly_income':...                    0.04   \n",
                            "12  [{'market_value': 530495.87, 'monthly_income':...                    0.04   \n",
                            "13  [{'market_value': 531380.03, 'monthly_income':...                    0.04   \n",
                            "14  [{'market_value': 532265.66, 'monthly_income':...                    0.04   \n",
                            "15  [{'market_value': 533152.77, 'monthly_income':...                    0.04   \n",
                            "16  [{'market_value': 534041.36, 'monthly_income':...                    0.04   \n",
                            "17  [{'market_value': 534931.43, 'monthly_income':...                    0.04   \n",
                            "18  [{'market_value': 535822.98, 'monthly_income':...                    0.04   \n",
                            "19  [{'market_value': 536716.02, 'monthly_income':...                    0.04   \n",
                            "20  [{'market_value': 537610.55, 'monthly_income':...                    0.04   \n",
                            "21  [{'market_value': 538506.57, 'monthly_income':...                    0.04   \n",
                            "22                                                 []                    0.04   \n",
                            "23                                                 []                    0.04   \n",
                            "24                                                 []                    0.04   \n",
                            "25                                                 []                    0.04   \n",
                            "26                                                 []                    0.04   \n",
                            "27                                                 []                    0.04   \n",
                            "28                                                 []                    0.04   \n",
                            "29                                                 []                    0.04   \n",
                            "30                                                 []                    0.04   \n",
                            "31                                                 []                    0.04   \n",
                            "32                                                 []                    0.04   \n",
                            "33                                                 []                    0.04   \n",
                            "34                                                 []                    0.04   \n",
                            "35                                                 []                    0.04   \n",
                            "36                                                 []                    0.04   \n",
                            "37                                                 []                    0.04   \n",
                            "\n",
                            "    annual_inflation_rate annual_property_appreciation_rate  \\\n",
                            "0                    0.04                              0.02   \n",
                            "1                    0.04                              0.02   \n",
                            "2                    0.04                              0.02   \n",
                            "3                    0.04                              0.02   \n",
                            "4                    0.04                              0.02   \n",
                            "5                    0.04                              0.02   \n",
                            "6                    0.04                              0.02   \n",
                            "7                    0.04                              0.02   \n",
                            "8                    0.04                              0.02   \n",
                            "9                    0.04                              0.02   \n",
                            "10                   0.04                              0.02   \n",
                            "11                   0.04                              0.02   \n",
                            "12                   0.04                              0.02   \n",
                            "13                   0.04                              0.02   \n",
                            "14                   0.04                              0.02   \n",
                            "15                   0.04                              0.02   \n",
                            "16                   0.04                              0.02   \n",
                            "17                   0.04                              0.02   \n",
                            "18                   0.04                              0.02   \n",
                            "19                   0.04                              0.02   \n",
                            "20                   0.04                              0.02   \n",
                            "21                   0.04                              0.02   \n",
                            "22                   0.04                              0.02   \n",
                            "23                   0.04                              0.02   \n",
                            "24                   0.04                              0.02   \n",
                            "25                   0.04                              0.02   \n",
                            "26                   0.04                              0.02   \n",
                            "27                   0.04                              0.02   \n",
                            "28                   0.04                              0.02   \n",
                            "29                   0.04                              0.02   \n",
                            "30                   0.04                              0.02   \n",
                            "31                   0.04                              0.02   \n",
                            "32                   0.04                              0.02   \n",
                            "33                   0.04                              0.02   \n",
                            "34                   0.04                              0.02   \n",
                            "35                   0.04                              0.02   \n",
                            "36                   0.04                              0.02   \n",
                            "37                   0.04                              0.02   \n",
                            "\n",
                            "    invest_cash_surplus  invest_cash_threshold invest_cash_surplus_strategy  \\\n",
                            "0                  True                  50000                        80-20   \n",
                            "1                  True                  50000                        80-20   \n",
                            "2                  True                  50000                        80-20   \n",
                            "3                  True                  50000                        80-20   \n",
                            "4                  True                  50000                        80-20   \n",
                            "5                  True                  50000                        80-20   \n",
                            "6                  True                  50000                        80-20   \n",
                            "7                  True                  50000                        80-20   \n",
                            "8                  True                  50000                        80-20   \n",
                            "9                  True                  50000                        80-20   \n",
                            "10                 True                  50000                        80-20   \n",
                            "11                 True                  50000                        80-20   \n",
                            "12                 True                  50000                        80-20   \n",
                            "13                 True                  50000                        80-20   \n",
                            "14                 True                  50000                        80-20   \n",
                            "15                 True                  50000                        80-20   \n",
                            "16                 True                  50000                        80-20   \n",
                            "17                 True                  50000                        80-20   \n",
                            "18                 True                  50000                        80-20   \n",
                            "19                 True                  50000                        80-20   \n",
                            "20                 True                  50000                        80-20   \n",
                            "21                 True                  50000                        80-20   \n",
                            "22                 True                  50000                        80-20   \n",
                            "23                 True                  50000                        80-20   \n",
                            "24                 True                  50000                        80-20   \n",
                            "25                 True                  50000                        80-20   \n",
                            "26                 True                  50000                        80-20   \n",
                            "27                 True                  50000                        80-20   \n",
                            "28                 True                  50000                        80-20   \n",
                            "29                 True                  50000                        80-20   \n",
                            "30                 True                  50000                        80-20   \n",
                            "31                 True                  50000                        80-20   \n",
                            "32                 True                  50000                        80-20   \n",
                            "33                 True                  50000                        80-20   \n",
                            "34                 True                  50000                        80-20   \n",
                            "35                 True                  50000                        80-20   \n",
                            "36                 True                  50000                        80-20   \n",
                            "37                 True                  50000                        80-20   \n",
                            "\n",
                            "    liquid_wealth  wealth_inc_properties properties_monthly_mortgage  \\\n",
                            "0   300000.000000          528000.000000                     2576.48   \n",
                            "1   286796.666667          516375.886667                     2576.48   \n",
                            "2   273686.855556          504851.285556                     2576.48   \n",
                            "3   260526.791630          493282.451630                     2576.48   \n",
                            "4   247316.319257          481669.269257                     2576.48   \n",
                            "5   234055.258877          470011.588877                     2576.48   \n",
                            "6   220722.281452          458288.101452                     2576.48   \n",
                            "7   207290.902523          446472.372523                     2576.48   \n",
                            "8   193760.622232          434563.922232                     2576.48   \n",
                            "9   180130.929973          422562.279973                     2576.48   \n",
                            "10  166401.315139          410466.955139                     2576.48   \n",
                            "11  152571.257123          398277.477123                     2576.48   \n",
                            "12  138640.245313          385993.365313                     2576.48   \n",
                            "13  124607.759098          373614.129098                     2576.48   \n",
                            "14  110463.897861          361129.887861                     2576.48   \n",
                            "15   96205.220988          348537.260988                     2576.48   \n",
                            "16   81831.077857          335835.617857                     2576.48   \n",
                            "17   67340.787850          323024.307850                     2576.48   \n",
                            "18   52733.680343          310102.700343                     2576.48   \n",
                            "19   38009.084711          297070.164711                     2576.48   \n",
                            "20   23166.330327          283926.060327                     2576.48   \n",
                            "21    8204.726561          270669.726561                     2576.48   \n",
                            "22  257300.502783          257300.502783                           0   \n",
                            "23  240856.988359          240856.988359                           0   \n",
                            "24  224359.241012          224359.241012                           0   \n",
                            "25  207807.076041          207807.076041                           0   \n",
                            "26  191193.694846          191193.694846                           0   \n",
                            "27  174467.351462          174467.351462                           0   \n",
                            "28  157627.494233          157627.494233                           0   \n",
                            "29  140663.222514          140663.222514                           0   \n",
                            "30  123569.525656          123569.525656                           0   \n",
                            "31  106345.673008          106345.673008                           0   \n",
                            "32   88990.923918           88990.923918                           0   \n",
                            "33   71504.537731           71504.537731                           0   \n",
                            "34   53885.763790           53885.763790                           0   \n",
                            "35   36133.861436           36133.861436                           0   \n",
                            "36   18248.070008           18248.070008                           0   \n",
                            "37     227.628841             227.628841                           0   \n",
                            "\n",
                            "    properties_market_value  properties_monthly_income  \\\n",
                            "0                 520000.00                     2100.0   \n",
                            "1                 520866.67                     2100.0   \n",
                            "2                 521734.78                     2100.0   \n",
                            "3                 522604.34                     2100.0   \n",
                            "4                 523475.35                     2100.0   \n",
                            "5                 524347.81                     2100.0   \n",
                            "6                 525221.72                     2100.0   \n",
                            "7                 526097.09                     2100.0   \n",
                            "8                 526973.92                     2100.0   \n",
                            "9                 527852.21                     2100.0   \n",
                            "10                528731.96                     2100.0   \n",
                            "11                529613.18                     2100.0   \n",
                            "12                530495.87                     2100.0   \n",
                            "13                531380.03                     2100.0   \n",
                            "14                532265.66                     2100.0   \n",
                            "15                533152.77                     2100.0   \n",
                            "16                534041.36                     2100.0   \n",
                            "17                534931.43                     2100.0   \n",
                            "18                535822.98                     2100.0   \n",
                            "19                536716.02                     2100.0   \n",
                            "20                537610.55                     2100.0   \n",
                            "21                538506.57                     2100.0   \n",
                            "22                     0.00                        0.0   \n",
                            "23                     0.00                        0.0   \n",
                            "24                     0.00                        0.0   \n",
                            "25                     0.00                        0.0   \n",
                            "26                     0.00                        0.0   \n",
                            "27                     0.00                        0.0   \n",
                            "28                     0.00                        0.0   \n",
                            "29                     0.00                        0.0   \n",
                            "30                     0.00                        0.0   \n",
                            "31                     0.00                        0.0   \n",
                            "32                     0.00                        0.0   \n",
                            "33                     0.00                        0.0   \n",
                            "34                     0.00                        0.0   \n",
                            "35                     0.00                        0.0   \n",
                            "36                     0.00                        0.0   \n",
                            "37                     0.00                        0.0   \n",
                            "\n",
                            "    properties_net_cash_value  \n",
                            "0                   228000.00  \n",
                            "1                   229579.22  \n",
                            "2                   231164.43  \n",
                            "3                   232755.66  \n",
                            "4                   234352.95  \n",
                            "5                   235956.33  \n",
                            "6                   237565.82  \n",
                            "7                   239181.47  \n",
                            "8                   240803.30  \n",
                            "9                   242431.35  \n",
                            "10                  244065.64  \n",
                            "11                  245706.22  \n",
                            "12                  247353.12  \n",
                            "13                  249006.37  \n",
                            "14                  250665.99  \n",
                            "15                  252332.04  \n",
                            "16                  254004.54  \n",
                            "17                  255683.52  \n",
                            "18                  257369.02  \n",
                            "19                  259061.08  \n",
                            "20                  260759.73  \n",
                            "21                  262465.00  \n",
                            "22                       0.00  \n",
                            "23                       0.00  \n",
                            "24                       0.00  \n",
                            "25                       0.00  \n",
                            "26                       0.00  \n",
                            "27                       0.00  \n",
                            "28                       0.00  \n",
                            "29                       0.00  \n",
                            "30                       0.00  \n",
                            "31                       0.00  \n",
                            "32                       0.00  \n",
                            "33                       0.00  \n",
                            "34                       0.00  \n",
                            "35                       0.00  \n",
                            "36                       0.00  \n",
                            "37                       0.00  "
                        ]
                    },
                    "execution_count": 4,
                    "metadata": {},
                    "output_type": "execute_result"
                }
            ],
            "source": [
                "\n",
                "df = pd.DataFrame([s.to_dict() for s in simulation])\n",
                "\n",
                "number_of_records = len(df)\n",
                "last_record = df.iloc[-1]\n",
                "df\n"
            ]
        },
        {
            "cell_type": "code",
            "execution_count": 5,
            "metadata": {},
            "outputs": [
                {
                    "name": "stdout",
                    "output_type": "stream",
                    "text": [
                        "Without any income and burning only your investments, you can survive for 38 months\n"
                    ]
                }
            ],
            "source": [
                "print(f\"Without any income and burning only your investments, you can survive for {number_of_records} months\")\n",
                "\n"
            ]
        },
        {
            "cell_type": "code",
            "execution_count": 6,
            "metadata": {},
            "outputs": [
                {
                    "data": {
                        "application/vnd.plotly.v1+json": {
                            "config": {
                                "plotlyServerURL": "https://plot.ly"
                            },
                            "data": [
                                {
                                    "alignmentgroup": "True",
                                    "hovertemplate": "variable=properties_net_cash_value<br>date=%{x}<br>value=%{y}<extra></extra>",
                                    "legendgroup": "properties_net_cash_value",
                                    "marker": {
                                        "color": "#636efa",
                                        "pattern": {
                                            "shape": ""
                                        }
                                    },
                                    "name": "properties_net_cash_value",
                                    "offsetgroup": "properties_net_cash_value",
                                    "orientation": "v",
                                    "showlegend": true,
                                    "textposition": "auto",
                                    "type": "bar",
                                    "x": [
                                        "2024-03-01T00:00:00",
                                        "2024-04-01T00:00:00",
                                        "2024-05-01T00:00:00",
                                        "2024-06-01T00:00:00",
                                        "2024-07-01T00:00:00",
                                        "2024-08-01T00:00:00",
                                        "2024-09-01T00:00:00",
                                        "2024-10-01T00:00:00",
                                        "2024-11-01T00:00:00",
                                        "2024-12-01T00:00:00",
                                        "2025-01-01T00:00:00",
                                        "2025-02-01T00:00:00",
                                        "2025-03-01T00:00:00",
                                        "2025-04-01T00:00:00",
                                        "2025-05-01T00:00:00",
                                        "2025-06-01T00:00:00",
                                        "2025-07-01T00:00:00",
                                        "2025-08-01T00:00:00",
                                        "2025-09-01T00:00:00",
                                        "2025-10-01T00:00:00",
                                        "2025-11-01T00:00:00",
                                        "2025-12-01T00:00:00",
                                        "2026-01-01T00:00:00",
                                        "2026-02-01T00:00:00",
                                        "2026-03-01T00:00:00",
                                        "2026-04-01T00:00:00",
                                        "2026-05-01T00:00:00",
                                        "2026-06-01T00:00:00",
                                        "2026-07-01T00:00:00",
                                        "2026-08-01T00:00:00",
                                        "2026-09-01T00:00:00",
                                        "2026-10-01T00:00:00",
                                        "2026-11-01T00:00:00",
                                        "2026-12-01T00:00:00",
                                        "2027-01-01T00:00:00",
                                        "2027-02-01T00:00:00",
                                        "2027-03-01T00:00:00",
                                        "2027-04-01T00:00:00"
                                    ],
                                    "xaxis": "x",
                                    "y": [
                                        228000,
                                        229579.22,
                                        231164.43,
                                        232755.66,
                                        234352.95,
                                        235956.33,
                                        237565.82,
                                        239181.47,
                                        240803.3,
                                        242431.35,
                                        244065.64,
                                        245706.22,
                                        247353.12,
                                        249006.37,
                                        250665.99,
                                        252332.04,
                                        254004.54,
                                        255683.52,
                                        257369.02,
                                        259061.08,
                                        260759.73,
                                        262465,
                                        0,
                                        0,
                                        0,
                                        0,
                                        0,
                                        0,
                                        0,
                                        0,
                                        0,
                                        0,
                                        0,
                                        0,
                                        0,
                                        0,
                                        0,
                                        0
                                    ],
                                    "yaxis": "y"
                                },
                                {
                                    "alignmentgroup": "True",
                                    "hovertemplate": "variable=stock_investments<br>date=%{x}<br>value=%{y}<extra></extra>",
                                    "legendgroup": "stock_investments",
                                    "marker": {
                                        "color": "#EF553B",
                                        "pattern": {
                                            "shape": ""
                                        }
                                    },
                                    "name": "stock_investments",
                                    "offsetgroup": "stock_investments",
                                    "orientation": "v",
                                    "showlegend": true,
                                    "textposition": "auto",
                                    "type": "bar",
                                    "x": [
                                        "2024-03-01T00:00:00",
                                        "2024-04-01T00:00:00",
                                        "2024-05-01T00:00:00",
                                        "2024-06-01T00:00:00",
                                        "2024-07-01T00:00:00",
                                        "2024-08-01T00:00:00",
                                        "2024-09-01T00:00:00",
                                        "2024-10-01T00:00:00",
                                        "2024-11-01T00:00:00",
                                        "2024-12-01T00:00:00",
                                        "2025-01-01T00:00:00",
                                        "2025-02-01T00:00:00",
                                        "2025-03-01T00:00:00",
                                        "2025-04-01T00:00:00",
                                        "2025-05-01T00:00:00",
                                        "2025-06-01T00:00:00",
                                        "2025-07-01T00:00:00",
                                        "2025-08-01T00:00:00",
                                        "2025-09-01T00:00:00",
                                        "2025-10-01T00:00:00",
                                        "2025-11-01T00:00:00",
                                        "2025-12-01T00:00:00",
                                        "2026-01-01T00:00:00",
                                        "2026-02-01T00:00:00",
                                        "2026-03-01T00:00:00",
                                        "2026-04-01T00:00:00",
                                        "2026-05-01T00:00:00",
                                        "2026-06-01T00:00:00",
                                        "2026-07-01T00:00:00",
                                        "2026-08-01T00:00:00",
                                        "2026-09-01T00:00:00",
                                        "2026-10-01T00:00:00",
                                        "2026-11-01T00:00:00",
                                        "2026-12-01T00:00:00",
                                        "2027-01-01T00:00:00",
                                        "2027-02-01T00:00:00",
                                        "2027-03-01T00:00:00",
                                        "2027-04-01T00:00:00"
                                    ],
                                    "xaxis": "x",
                                    "y": [
                                        100000,
                                        129254.00333333334,
                                        129792.56,
                                        130333.36,
                                        130876.42,
                                        131421.74,
                                        131969.33,
                                        132519.2,
                                        133071.36,
                                        133625.82,
                                        134182.59,
                                        134741.68,
                                        135303.1,
                                        124607.75909766095,
                                        110463.89786131983,
                                        96205.22098752423,
                                        81831.07785748264,
                                        67340.7878503409,
                                        52733.68034317537,
                                        38009.08471098596,
                                        23166.330326689244,
                                        8204.72656111154,
                                        165840.40222638554,
                                        166531.4,
                                        167225.28,
                                        167922.05,
                                        168621.73,
                                        169324.32,
                                        157627.4942334217,
                                        140663.22251419976,
                                        123569.52565591378,
                                        106345.67300810014,
                                        88990.92391812714,
                                        71504.53773118756,
                                        53885.76379029152,
                                        36133.86143625916,
                                        18248.070007713355,
                                        227.62884107239734
                                    ],
                                    "yaxis": "y"
                                },
                                {
                                    "alignmentgroup": "True",
                                    "hovertemplate": "variable=bonds_investments<br>date=%{x}<br>value=%{y}<extra></extra>",
                                    "legendgroup": "bonds_investments",
                                    "marker": {
                                        "color": "#00cc96",
                                        "pattern": {
                                            "shape": ""
                                        }
                                    },
                                    "name": "bonds_investments",
                                    "offsetgroup": "bonds_investments",
                                    "orientation": "v",
                                    "showlegend": true,
                                    "textposition": "auto",
                                    "type": "bar",
                                    "x": [
                                        "2024-03-01T00:00:00",
                                        "2024-04-01T00:00:00",
                                        "2024-05-01T00:00:00",
                                        "2024-06-01T00:00:00",
                                        "2024-07-01T00:00:00",
                                        "2024-08-01T00:00:00",
                                        "2024-09-01T00:00:00",
                                        "2024-10-01T00:00:00",
                                        "2024-11-01T00:00:00",
                                        "2024-12-01T00:00:00",
                                        "2025-01-01T00:00:00",
                                        "2025-02-01T00:00:00",
                                        "2025-03-01T00:00:00",
                                        "2025-04-01T00:00:00",
                                        "2025-05-01T00:00:00",
                                        "2025-06-01T00:00:00",
                                        "2025-07-01T00:00:00",
                                        "2025-08-01T00:00:00",
                                        "2025-09-01T00:00:00",
                                        "2025-10-01T00:00:00",
                                        "2025-11-01T00:00:00",
                                        "2025-12-01T00:00:00",
                                        "2026-01-01T00:00:00",
                                        "2026-02-01T00:00:00",
                                        "2026-03-01T00:00:00",
                                        "2026-04-01T00:00:00",
                                        "2026-05-01T00:00:00",
                                        "2026-06-01T00:00:00",
                                        "2026-07-01T00:00:00",
                                        "2026-08-01T00:00:00",
                                        "2026-09-01T00:00:00",
                                        "2026-10-01T00:00:00",
                                        "2026-11-01T00:00:00",
                                        "2026-12-01T00:00:00",
                                        "2027-01-01T00:00:00",
                                        "2027-02-01T00:00:00",
                                        "2027-03-01T00:00:00",
                                        "2027-04-01T00:00:00"
                                    ],
                                    "xaxis": "x",
                                    "y": [
                                        100000,
                                        107542.66333333333,
                                        107901.14,
                                        108260.81,
                                        108621.68,
                                        102633.51887703044,
                                        88752.95145181232,
                                        74771.70252331835,
                                        60689.262231729415,
                                        46505.10997250184,
                                        32218.725139076847,
                                        17829.57712287377,
                                        3337.145313283345,
                                        0,
                                        0,
                                        0,
                                        0,
                                        0,
                                        0,
                                        0,
                                        0,
                                        0,
                                        41460.100556596386,
                                        41598.3,
                                        41736.96,
                                        39885.02604134656,
                                        22571.964845729668,
                                        5143.031461882096,
                                        0,
                                        0,
                                        0,
                                        0,
                                        0,
                                        0,
                                        0,
                                        0,
                                        0,
                                        0
                                    ],
                                    "yaxis": "y"
                                },
                                {
                                    "alignmentgroup": "True",
                                    "hovertemplate": "variable=cash<br>date=%{x}<br>value=%{y}<extra></extra>",
                                    "legendgroup": "cash",
                                    "marker": {
                                        "color": "#ab63fa",
                                        "pattern": {
                                            "shape": ""
                                        }
                                    },
                                    "name": "cash",
                                    "offsetgroup": "cash",
                                    "orientation": "v",
                                    "showlegend": true,
                                    "textposition": "auto",
                                    "type": "bar",
                                    "x": [
                                        "2024-03-01T00:00:00",
                                        "2024-04-01T00:00:00",
                                        "2024-05-01T00:00:00",
                                        "2024-06-01T00:00:00",
                                        "2024-07-01T00:00:00",
                                        "2024-08-01T00:00:00",
                                        "2024-09-01T00:00:00",
                                        "2024-10-01T00:00:00",
                                        "2024-11-01T00:00:00",
                                        "2024-12-01T00:00:00",
                                        "2025-01-01T00:00:00",
                                        "2025-02-01T00:00:00",
                                        "2025-03-01T00:00:00",
                                        "2025-04-01T00:00:00",
                                        "2025-05-01T00:00:00",
                                        "2025-06-01T00:00:00",
                                        "2025-07-01T00:00:00",
                                        "2025-08-01T00:00:00",
                                        "2025-09-01T00:00:00",
                                        "2025-10-01T00:00:00",
                                        "2025-11-01T00:00:00",
                                        "2025-12-01T00:00:00",
                                        "2026-01-01T00:00:00",
                                        "2026-02-01T00:00:00",
                                        "2026-03-01T00:00:00",
                                        "2026-04-01T00:00:00",
                                        "2026-05-01T00:00:00",
                                        "2026-06-01T00:00:00",
                                        "2026-07-01T00:00:00",
                                        "2026-08-01T00:00:00",
                                        "2026-09-01T00:00:00",
                                        "2026-10-01T00:00:00",
                                        "2026-11-01T00:00:00",
                                        "2026-12-01T00:00:00",
                                        "2027-01-01T00:00:00",
                                        "2027-02-01T00:00:00",
                                        "2027-03-01T00:00:00",
                                        "2027-04-01T00:00:00"
                                    ],
                                    "xaxis": "x",
                                    "y": [
                                        100000,
                                        50000,
                                        35993.15555555555,
                                        21932.621629629626,
                                        7818.219257283943,
                                        0,
                                        0,
                                        0,
                                        0,
                                        0,
                                        0,
                                        0,
                                        0,
                                        0,
                                        0,
                                        0,
                                        0,
                                        0,
                                        0,
                                        0,
                                        0,
                                        0,
                                        50000,
                                        32727.288358925183,
                                        15397.001012380115,
                                        0,
                                        0,
                                        0,
                                        0,
                                        0,
                                        0,
                                        0,
                                        0,
                                        0,
                                        0,
                                        0,
                                        0,
                                        0
                                    ],
                                    "yaxis": "y"
                                },
                                {
                                    "mode": "lines",
                                    "name": "Monthly expenses",
                                    "type": "scatter",
                                    "x": [
                                        "2024-03-01T00:00:00",
                                        "2024-04-01T00:00:00",
                                        "2024-05-01T00:00:00",
                                        "2024-06-01T00:00:00",
                                        "2024-07-01T00:00:00",
                                        "2024-08-01T00:00:00",
                                        "2024-09-01T00:00:00",
                                        "2024-10-01T00:00:00",
                                        "2024-11-01T00:00:00",
                                        "2024-12-01T00:00:00",
                                        "2025-01-01T00:00:00",
                                        "2025-02-01T00:00:00",
                                        "2025-03-01T00:00:00",
                                        "2025-04-01T00:00:00",
                                        "2025-05-01T00:00:00",
                                        "2025-06-01T00:00:00",
                                        "2025-07-01T00:00:00",
                                        "2025-08-01T00:00:00",
                                        "2025-09-01T00:00:00",
                                        "2025-10-01T00:00:00",
                                        "2025-11-01T00:00:00",
                                        "2025-12-01T00:00:00",
                                        "2026-01-01T00:00:00",
                                        "2026-02-01T00:00:00",
                                        "2026-03-01T00:00:00",
                                        "2026-04-01T00:00:00",
                                        "2026-05-01T00:00:00",
                                        "2026-06-01T00:00:00",
                                        "2026-07-01T00:00:00",
                                        "2026-08-01T00:00:00",
                                        "2026-09-01T00:00:00",
                                        "2026-10-01T00:00:00",
                                        "2026-11-01T00:00:00",
                                        "2026-12-01T00:00:00",
                                        "2027-01-01T00:00:00",
                                        "2027-02-01T00:00:00",
                                        "2027-03-01T00:00:00",
                                        "2027-04-01T00:00:00"
                                    ],
                                    "y": [
                                        16000,
                                        16053.333333333334,
                                        16106.844444444447,
                                        16160.533925925929,
                                        16214.402372345683,
                                        16268.450380253504,
                                        16322.678548187683,
                                        16377.087476681643,
                                        16431.677768270583,
                                        16486.450027498155,
                                        16541.40486092315,
                                        16596.54287712623,
                                        16651.864686716654,
                                        16707.370902339044,
                                        16763.062138680176,
                                        16818.939012475777,
                                        16875.002142517365,
                                        16931.252149659093,
                                        16987.689656824623,
                                        17044.31528901404,
                                        17101.129673310756,
                                        17158.13343888846,
                                        17215.32721701809,
                                        17272.711641074817,
                                        17330.28734654507,
                                        17388.054971033554,
                                        17446.015154270335,
                                        17504.168538117905,
                                        17562.5157665783,
                                        17621.05748580023,
                                        17679.794344086233,
                                        17738.726991899854,
                                        17797.856081872855,
                                        17857.182268812434,
                                        17916.706209708478,
                                        17976.42856374084,
                                        18036.349992286643,
                                        18096.4711589276
                                    ]
                                },
                                {
                                    "mode": "lines",
                                    "name": "Wealth with net properties",
                                    "type": "scatter",
                                    "x": [
                                        "2024-03-01T00:00:00",
                                        "2024-04-01T00:00:00",
                                        "2024-05-01T00:00:00",
                                        "2024-06-01T00:00:00",
                                        "2024-07-01T00:00:00",
                                        "2024-08-01T00:00:00",
                                        "2024-09-01T00:00:00",
                                        "2024-10-01T00:00:00",
                                        "2024-11-01T00:00:00",
                                        "2024-12-01T00:00:00",
                                        "2025-01-01T00:00:00",
                                        "2025-02-01T00:00:00",
                                        "2025-03-01T00:00:00",
                                        "2025-04-01T00:00:00",
                                        "2025-05-01T00:00:00",
                                        "2025-06-01T00:00:00",
                                        "2025-07-01T00:00:00",
                                        "2025-08-01T00:00:00",
                                        "2025-09-01T00:00:00",
                                        "2025-10-01T00:00:00",
                                        "2025-11-01T00:00:00",
                                        "2025-12-01T00:00:00",
                                        "2026-01-01T00:00:00",
                                        "2026-02-01T00:00:00",
                                        "2026-03-01T00:00:00",
                                        "2026-04-01T00:00:00",
                                        "2026-05-01T00:00:00",
                                        "2026-06-01T00:00:00",
                                        "2026-07-01T00:00:00",
                                        "2026-08-01T00:00:00",
                                        "2026-09-01T00:00:00",
                                        "2026-10-01T00:00:00",
                                        "2026-11-01T00:00:00",
                                        "2026-12-01T00:00:00",
                                        "2027-01-01T00:00:00",
                                        "2027-02-01T00:00:00",
                                        "2027-03-01T00:00:00",
                                        "2027-04-01T00:00:00"
                                    ],
                                    "y": [
                                        528000,
                                        516375.8866666667,
                                        504851.28555555554,
                                        493282.4516296296,
                                        481669.26925728394,
                                        470011.5888770304,
                                        458288.1014518123,
                                        446472.3725233184,
                                        434563.9222317294,
                                        422562.27997250186,
                                        410466.95513907686,
                                        398277.47712287377,
                                        385993.36531328334,
                                        373614.12909766095,
                                        361129.8878613198,
                                        348537.26098752423,
                                        335835.61785748263,
                                        323024.3078503409,
                                        310102.7003431754,
                                        297070.16471098596,
                                        283926.0603266893,
                                        270669.7265611115,
                                        257300.50278298193,
                                        240856.98835892518,
                                        224359.2410123801,
                                        207807.07604134653,
                                        191193.69484572968,
                                        174467.3514618821,
                                        157627.4942334217,
                                        140663.22251419976,
                                        123569.52565591378,
                                        106345.67300810014,
                                        88990.92391812714,
                                        71504.53773118756,
                                        53885.76379029152,
                                        36133.86143625916,
                                        18248.070007713355,
                                        227.62884107239734
                                    ]
                                }
                            ],
                            "layout": {
                                "barmode": "relative",
                                "legend": {
                                    "title": {
                                        "text": "variable"
                                    },
                                    "tracegroupgap": 0
                                },
                                "template": {
                                    "data": {
                                        "bar": [
                                            {
                                                "error_x": {
                                                    "color": "#2a3f5f"
                                                },
                                                "error_y": {
                                                    "color": "#2a3f5f"
                                                },
                                                "marker": {
                                                    "line": {
                                                        "color": "#E5ECF6",
                                                        "width": 0.5
                                                    },
                                                    "pattern": {
                                                        "fillmode": "overlay",
                                                        "size": 10,
                                                        "solidity": 0.2
                                                    }
                                                },
                                                "type": "bar"
                                            }
                                        ],
                                        "barpolar": [
                                            {
                                                "marker": {
                                                    "line": {
                                                        "color": "#E5ECF6",
                                                        "width": 0.5
                                                    },
                                                    "pattern": {
                                                        "fillmode": "overlay",
                                                        "size": 10,
                                                        "solidity": 0.2
                                                    }
                                                },
                                                "type": "barpolar"
                                            }
                                        ],
                                        "carpet": [
                                            {
                                                "aaxis": {
                                                    "endlinecolor": "#2a3f5f",
                                                    "gridcolor": "white",
                                                    "linecolor": "white",
                                                    "minorgridcolor": "white",
                                                    "startlinecolor": "#2a3f5f"
                                                },
                                                "baxis": {
                                                    "endlinecolor": "#2a3f5f",
                                                    "gridcolor": "white",
                                                    "linecolor": "white",
                                                    "minorgridcolor": "white",
                                                    "startlinecolor": "#2a3f5f"
                                                },
                                                "type": "carpet"
                                            }
                                        ],
                                        "choropleth": [
                                            {
                                                "colorbar": {
                                                    "outlinewidth": 0,
                                                    "ticks": ""
                                                },
                                                "type": "choropleth"
                                            }
                                        ],
                                        "contour": [
                                            {
                                                "colorbar": {
                                                    "outlinewidth": 0,
                                                    "ticks": ""
                                                },
                                                "colorscale": [
                                                    [
                                                        0,
                                                        "#0d0887"
                                                    ],
                                                    [
                                                        0.1111111111111111,
                                                        "#46039f"
                                                    ],
                                                    [
                                                        0.2222222222222222,
                                                        "#7201a8"
                                                    ],
                                                    [
                                                        0.3333333333333333,
                                                        "#9c179e"
                                                    ],
                                                    [
                                                        0.4444444444444444,
                                                        "#bd3786"
                                                    ],
                                                    [
                                                        0.5555555555555556,
                                                        "#d8576b"
                                                    ],
                                                    [
                                                        0.6666666666666666,
                                                        "#ed7953"
                                                    ],
                                                    [
                                                        0.7777777777777778,
                                                        "#fb9f3a"
                                                    ],
                                                    [
                                                        0.8888888888888888,
                                                        "#fdca26"
                                                    ],
                                                    [
                                                        1,
                                                        "#f0f921"
                                                    ]
                                                ],
                                                "type": "contour"
                                            }
                                        ],
                                        "contourcarpet": [
                                            {
                                                "colorbar": {
                                                    "outlinewidth": 0,
                                                    "ticks": ""
                                                },
                                                "type": "contourcarpet"
                                            }
                                        ],
                                        "heatmap": [
                                            {
                                                "colorbar": {
                                                    "outlinewidth": 0,
                                                    "ticks": ""
                                                },
                                                "colorscale": [
                                                    [
                                                        0,
                                                        "#0d0887"
                                                    ],
                                                    [
                                                        0.1111111111111111,
                                                        "#46039f"
                                                    ],
                                                    [
                                                        0.2222222222222222,
                                                        "#7201a8"
                                                    ],
                                                    [
                                                        0.3333333333333333,
                                                        "#9c179e"
                                                    ],
                                                    [
                                                        0.4444444444444444,
                                                        "#bd3786"
                                                    ],
                                                    [
                                                        0.5555555555555556,
                                                        "#d8576b"
                                                    ],
                                                    [
                                                        0.6666666666666666,
                                                        "#ed7953"
                                                    ],
                                                    [
                                                        0.7777777777777778,
                                                        "#fb9f3a"
                                                    ],
                                                    [
                                                        0.8888888888888888,
                                                        "#fdca26"
                                                    ],
                                                    [
                                                        1,
                                                        "#f0f921"
                                                    ]
                                                ],
                                                "type": "heatmap"
                                            }
                                        ],
                                        "heatmapgl": [
                                            {
                                                "colorbar": {
                                                    "outlinewidth": 0,
                                                    "ticks": ""
                                                },
                                                "colorscale": [
                                                    [
                                                        0,
                                                        "#0d0887"
                                                    ],
                                                    [
                                                        0.1111111111111111,
                                                        "#46039f"
                                                    ],
                                                    [
                                                        0.2222222222222222,
                                                        "#7201a8"
                                                    ],
                                                    [
                                                        0.3333333333333333,
                                                        "#9c179e"
                                                    ],
                                                    [
                                                        0.4444444444444444,
                                                        "#bd3786"
                                                    ],
                                                    [
                                                        0.5555555555555556,
                                                        "#d8576b"
                                                    ],
                                                    [
                                                        0.6666666666666666,
                                                        "#ed7953"
                                                    ],
                                                    [
                                                        0.7777777777777778,
                                                        "#fb9f3a"
                                                    ],
                                                    [
                                                        0.8888888888888888,
                                                        "#fdca26"
                                                    ],
                                                    [
                                                        1,
                                                        "#f0f921"
                                                    ]
                                                ],
                                                "type": "heatmapgl"
                                            }
                                        ],
                                        "histogram": [
                                            {
                                                "marker": {
                                                    "pattern": {
                                                        "fillmode": "overlay",
                                                        "size": 10,
                                                        "solidity": 0.2
                                                    }
                                                },
                                                "type": "histogram"
                                            }
                                        ],
                                        "histogram2d": [
                                            {
                                                "colorbar": {
                                                    "outlinewidth": 0,
                                                    "ticks": ""
                                                },
                                                "colorscale": [
                                                    [
                                                        0,
                                                        "#0d0887"
                                                    ],
                                                    [
                                                        0.1111111111111111,
                                                        "#46039f"
                                                    ],
                                                    [
                                                        0.2222222222222222,
                                                        "#7201a8"
                                                    ],
                                                    [
                                                        0.3333333333333333,
                                                        "#9c179e"
                                                    ],
                                                    [
                                                        0.4444444444444444,
                                                        "#bd3786"
                                                    ],
                                                    [
                                                        0.5555555555555556,
                                                        "#d8576b"
                                                    ],
                                                    [
                                                        0.6666666666666666,
                                                        "#ed7953"
                                                    ],
                                                    [
                                                        0.7777777777777778,
                                                        "#fb9f3a"
                                                    ],
                                                    [
                                                        0.8888888888888888,
                                                        "#fdca26"
                                                    ],
                                                    [
                                                        1,
                                                        "#f0f921"
                                                    ]
                                                ],
                                                "type": "histogram2d"
                                            }
                                        ],
                                        "histogram2dcontour": [
                                            {
                                                "colorbar": {
                                                    "outlinewidth": 0,
                                                    "ticks": ""
                                                },
                                                "colorscale": [
                                                    [
                                                        0,
                                                        "#0d0887"
                                                    ],
                                                    [
                                                        0.1111111111111111,
                                                        "#46039f"
                                                    ],
                                                    [
                                                        0.2222222222222222,
                                                        "#7201a8"
                                                    ],
                                                    [
                                                        0.3333333333333333,
                                                        "#9c179e"
                                                    ],
                                                    [
                                                        0.4444444444444444,
                                                        "#bd3786"
                                                    ],
                                                    [
                                                        0.5555555555555556,
                                                        "#d8576b"
                                                    ],
                                                    [
                                                        0.6666666666666666,
                                                        "#ed7953"
                                                    ],
                                                    [
                                                        0.7777777777777778,
                                                        "#fb9f3a"
                                                    ],
                                                    [
                                                        0.8888888888888888,
                                                        "#fdca26"
                                                    ],
                                                    [
                                                        1,
                                                        "#f0f921"
                                                    ]
                                                ],
                                                "type": "histogram2dcontour"
                                            }
                                        ],
                                        "mesh3d": [
                                            {
                                                "colorbar": {
                                                    "outlinewidth": 0,
                                                    "ticks": ""
                                                },
                                                "type": "mesh3d"
                                            }
                                        ],
                                        "parcoords": [
                                            {
                                                "line": {
                                                    "colorbar": {
                                                        "outlinewidth": 0,
                                                        "ticks": ""
                                                    }
                                                },
                                                "type": "parcoords"
                                            }
                                        ],
                                        "pie": [
                                            {
                                                "automargin": true,
                                                "type": "pie"
                                            }
                                        ],
                                        "scatter": [
                                            {
                                                "fillpattern": {
                                                    "fillmode": "overlay",
                                                    "size": 10,
                                                    "solidity": 0.2
                                                },
                                                "type": "scatter"
                                            }
                                        ],
                                        "scatter3d": [
                                            {
                                                "line": {
                                                    "colorbar": {
                                                        "outlinewidth": 0,
                                                        "ticks": ""
                                                    }
                                                },
                                                "marker": {
                                                    "colorbar": {
                                                        "outlinewidth": 0,
                                                        "ticks": ""
                                                    }
                                                },
                                                "type": "scatter3d"
                                            }
                                        ],
                                        "scattercarpet": [
                                            {
                                                "marker": {
                                                    "colorbar": {
                                                        "outlinewidth": 0,
                                                        "ticks": ""
                                                    }
                                                },
                                                "type": "scattercarpet"
                                            }
                                        ],
                                        "scattergeo": [
                                            {
                                                "marker": {
                                                    "colorbar": {
                                                        "outlinewidth": 0,
                                                        "ticks": ""
                                                    }
                                                },
                                                "type": "scattergeo"
                                            }
                                        ],
                                        "scattergl": [
                                            {
                                                "marker": {
                                                    "colorbar": {
                                                        "outlinewidth": 0,
                                                        "ticks": ""
                                                    }
                                                },
                                                "type": "scattergl"
                                            }
                                        ],
                                        "scattermapbox": [
                                            {
                                                "marker": {
                                                    "colorbar": {
                                                        "outlinewidth": 0,
                                                        "ticks": ""
                                                    }
                                                },
                                                "type": "scattermapbox"
                                            }
                                        ],
                                        "scatterpolar": [
                                            {
                                                "marker": {
                                                    "colorbar": {
                                                        "outlinewidth": 0,
                                                        "ticks": ""
                                                    }
                                                },
                                                "type": "scatterpolar"
                                            }
                                        ],
                                        "scatterpolargl": [
                                            {
                                                "marker": {
                                                    "colorbar": {
                                                        "outlinewidth": 0,
                                                        "ticks": ""
                                                    }
                                                },
                                                "type": "scatterpolargl"
                                            }
                                        ],
                                        "scatterternary": [
                                            {
                                                "marker": {
                                                    "colorbar": {
                                                        "outlinewidth": 0,
                                                        "ticks": ""
                                                    }
                                                },
                                                "type": "scatterternary"
                                            }
                                        ],
                                        "surface": [
                                            {
                                                "colorbar": {
                                                    "outlinewidth": 0,
                                                    "ticks": ""
                                                },
                                                "colorscale": [
                                                    [
                                                        0,
                                                        "#0d0887"
                                                    ],
                                                    [
                                                        0.1111111111111111,
                                                        "#46039f"
                                                    ],
                                                    [
                                                        0.2222222222222222,
                                                        "#7201a8"
                                                    ],
                                                    [
                                                        0.3333333333333333,
                                                        "#9c179e"
                                                    ],
                                                    [
                                                        0.4444444444444444,
                                                        "#bd3786"
                                                    ],
                                                    [
                                                        0.5555555555555556,
                                                        "#d8576b"
                                                    ],
                                                    [
                                                        0.6666666666666666,
                                                        "#ed7953"
                                                    ],
                                                    [
                                                        0.7777777777777778,
                                                        "#fb9f3a"
                                                    ],
                                                    [
                                                        0.8888888888888888,
                                                        "#fdca26"
                                                    ],
                                                    [
                                                        1,
                                                        "#f0f921"
                                                    ]
                                                ],
                                                "type": "surface"
                                            }
                                        ],
                                        "table": [
                                            {
                                                "cells": {
                                                    "fill": {
                                                        "color": "#EBF0F8"
                                                    },
                                                    "line": {
                                                        "color": "white"
                                                    }
                                                },
                                                "header": {
                                                    "fill": {
                                                        "color": "#C8D4E3"
                                                    },
                                                    "line": {
                                                        "color": "white"
                                                    }
                                                },
                                                "type": "table"
                                            }
                                        ]
                                    },
                                    "layout": {
                                        "annotationdefaults": {
                                            "arrowcolor": "#2a3f5f",
                                            "arrowhead": 0,
                                            "arrowwidth": 1
                                        },
                                        "autotypenumbers": "strict",
                                        "coloraxis": {
                                            "colorbar": {
                                                "outlinewidth": 0,
                                                "ticks": ""
                                            }
                                        },
                                        "colorscale": {
                                            "diverging": [
                                                [
                                                    0,
                                                    "#8e0152"
                                                ],
                                                [
                                                    0.1,
                                                    "#c51b7d"
                                                ],
                                                [
                                                    0.2,
                                                    "#de77ae"
                                                ],
                                                [
                                                    0.3,
                                                    "#f1b6da"
                                                ],
                                                [
                                                    0.4,
                                                    "#fde0ef"
                                                ],
                                                [
                                                    0.5,
                                                    "#f7f7f7"
                                                ],
                                                [
                                                    0.6,
                                                    "#e6f5d0"
                                                ],
                                                [
                                                    0.7,
                                                    "#b8e186"
                                                ],
                                                [
                                                    0.8,
                                                    "#7fbc41"
                                                ],
                                                [
                                                    0.9,
                                                    "#4d9221"
                                                ],
                                                [
                                                    1,
                                                    "#276419"
                                                ]
                                            ],
                                            "sequential": [
                                                [
                                                    0,
                                                    "#0d0887"
                                                ],
                                                [
                                                    0.1111111111111111,
                                                    "#46039f"
                                                ],
                                                [
                                                    0.2222222222222222,
                                                    "#7201a8"
                                                ],
                                                [
                                                    0.3333333333333333,
                                                    "#9c179e"
                                                ],
                                                [
                                                    0.4444444444444444,
                                                    "#bd3786"
                                                ],
                                                [
                                                    0.5555555555555556,
                                                    "#d8576b"
                                                ],
                                                [
                                                    0.6666666666666666,
                                                    "#ed7953"
                                                ],
                                                [
                                                    0.7777777777777778,
                                                    "#fb9f3a"
                                                ],
                                                [
                                                    0.8888888888888888,
                                                    "#fdca26"
                                                ],
                                                [
                                                    1,
                                                    "#f0f921"
                                                ]
                                            ],
                                            "sequentialminus": [
                                                [
                                                    0,
                                                    "#0d0887"
                                                ],
                                                [
                                                    0.1111111111111111,
                                                    "#46039f"
                                                ],
                                                [
                                                    0.2222222222222222,
                                                    "#7201a8"
                                                ],
                                                [
                                                    0.3333333333333333,
                                                    "#9c179e"
                                                ],
                                                [
                                                    0.4444444444444444,
                                                    "#bd3786"
                                                ],
                                                [
                                                    0.5555555555555556,
                                                    "#d8576b"
                                                ],
                                                [
                                                    0.6666666666666666,
                                                    "#ed7953"
                                                ],
                                                [
                                                    0.7777777777777778,
                                                    "#fb9f3a"
                                                ],
                                                [
                                                    0.8888888888888888,
                                                    "#fdca26"
                                                ],
                                                [
                                                    1,
                                                    "#f0f921"
                                                ]
                                            ]
                                        },
                                        "colorway": [
                                            "#636efa",
                                            "#EF553B",
                                            "#00cc96",
                                            "#ab63fa",
                                            "#FFA15A",
                                            "#19d3f3",
                                            "#FF6692",
                                            "#B6E880",
                                            "#FF97FF",
                                            "#FECB52"
                                        ],
                                        "font": {
                                            "color": "#2a3f5f"
                                        },
                                        "geo": {
                                            "bgcolor": "white",
                                            "lakecolor": "white",
                                            "landcolor": "#E5ECF6",
                                            "showlakes": true,
                                            "showland": true,
                                            "subunitcolor": "white"
                                        },
                                        "hoverlabel": {
                                            "align": "left"
                                        },
                                        "hovermode": "closest",
                                        "mapbox": {
                                            "style": "light"
                                        },
                                        "paper_bgcolor": "white",
                                        "plot_bgcolor": "#E5ECF6",
                                        "polar": {
                                            "angularaxis": {
                                                "gridcolor": "white",
                                                "linecolor": "white",
                                                "ticks": ""
                                            },
                                            "bgcolor": "#E5ECF6",
                                            "radialaxis": {
                                                "gridcolor": "white",
                                                "linecolor": "white",
                                                "ticks": ""
                                            }
                                        },
                                        "scene": {
                                            "xaxis": {
                                                "backgroundcolor": "#E5ECF6",
                                                "gridcolor": "white",
                                                "gridwidth": 2,
                                                "linecolor": "white",
                                                "showbackground": true,
                                                "ticks": "",
                                                "zerolinecolor": "white"
                                            },
                                            "yaxis": {
                                                "backgroundcolor": "#E5ECF6",
                                                "gridcolor": "white",
                                                "gridwidth": 2,
                                                "linecolor": "white",
                                                "showbackground": true,
                                                "ticks": "",
                                                "zerolinecolor": "white"
                                            },
                                            "zaxis": {
                                                "backgroundcolor": "#E5ECF6",
                                                "gridcolor": "white",
                                                "gridwidth": 2,
                                                "linecolor": "white",
                                                "showbackground": true,
                                                "ticks": "",
                                                "zerolinecolor": "white"
                                            }
                                        },
                                        "shapedefaults": {
                                            "line": {
                                                "color": "#2a3f5f"
                                            }
                                        },
                                        "ternary": {
                                            "aaxis": {
                                                "gridcolor": "white",
                                                "linecolor": "white",
                                                "ticks": ""
                                            },
                                            "baxis": {
                                                "gridcolor": "white",
                                                "linecolor": "white",
                                                "ticks": ""
                                            },
                                            "bgcolor": "#E5ECF6",
                                            "caxis": {
                                                "gridcolor": "white",
                                                "linecolor": "white",
                                                "ticks": ""
                                            }
                                        },
                                        "title": {
                                            "x": 0.05
                                        },
                                        "xaxis": {
                                            "automargin": true,
                                            "gridcolor": "white",
                                            "linecolor": "white",
                                            "ticks": "",
                                            "title": {
                                                "standoff": 15
                                            },
                                            "zerolinecolor": "white",
                                            "zerolinewidth": 2
                                        },
                                        "yaxis": {
                                            "automargin": true,
                                            "gridcolor": "white",
                                            "linecolor": "white",
                                            "ticks": "",
                                            "title": {
                                                "standoff": 15
                                            },
                                            "zerolinecolor": "white",
                                            "zerolinewidth": 2
                                        }
                                    }
                                },
                                "title": {
                                    "text": "Wealth over time"
                                },
                                "xaxis": {
                                    "anchor": "y",
                                    "domain": [
                                        0,
                                        1
                                    ],
                                    "title": {
                                        "text": "date"
                                    }
                                },
                                "yaxis": {
                                    "anchor": "x",
                                    "domain": [
                                        0,
                                        1
                                    ],
                                    "title": {
                                        "text": "value"
                                    }
                                }
                            }
                        }
                    },
                    "metadata": {},
                    "output_type": "display_data"
                }
            ],
            "source": [
                "# I want to use plotly to create a nice stacked bar chart of bonds and stock investments\n",
                "# with a line chart showing monthly expenses\n",
                "\n",
                "fig = px.bar(df, x='date', y=['properties_net_cash_value', 'stock_investments', 'bonds_investments', 'cash', ], title='Wealth over time')\n",
                "fig.add_scatter(x=df['date'], y=df['monthly_expenses'], mode='lines', name='Monthly expenses')\n",
                "fig.add_scatter(x=df['date'], y=df['wealth_inc_properties'], mode='lines', name='Wealth with net properties')\n",
                "\n",
                "fig.show()\n"
            ]
        }
    ],
    "metadata": {
        "kernelspec": {
            "display_name": "fire-notebooks-V1dUDsYi-py3.11",
            "language": "python",
            "name": "python3"
        },
        "language_info": {
            "codemirror_mode": {
                "name": "ipython",
                "version": 3
            },
            "file_extension": ".py",
            "mimetype": "text/x-python",
            "name": "python",
            "nbconvert_exporter": "python",
            "pygments_lexer": "ipython3",
            "version": "3.11.8"
        }
    },
    "nbformat": 4,
    "nbformat_minor": 2
}
