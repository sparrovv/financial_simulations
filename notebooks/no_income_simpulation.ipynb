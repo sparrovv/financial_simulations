{
    "cells": [
        {
            "cell_type": "markdown",
            "metadata": {},
            "source": [
                "# FIRE \n",
                "\n",
                "This notebook will try to answer the following questions:\n",
                "\n",
                "- Given my current savings and no income, how many months will my savings last\n",
                "\n",
                "\n",
                "## Assumptions\n",
                "\n",
                "- The annual return on the stock investment (assumption ETF) is an average and is applied monthly. \n",
                "The assumption is a long term.\n",
                "- The bond investment has a fixed return rate that's applied monthly. In reality that should be close to inflation rate.\n",
                "- The monthly income is constant and is added to cash every month. It's also a simplification as in reality the income is not constant\n",
                "- The monthly expenses are constant but the inflation rate is applied. In reality, the expenses won't be constant as they change depending on many factors.\n",
                "- The inflation rate is constant\n",
                "- When the cash is depleted, the investment is used to cover the expenses. The investment is used in the following order: cash, bond, stock, real estate. \n",
                "- Simulation ends when the wealth is depleted and no more assets are available to cover the expenses.\n"
            ]
        },
        {
            "cell_type": "code",
            "execution_count": 1,
            "metadata": {},
            "outputs": [],
            "source": [
                "import sys\n",
                "from pathlib import Path\n",
                "\n",
                "project_root = Path.cwd().parent \n",
                "src_path = project_root / 'src'\n",
                "\n",
                "sys.path.append(str(src_path))"
            ]
        },
        {
            "cell_type": "code",
            "execution_count": 2,
            "metadata": {},
            "outputs": [],
            "source": [
                "import datetime\n",
                "from fire.simulations import FireSimulation, run_simulation, InvestmentProperty\n",
                "import pandas as pd\n",
                "import plotly.express as px\n",
                "from decimal import Decimal\n"
            ]
        },
        {
            "cell_type": "code",
            "execution_count": 3,
            "metadata": {},
            "outputs": [],
            "source": [
                "from decimal import Decimal\n",
                "\n",
                "\n",
                "init = FireSimulation(\n",
                "    stock_investments=Decimal(\"100000\"),\n",
                "    bonds_investments=Decimal(\"100000\"),\n",
                "    cash=Decimal(\"100000\"),\n",
                "    investment_properties=[\n",
                "        InvestmentProperty(\n",
                "            mortgage_left=Decimal(\"292000\"),\n",
                "            mortgage_rate=Decimal(\"7.66\"),\n",
                "            mortgage_months=202,\n",
                "            market_value=Decimal(\"520000\"),\n",
                "            monthly_income=Decimal(\"2100\"),\n",
                "        )\n",
                "    ],\n",
                "    stock_return_rate=Decimal(\"0.05\"),\n",
                "    bonds_return_rate=Decimal(\"0.04\"),\n",
                "    monthly_expenses=Decimal(\"16000\"),\n",
                "    annual_inflation_rate=Decimal(\"0.04\"),\n",
                "    monthly_income=Decimal(\"0\"),\n",
                "    annual_property_appreciation_rate=Decimal(\"0.02\"),\n",
                "    invest_cash_surplus=True,\n",
                "    invest_cash_threshold=Decimal(\"50000\"),\n",
                "    invest_cash_surplus_strategy='80-20',\n",
                "    date=datetime.datetime.fromisoformat('2024-04-01')\n",
                ")\n",
                "\n",
                "# simulate for next X years\n",
                "years = 15\n",
                "expected_number_of_months = years * 12\n",
                "simulation = run_simulation(init, years*12)"
            ]
        },
        {
            "cell_type": "code",
            "execution_count": 4,
            "metadata": {},
            "outputs": [
                {
                    "data": {
                        "text/html": [
                            "<div>\n",
                            "<style scoped>\n",
                            "    .dataframe tbody tr th:only-of-type {\n",
                            "        vertical-align: middle;\n",
                            "    }\n",
                            "\n",
                            "    .dataframe tbody tr th {\n",
                            "        vertical-align: top;\n",
                            "    }\n",
                            "\n",
                            "    .dataframe thead th {\n",
                            "        text-align: right;\n",
                            "    }\n",
                            "</style>\n",
                            "<table border=\"1\" class=\"dataframe\">\n",
                            "  <thead>\n",
                            "    <tr style=\"text-align: right;\">\n",
                            "      <th></th>\n",
                            "      <th>stock_investments</th>\n",
                            "      <th>bonds_investments</th>\n",
                            "      <th>cash</th>\n",
                            "      <th>monthly_expenses</th>\n",
                            "      <th>monthly_income</th>\n",
                            "      <th>date</th>\n",
                            "      <th>stock_return_rate</th>\n",
                            "      <th>investment_properties</th>\n",
                            "      <th>bonds_return_rate</th>\n",
                            "      <th>annual_inflation_rate</th>\n",
                            "      <th>...</th>\n",
                            "      <th>annual_property_appreciation_rate</th>\n",
                            "      <th>invest_cash_surplus</th>\n",
                            "      <th>invest_cash_threshold</th>\n",
                            "      <th>invest_cash_surplus_strategy</th>\n",
                            "      <th>liquid_wealth</th>\n",
                            "      <th>wealth_inc_properties</th>\n",
                            "      <th>properties_monthly_mortgage</th>\n",
                            "      <th>properties_market_value</th>\n",
                            "      <th>properties_monthly_income</th>\n",
                            "      <th>properties_net_cash_value</th>\n",
                            "    </tr>\n",
                            "  </thead>\n",
                            "  <tbody>\n",
                            "    <tr>\n",
                            "      <th>0</th>\n",
                            "      <td>100000.00</td>\n",
                            "      <td>100000.00</td>\n",
                            "      <td>100000.00</td>\n",
                            "      <td>16000.00</td>\n",
                            "      <td>0.0</td>\n",
                            "      <td>2024-04-01</td>\n",
                            "      <td>0.05</td>\n",
                            "      <td>[{'market_value': 520000, 'monthly_income': 21...</td>\n",
                            "      <td>0.04</td>\n",
                            "      <td>0.04</td>\n",
                            "      <td>...</td>\n",
                            "      <td>0.02</td>\n",
                            "      <td>True</td>\n",
                            "      <td>50000.0</td>\n",
                            "      <td>80-20</td>\n",
                            "      <td>300000.00</td>\n",
                            "      <td>528000.00</td>\n",
                            "      <td>2576.48</td>\n",
                            "      <td>520000.00</td>\n",
                            "      <td>2100.0</td>\n",
                            "      <td>228000.00</td>\n",
                            "    </tr>\n",
                            "    <tr>\n",
                            "      <th>1</th>\n",
                            "      <td>129254.00</td>\n",
                            "      <td>107542.67</td>\n",
                            "      <td>50000.00</td>\n",
                            "      <td>16053.33</td>\n",
                            "      <td>0.0</td>\n",
                            "      <td>2024-05-01</td>\n",
                            "      <td>0.05</td>\n",
                            "      <td>[{'market_value': 520866.67, 'monthly_income':...</td>\n",
                            "      <td>0.04</td>\n",
                            "      <td>0.04</td>\n",
                            "      <td>...</td>\n",
                            "      <td>0.02</td>\n",
                            "      <td>True</td>\n",
                            "      <td>50000.0</td>\n",
                            "      <td>80-20</td>\n",
                            "      <td>286796.67</td>\n",
                            "      <td>516375.89</td>\n",
                            "      <td>2576.48</td>\n",
                            "      <td>520866.67</td>\n",
                            "      <td>2100.0</td>\n",
                            "      <td>229579.22</td>\n",
                            "    </tr>\n",
                            "    <tr>\n",
                            "      <th>2</th>\n",
                            "      <td>129792.56</td>\n",
                            "      <td>107901.15</td>\n",
                            "      <td>35993.16</td>\n",
                            "      <td>16106.84</td>\n",
                            "      <td>0.0</td>\n",
                            "      <td>2024-06-01</td>\n",
                            "      <td>0.05</td>\n",
                            "      <td>[{'market_value': 521734.78, 'monthly_income':...</td>\n",
                            "      <td>0.04</td>\n",
                            "      <td>0.04</td>\n",
                            "      <td>...</td>\n",
                            "      <td>0.02</td>\n",
                            "      <td>True</td>\n",
                            "      <td>50000.0</td>\n",
                            "      <td>80-20</td>\n",
                            "      <td>273686.87</td>\n",
                            "      <td>504851.30</td>\n",
                            "      <td>2576.48</td>\n",
                            "      <td>521734.78</td>\n",
                            "      <td>2100.0</td>\n",
                            "      <td>231164.43</td>\n",
                            "    </tr>\n",
                            "    <tr>\n",
                            "      <th>3</th>\n",
                            "      <td>130333.36</td>\n",
                            "      <td>108260.82</td>\n",
                            "      <td>21932.63</td>\n",
                            "      <td>16160.53</td>\n",
                            "      <td>0.0</td>\n",
                            "      <td>2024-07-01</td>\n",
                            "      <td>0.05</td>\n",
                            "      <td>[{'market_value': 522604.34, 'monthly_income':...</td>\n",
                            "      <td>0.04</td>\n",
                            "      <td>0.04</td>\n",
                            "      <td>...</td>\n",
                            "      <td>0.02</td>\n",
                            "      <td>True</td>\n",
                            "      <td>50000.0</td>\n",
                            "      <td>80-20</td>\n",
                            "      <td>260526.81</td>\n",
                            "      <td>493282.47</td>\n",
                            "      <td>2576.48</td>\n",
                            "      <td>522604.34</td>\n",
                            "      <td>2100.0</td>\n",
                            "      <td>232755.66</td>\n",
                            "    </tr>\n",
                            "    <tr>\n",
                            "      <th>4</th>\n",
                            "      <td>130876.42</td>\n",
                            "      <td>108621.69</td>\n",
                            "      <td>7818.23</td>\n",
                            "      <td>16214.40</td>\n",
                            "      <td>0.0</td>\n",
                            "      <td>2024-08-01</td>\n",
                            "      <td>0.05</td>\n",
                            "      <td>[{'market_value': 523475.35, 'monthly_income':...</td>\n",
                            "      <td>0.04</td>\n",
                            "      <td>0.04</td>\n",
                            "      <td>...</td>\n",
                            "      <td>0.02</td>\n",
                            "      <td>True</td>\n",
                            "      <td>50000.0</td>\n",
                            "      <td>80-20</td>\n",
                            "      <td>247316.34</td>\n",
                            "      <td>481669.29</td>\n",
                            "      <td>2576.48</td>\n",
                            "      <td>523475.35</td>\n",
                            "      <td>2100.0</td>\n",
                            "      <td>234352.95</td>\n",
                            "    </tr>\n",
                            "    <tr>\n",
                            "      <th>5</th>\n",
                            "      <td>131421.74</td>\n",
                            "      <td>102633.54</td>\n",
                            "      <td>0.00</td>\n",
                            "      <td>16268.45</td>\n",
                            "      <td>0.0</td>\n",
                            "      <td>2024-09-01</td>\n",
                            "      <td>0.05</td>\n",
                            "      <td>[{'market_value': 524347.81, 'monthly_income':...</td>\n",
                            "      <td>0.04</td>\n",
                            "      <td>0.04</td>\n",
                            "      <td>...</td>\n",
                            "      <td>0.02</td>\n",
                            "      <td>True</td>\n",
                            "      <td>50000.0</td>\n",
                            "      <td>80-20</td>\n",
                            "      <td>234055.28</td>\n",
                            "      <td>470011.61</td>\n",
                            "      <td>2576.48</td>\n",
                            "      <td>524347.81</td>\n",
                            "      <td>2100.0</td>\n",
                            "      <td>235956.33</td>\n",
                            "    </tr>\n",
                            "    <tr>\n",
                            "      <th>6</th>\n",
                            "      <td>131969.33</td>\n",
                            "      <td>88752.97</td>\n",
                            "      <td>0.00</td>\n",
                            "      <td>16322.68</td>\n",
                            "      <td>0.0</td>\n",
                            "      <td>2024-10-01</td>\n",
                            "      <td>0.05</td>\n",
                            "      <td>[{'market_value': 525221.72, 'monthly_income':...</td>\n",
                            "      <td>0.04</td>\n",
                            "      <td>0.04</td>\n",
                            "      <td>...</td>\n",
                            "      <td>0.02</td>\n",
                            "      <td>True</td>\n",
                            "      <td>50000.0</td>\n",
                            "      <td>80-20</td>\n",
                            "      <td>220722.30</td>\n",
                            "      <td>458288.12</td>\n",
                            "      <td>2576.48</td>\n",
                            "      <td>525221.72</td>\n",
                            "      <td>2100.0</td>\n",
                            "      <td>237565.82</td>\n",
                            "    </tr>\n",
                            "    <tr>\n",
                            "      <th>7</th>\n",
                            "      <td>132519.20</td>\n",
                            "      <td>74771.72</td>\n",
                            "      <td>0.00</td>\n",
                            "      <td>16377.09</td>\n",
                            "      <td>0.0</td>\n",
                            "      <td>2024-11-01</td>\n",
                            "      <td>0.05</td>\n",
                            "      <td>[{'market_value': 526097.09, 'monthly_income':...</td>\n",
                            "      <td>0.04</td>\n",
                            "      <td>0.04</td>\n",
                            "      <td>...</td>\n",
                            "      <td>0.02</td>\n",
                            "      <td>True</td>\n",
                            "      <td>50000.0</td>\n",
                            "      <td>80-20</td>\n",
                            "      <td>207290.92</td>\n",
                            "      <td>446472.39</td>\n",
                            "      <td>2576.48</td>\n",
                            "      <td>526097.09</td>\n",
                            "      <td>2100.0</td>\n",
                            "      <td>239181.47</td>\n",
                            "    </tr>\n",
                            "    <tr>\n",
                            "      <th>8</th>\n",
                            "      <td>133071.36</td>\n",
                            "      <td>60689.28</td>\n",
                            "      <td>0.00</td>\n",
                            "      <td>16431.68</td>\n",
                            "      <td>0.0</td>\n",
                            "      <td>2024-12-01</td>\n",
                            "      <td>0.05</td>\n",
                            "      <td>[{'market_value': 526973.92, 'monthly_income':...</td>\n",
                            "      <td>0.04</td>\n",
                            "      <td>0.04</td>\n",
                            "      <td>...</td>\n",
                            "      <td>0.02</td>\n",
                            "      <td>True</td>\n",
                            "      <td>50000.0</td>\n",
                            "      <td>80-20</td>\n",
                            "      <td>193760.64</td>\n",
                            "      <td>434563.94</td>\n",
                            "      <td>2576.48</td>\n",
                            "      <td>526973.92</td>\n",
                            "      <td>2100.0</td>\n",
                            "      <td>240803.30</td>\n",
                            "    </tr>\n",
                            "    <tr>\n",
                            "      <th>9</th>\n",
                            "      <td>133625.82</td>\n",
                            "      <td>46505.13</td>\n",
                            "      <td>0.00</td>\n",
                            "      <td>16486.45</td>\n",
                            "      <td>0.0</td>\n",
                            "      <td>2025-01-01</td>\n",
                            "      <td>0.05</td>\n",
                            "      <td>[{'market_value': 527852.21, 'monthly_income':...</td>\n",
                            "      <td>0.04</td>\n",
                            "      <td>0.04</td>\n",
                            "      <td>...</td>\n",
                            "      <td>0.02</td>\n",
                            "      <td>True</td>\n",
                            "      <td>50000.0</td>\n",
                            "      <td>80-20</td>\n",
                            "      <td>180130.95</td>\n",
                            "      <td>422562.30</td>\n",
                            "      <td>2576.48</td>\n",
                            "      <td>527852.21</td>\n",
                            "      <td>2100.0</td>\n",
                            "      <td>242431.35</td>\n",
                            "    </tr>\n",
                            "    <tr>\n",
                            "      <th>10</th>\n",
                            "      <td>134182.59</td>\n",
                            "      <td>32218.74</td>\n",
                            "      <td>0.00</td>\n",
                            "      <td>16541.40</td>\n",
                            "      <td>0.0</td>\n",
                            "      <td>2025-02-01</td>\n",
                            "      <td>0.05</td>\n",
                            "      <td>[{'market_value': 528731.96, 'monthly_income':...</td>\n",
                            "      <td>0.04</td>\n",
                            "      <td>0.04</td>\n",
                            "      <td>...</td>\n",
                            "      <td>0.02</td>\n",
                            "      <td>True</td>\n",
                            "      <td>50000.0</td>\n",
                            "      <td>80-20</td>\n",
                            "      <td>166401.33</td>\n",
                            "      <td>410466.97</td>\n",
                            "      <td>2576.48</td>\n",
                            "      <td>528731.96</td>\n",
                            "      <td>2100.0</td>\n",
                            "      <td>244065.64</td>\n",
                            "    </tr>\n",
                            "    <tr>\n",
                            "      <th>11</th>\n",
                            "      <td>134741.68</td>\n",
                            "      <td>17829.60</td>\n",
                            "      <td>0.00</td>\n",
                            "      <td>16596.54</td>\n",
                            "      <td>0.0</td>\n",
                            "      <td>2025-03-01</td>\n",
                            "      <td>0.05</td>\n",
                            "      <td>[{'market_value': 529613.18, 'monthly_income':...</td>\n",
                            "      <td>0.04</td>\n",
                            "      <td>0.04</td>\n",
                            "      <td>...</td>\n",
                            "      <td>0.02</td>\n",
                            "      <td>True</td>\n",
                            "      <td>50000.0</td>\n",
                            "      <td>80-20</td>\n",
                            "      <td>152571.28</td>\n",
                            "      <td>398277.50</td>\n",
                            "      <td>2576.48</td>\n",
                            "      <td>529613.18</td>\n",
                            "      <td>2100.0</td>\n",
                            "      <td>245706.22</td>\n",
                            "    </tr>\n",
                            "    <tr>\n",
                            "      <th>12</th>\n",
                            "      <td>135303.10</td>\n",
                            "      <td>3337.17</td>\n",
                            "      <td>0.00</td>\n",
                            "      <td>16651.86</td>\n",
                            "      <td>0.0</td>\n",
                            "      <td>2025-04-01</td>\n",
                            "      <td>0.05</td>\n",
                            "      <td>[{'market_value': 530495.87, 'monthly_income':...</td>\n",
                            "      <td>0.04</td>\n",
                            "      <td>0.04</td>\n",
                            "      <td>...</td>\n",
                            "      <td>0.02</td>\n",
                            "      <td>True</td>\n",
                            "      <td>50000.0</td>\n",
                            "      <td>80-20</td>\n",
                            "      <td>138640.27</td>\n",
                            "      <td>385993.39</td>\n",
                            "      <td>2576.48</td>\n",
                            "      <td>530495.87</td>\n",
                            "      <td>2100.0</td>\n",
                            "      <td>247353.12</td>\n",
                            "    </tr>\n",
                            "    <tr>\n",
                            "      <th>13</th>\n",
                            "      <td>124607.79</td>\n",
                            "      <td>0.00</td>\n",
                            "      <td>0.00</td>\n",
                            "      <td>16707.37</td>\n",
                            "      <td>0.0</td>\n",
                            "      <td>2025-05-01</td>\n",
                            "      <td>0.05</td>\n",
                            "      <td>[{'market_value': 531380.03, 'monthly_income':...</td>\n",
                            "      <td>0.04</td>\n",
                            "      <td>0.04</td>\n",
                            "      <td>...</td>\n",
                            "      <td>0.02</td>\n",
                            "      <td>True</td>\n",
                            "      <td>50000.0</td>\n",
                            "      <td>80-20</td>\n",
                            "      <td>124607.79</td>\n",
                            "      <td>373614.16</td>\n",
                            "      <td>2576.48</td>\n",
                            "      <td>531380.03</td>\n",
                            "      <td>2100.0</td>\n",
                            "      <td>249006.37</td>\n",
                            "    </tr>\n",
                            "    <tr>\n",
                            "      <th>14</th>\n",
                            "      <td>110463.93</td>\n",
                            "      <td>0.00</td>\n",
                            "      <td>0.00</td>\n",
                            "      <td>16763.06</td>\n",
                            "      <td>0.0</td>\n",
                            "      <td>2025-06-01</td>\n",
                            "      <td>0.05</td>\n",
                            "      <td>[{'market_value': 532265.66, 'monthly_income':...</td>\n",
                            "      <td>0.04</td>\n",
                            "      <td>0.04</td>\n",
                            "      <td>...</td>\n",
                            "      <td>0.02</td>\n",
                            "      <td>True</td>\n",
                            "      <td>50000.0</td>\n",
                            "      <td>80-20</td>\n",
                            "      <td>110463.93</td>\n",
                            "      <td>361129.92</td>\n",
                            "      <td>2576.48</td>\n",
                            "      <td>532265.66</td>\n",
                            "      <td>2100.0</td>\n",
                            "      <td>250665.99</td>\n",
                            "    </tr>\n",
                            "    <tr>\n",
                            "      <th>15</th>\n",
                            "      <td>96205.26</td>\n",
                            "      <td>0.00</td>\n",
                            "      <td>0.00</td>\n",
                            "      <td>16818.94</td>\n",
                            "      <td>0.0</td>\n",
                            "      <td>2025-07-01</td>\n",
                            "      <td>0.05</td>\n",
                            "      <td>[{'market_value': 533152.77, 'monthly_income':...</td>\n",
                            "      <td>0.04</td>\n",
                            "      <td>0.04</td>\n",
                            "      <td>...</td>\n",
                            "      <td>0.02</td>\n",
                            "      <td>True</td>\n",
                            "      <td>50000.0</td>\n",
                            "      <td>80-20</td>\n",
                            "      <td>96205.26</td>\n",
                            "      <td>348537.30</td>\n",
                            "      <td>2576.48</td>\n",
                            "      <td>533152.77</td>\n",
                            "      <td>2100.0</td>\n",
                            "      <td>252332.04</td>\n",
                            "    </tr>\n",
                            "    <tr>\n",
                            "      <th>16</th>\n",
                            "      <td>81831.11</td>\n",
                            "      <td>0.00</td>\n",
                            "      <td>0.00</td>\n",
                            "      <td>16875.00</td>\n",
                            "      <td>0.0</td>\n",
                            "      <td>2025-08-01</td>\n",
                            "      <td>0.05</td>\n",
                            "      <td>[{'market_value': 534041.36, 'monthly_income':...</td>\n",
                            "      <td>0.04</td>\n",
                            "      <td>0.04</td>\n",
                            "      <td>...</td>\n",
                            "      <td>0.02</td>\n",
                            "      <td>True</td>\n",
                            "      <td>50000.0</td>\n",
                            "      <td>80-20</td>\n",
                            "      <td>81831.11</td>\n",
                            "      <td>335835.65</td>\n",
                            "      <td>2576.48</td>\n",
                            "      <td>534041.36</td>\n",
                            "      <td>2100.0</td>\n",
                            "      <td>254004.54</td>\n",
                            "    </tr>\n",
                            "    <tr>\n",
                            "      <th>17</th>\n",
                            "      <td>67340.82</td>\n",
                            "      <td>0.00</td>\n",
                            "      <td>0.00</td>\n",
                            "      <td>16931.25</td>\n",
                            "      <td>0.0</td>\n",
                            "      <td>2025-09-01</td>\n",
                            "      <td>0.05</td>\n",
                            "      <td>[{'market_value': 534931.43, 'monthly_income':...</td>\n",
                            "      <td>0.04</td>\n",
                            "      <td>0.04</td>\n",
                            "      <td>...</td>\n",
                            "      <td>0.02</td>\n",
                            "      <td>True</td>\n",
                            "      <td>50000.0</td>\n",
                            "      <td>80-20</td>\n",
                            "      <td>67340.82</td>\n",
                            "      <td>323024.34</td>\n",
                            "      <td>2576.48</td>\n",
                            "      <td>534931.43</td>\n",
                            "      <td>2100.0</td>\n",
                            "      <td>255683.52</td>\n",
                            "    </tr>\n",
                            "    <tr>\n",
                            "      <th>18</th>\n",
                            "      <td>52733.72</td>\n",
                            "      <td>0.00</td>\n",
                            "      <td>0.00</td>\n",
                            "      <td>16987.69</td>\n",
                            "      <td>0.0</td>\n",
                            "      <td>2025-10-01</td>\n",
                            "      <td>0.05</td>\n",
                            "      <td>[{'market_value': 535822.98, 'monthly_income':...</td>\n",
                            "      <td>0.04</td>\n",
                            "      <td>0.04</td>\n",
                            "      <td>...</td>\n",
                            "      <td>0.02</td>\n",
                            "      <td>True</td>\n",
                            "      <td>50000.0</td>\n",
                            "      <td>80-20</td>\n",
                            "      <td>52733.72</td>\n",
                            "      <td>310102.74</td>\n",
                            "      <td>2576.48</td>\n",
                            "      <td>535822.98</td>\n",
                            "      <td>2100.0</td>\n",
                            "      <td>257369.02</td>\n",
                            "    </tr>\n",
                            "    <tr>\n",
                            "      <th>19</th>\n",
                            "      <td>38009.13</td>\n",
                            "      <td>0.00</td>\n",
                            "      <td>0.00</td>\n",
                            "      <td>17044.32</td>\n",
                            "      <td>0.0</td>\n",
                            "      <td>2025-11-01</td>\n",
                            "      <td>0.05</td>\n",
                            "      <td>[{'market_value': 536716.02, 'monthly_income':...</td>\n",
                            "      <td>0.04</td>\n",
                            "      <td>0.04</td>\n",
                            "      <td>...</td>\n",
                            "      <td>0.02</td>\n",
                            "      <td>True</td>\n",
                            "      <td>50000.0</td>\n",
                            "      <td>80-20</td>\n",
                            "      <td>38009.13</td>\n",
                            "      <td>297070.21</td>\n",
                            "      <td>2576.48</td>\n",
                            "      <td>536716.02</td>\n",
                            "      <td>2100.0</td>\n",
                            "      <td>259061.08</td>\n",
                            "    </tr>\n",
                            "    <tr>\n",
                            "      <th>20</th>\n",
                            "      <td>23166.37</td>\n",
                            "      <td>0.00</td>\n",
                            "      <td>0.00</td>\n",
                            "      <td>17101.13</td>\n",
                            "      <td>0.0</td>\n",
                            "      <td>2025-12-01</td>\n",
                            "      <td>0.05</td>\n",
                            "      <td>[{'market_value': 537610.55, 'monthly_income':...</td>\n",
                            "      <td>0.04</td>\n",
                            "      <td>0.04</td>\n",
                            "      <td>...</td>\n",
                            "      <td>0.02</td>\n",
                            "      <td>True</td>\n",
                            "      <td>50000.0</td>\n",
                            "      <td>80-20</td>\n",
                            "      <td>23166.37</td>\n",
                            "      <td>283926.10</td>\n",
                            "      <td>2576.48</td>\n",
                            "      <td>537610.55</td>\n",
                            "      <td>2100.0</td>\n",
                            "      <td>260759.73</td>\n",
                            "    </tr>\n",
                            "    <tr>\n",
                            "      <th>21</th>\n",
                            "      <td>8204.76</td>\n",
                            "      <td>0.00</td>\n",
                            "      <td>0.00</td>\n",
                            "      <td>17158.13</td>\n",
                            "      <td>0.0</td>\n",
                            "      <td>2026-01-01</td>\n",
                            "      <td>0.05</td>\n",
                            "      <td>[{'market_value': 538506.57, 'monthly_income':...</td>\n",
                            "      <td>0.04</td>\n",
                            "      <td>0.04</td>\n",
                            "      <td>...</td>\n",
                            "      <td>0.02</td>\n",
                            "      <td>True</td>\n",
                            "      <td>50000.0</td>\n",
                            "      <td>80-20</td>\n",
                            "      <td>8204.76</td>\n",
                            "      <td>270669.76</td>\n",
                            "      <td>2576.48</td>\n",
                            "      <td>538506.57</td>\n",
                            "      <td>2100.0</td>\n",
                            "      <td>262465.00</td>\n",
                            "    </tr>\n",
                            "    <tr>\n",
                            "      <th>22</th>\n",
                            "      <td>165840.43</td>\n",
                            "      <td>41460.11</td>\n",
                            "      <td>50000.00</td>\n",
                            "      <td>17215.32</td>\n",
                            "      <td>0.0</td>\n",
                            "      <td>2026-02-01</td>\n",
                            "      <td>0.05</td>\n",
                            "      <td>[]</td>\n",
                            "      <td>0.04</td>\n",
                            "      <td>0.04</td>\n",
                            "      <td>...</td>\n",
                            "      <td>0.02</td>\n",
                            "      <td>True</td>\n",
                            "      <td>50000.0</td>\n",
                            "      <td>80-20</td>\n",
                            "      <td>257300.54</td>\n",
                            "      <td>257300.54</td>\n",
                            "      <td>0.00</td>\n",
                            "      <td>0.00</td>\n",
                            "      <td>0.0</td>\n",
                            "      <td>0.00</td>\n",
                            "    </tr>\n",
                            "    <tr>\n",
                            "      <th>23</th>\n",
                            "      <td>166531.43</td>\n",
                            "      <td>41598.31</td>\n",
                            "      <td>32727.30</td>\n",
                            "      <td>17272.70</td>\n",
                            "      <td>0.0</td>\n",
                            "      <td>2026-03-01</td>\n",
                            "      <td>0.05</td>\n",
                            "      <td>[]</td>\n",
                            "      <td>0.04</td>\n",
                            "      <td>0.04</td>\n",
                            "      <td>...</td>\n",
                            "      <td>0.02</td>\n",
                            "      <td>True</td>\n",
                            "      <td>50000.0</td>\n",
                            "      <td>80-20</td>\n",
                            "      <td>240857.04</td>\n",
                            "      <td>240857.04</td>\n",
                            "      <td>0.00</td>\n",
                            "      <td>0.00</td>\n",
                            "      <td>0.0</td>\n",
                            "      <td>0.00</td>\n",
                            "    </tr>\n",
                            "    <tr>\n",
                            "      <th>24</th>\n",
                            "      <td>167225.31</td>\n",
                            "      <td>41736.97</td>\n",
                            "      <td>15397.02</td>\n",
                            "      <td>17330.28</td>\n",
                            "      <td>0.0</td>\n",
                            "      <td>2026-04-01</td>\n",
                            "      <td>0.05</td>\n",
                            "      <td>[]</td>\n",
                            "      <td>0.04</td>\n",
                            "      <td>0.04</td>\n",
                            "      <td>...</td>\n",
                            "      <td>0.02</td>\n",
                            "      <td>True</td>\n",
                            "      <td>50000.0</td>\n",
                            "      <td>80-20</td>\n",
                            "      <td>224359.30</td>\n",
                            "      <td>224359.30</td>\n",
                            "      <td>0.00</td>\n",
                            "      <td>0.00</td>\n",
                            "      <td>0.0</td>\n",
                            "      <td>0.00</td>\n",
                            "    </tr>\n",
                            "    <tr>\n",
                            "      <th>25</th>\n",
                            "      <td>167922.08</td>\n",
                            "      <td>39885.07</td>\n",
                            "      <td>0.00</td>\n",
                            "      <td>17388.05</td>\n",
                            "      <td>0.0</td>\n",
                            "      <td>2026-05-01</td>\n",
                            "      <td>0.05</td>\n",
                            "      <td>[]</td>\n",
                            "      <td>0.04</td>\n",
                            "      <td>0.04</td>\n",
                            "      <td>...</td>\n",
                            "      <td>0.02</td>\n",
                            "      <td>True</td>\n",
                            "      <td>50000.0</td>\n",
                            "      <td>80-20</td>\n",
                            "      <td>207807.15</td>\n",
                            "      <td>207807.15</td>\n",
                            "      <td>0.00</td>\n",
                            "      <td>0.00</td>\n",
                            "      <td>0.0</td>\n",
                            "      <td>0.00</td>\n",
                            "    </tr>\n",
                            "    <tr>\n",
                            "      <th>26</th>\n",
                            "      <td>168621.76</td>\n",
                            "      <td>22572.01</td>\n",
                            "      <td>0.00</td>\n",
                            "      <td>17446.01</td>\n",
                            "      <td>0.0</td>\n",
                            "      <td>2026-06-01</td>\n",
                            "      <td>0.05</td>\n",
                            "      <td>[]</td>\n",
                            "      <td>0.04</td>\n",
                            "      <td>0.04</td>\n",
                            "      <td>...</td>\n",
                            "      <td>0.02</td>\n",
                            "      <td>True</td>\n",
                            "      <td>50000.0</td>\n",
                            "      <td>80-20</td>\n",
                            "      <td>191193.77</td>\n",
                            "      <td>191193.77</td>\n",
                            "      <td>0.00</td>\n",
                            "      <td>0.00</td>\n",
                            "      <td>0.0</td>\n",
                            "      <td>0.00</td>\n",
                            "    </tr>\n",
                            "    <tr>\n",
                            "      <th>27</th>\n",
                            "      <td>169324.35</td>\n",
                            "      <td>5143.09</td>\n",
                            "      <td>0.00</td>\n",
                            "      <td>17504.16</td>\n",
                            "      <td>0.0</td>\n",
                            "      <td>2026-07-01</td>\n",
                            "      <td>0.05</td>\n",
                            "      <td>[]</td>\n",
                            "      <td>0.04</td>\n",
                            "      <td>0.04</td>\n",
                            "      <td>...</td>\n",
                            "      <td>0.02</td>\n",
                            "      <td>True</td>\n",
                            "      <td>50000.0</td>\n",
                            "      <td>80-20</td>\n",
                            "      <td>174467.44</td>\n",
                            "      <td>174467.44</td>\n",
                            "      <td>0.00</td>\n",
                            "      <td>0.00</td>\n",
                            "      <td>0.0</td>\n",
                            "      <td>0.00</td>\n",
                            "    </tr>\n",
                            "    <tr>\n",
                            "      <th>28</th>\n",
                            "      <td>157627.59</td>\n",
                            "      <td>0.00</td>\n",
                            "      <td>0.00</td>\n",
                            "      <td>17562.51</td>\n",
                            "      <td>0.0</td>\n",
                            "      <td>2026-08-01</td>\n",
                            "      <td>0.05</td>\n",
                            "      <td>[]</td>\n",
                            "      <td>0.04</td>\n",
                            "      <td>0.04</td>\n",
                            "      <td>...</td>\n",
                            "      <td>0.02</td>\n",
                            "      <td>True</td>\n",
                            "      <td>50000.0</td>\n",
                            "      <td>80-20</td>\n",
                            "      <td>157627.59</td>\n",
                            "      <td>157627.59</td>\n",
                            "      <td>0.00</td>\n",
                            "      <td>0.00</td>\n",
                            "      <td>0.0</td>\n",
                            "      <td>0.00</td>\n",
                            "    </tr>\n",
                            "    <tr>\n",
                            "      <th>29</th>\n",
                            "      <td>140663.32</td>\n",
                            "      <td>0.00</td>\n",
                            "      <td>0.00</td>\n",
                            "      <td>17621.05</td>\n",
                            "      <td>0.0</td>\n",
                            "      <td>2026-09-01</td>\n",
                            "      <td>0.05</td>\n",
                            "      <td>[]</td>\n",
                            "      <td>0.04</td>\n",
                            "      <td>0.04</td>\n",
                            "      <td>...</td>\n",
                            "      <td>0.02</td>\n",
                            "      <td>True</td>\n",
                            "      <td>50000.0</td>\n",
                            "      <td>80-20</td>\n",
                            "      <td>140663.32</td>\n",
                            "      <td>140663.32</td>\n",
                            "      <td>0.00</td>\n",
                            "      <td>0.00</td>\n",
                            "      <td>0.0</td>\n",
                            "      <td>0.00</td>\n",
                            "    </tr>\n",
                            "    <tr>\n",
                            "      <th>30</th>\n",
                            "      <td>123569.63</td>\n",
                            "      <td>0.00</td>\n",
                            "      <td>0.00</td>\n",
                            "      <td>17679.79</td>\n",
                            "      <td>0.0</td>\n",
                            "      <td>2026-10-01</td>\n",
                            "      <td>0.05</td>\n",
                            "      <td>[]</td>\n",
                            "      <td>0.04</td>\n",
                            "      <td>0.04</td>\n",
                            "      <td>...</td>\n",
                            "      <td>0.02</td>\n",
                            "      <td>True</td>\n",
                            "      <td>50000.0</td>\n",
                            "      <td>80-20</td>\n",
                            "      <td>123569.63</td>\n",
                            "      <td>123569.63</td>\n",
                            "      <td>0.00</td>\n",
                            "      <td>0.00</td>\n",
                            "      <td>0.0</td>\n",
                            "      <td>0.00</td>\n",
                            "    </tr>\n",
                            "    <tr>\n",
                            "      <th>31</th>\n",
                            "      <td>106345.78</td>\n",
                            "      <td>0.00</td>\n",
                            "      <td>0.00</td>\n",
                            "      <td>17738.72</td>\n",
                            "      <td>0.0</td>\n",
                            "      <td>2026-11-01</td>\n",
                            "      <td>0.05</td>\n",
                            "      <td>[]</td>\n",
                            "      <td>0.04</td>\n",
                            "      <td>0.04</td>\n",
                            "      <td>...</td>\n",
                            "      <td>0.02</td>\n",
                            "      <td>True</td>\n",
                            "      <td>50000.0</td>\n",
                            "      <td>80-20</td>\n",
                            "      <td>106345.78</td>\n",
                            "      <td>106345.78</td>\n",
                            "      <td>0.00</td>\n",
                            "      <td>0.00</td>\n",
                            "      <td>0.0</td>\n",
                            "      <td>0.00</td>\n",
                            "    </tr>\n",
                            "    <tr>\n",
                            "      <th>32</th>\n",
                            "      <td>88991.04</td>\n",
                            "      <td>0.00</td>\n",
                            "      <td>0.00</td>\n",
                            "      <td>17797.85</td>\n",
                            "      <td>0.0</td>\n",
                            "      <td>2026-12-01</td>\n",
                            "      <td>0.05</td>\n",
                            "      <td>[]</td>\n",
                            "      <td>0.04</td>\n",
                            "      <td>0.04</td>\n",
                            "      <td>...</td>\n",
                            "      <td>0.02</td>\n",
                            "      <td>True</td>\n",
                            "      <td>50000.0</td>\n",
                            "      <td>80-20</td>\n",
                            "      <td>88991.04</td>\n",
                            "      <td>88991.04</td>\n",
                            "      <td>0.00</td>\n",
                            "      <td>0.00</td>\n",
                            "      <td>0.0</td>\n",
                            "      <td>0.00</td>\n",
                            "    </tr>\n",
                            "    <tr>\n",
                            "      <th>33</th>\n",
                            "      <td>71504.66</td>\n",
                            "      <td>0.00</td>\n",
                            "      <td>0.00</td>\n",
                            "      <td>17857.18</td>\n",
                            "      <td>0.0</td>\n",
                            "      <td>2027-01-01</td>\n",
                            "      <td>0.05</td>\n",
                            "      <td>[]</td>\n",
                            "      <td>0.04</td>\n",
                            "      <td>0.04</td>\n",
                            "      <td>...</td>\n",
                            "      <td>0.02</td>\n",
                            "      <td>True</td>\n",
                            "      <td>50000.0</td>\n",
                            "      <td>80-20</td>\n",
                            "      <td>71504.66</td>\n",
                            "      <td>71504.66</td>\n",
                            "      <td>0.00</td>\n",
                            "      <td>0.00</td>\n",
                            "      <td>0.0</td>\n",
                            "      <td>0.00</td>\n",
                            "    </tr>\n",
                            "    <tr>\n",
                            "      <th>34</th>\n",
                            "      <td>53885.89</td>\n",
                            "      <td>0.00</td>\n",
                            "      <td>0.00</td>\n",
                            "      <td>17916.70</td>\n",
                            "      <td>0.0</td>\n",
                            "      <td>2027-02-01</td>\n",
                            "      <td>0.05</td>\n",
                            "      <td>[]</td>\n",
                            "      <td>0.04</td>\n",
                            "      <td>0.04</td>\n",
                            "      <td>...</td>\n",
                            "      <td>0.02</td>\n",
                            "      <td>True</td>\n",
                            "      <td>50000.0</td>\n",
                            "      <td>80-20</td>\n",
                            "      <td>53885.89</td>\n",
                            "      <td>53885.89</td>\n",
                            "      <td>0.00</td>\n",
                            "      <td>0.00</td>\n",
                            "      <td>0.0</td>\n",
                            "      <td>0.00</td>\n",
                            "    </tr>\n",
                            "    <tr>\n",
                            "      <th>35</th>\n",
                            "      <td>36133.99</td>\n",
                            "      <td>0.00</td>\n",
                            "      <td>0.00</td>\n",
                            "      <td>17976.42</td>\n",
                            "      <td>0.0</td>\n",
                            "      <td>2027-03-01</td>\n",
                            "      <td>0.05</td>\n",
                            "      <td>[]</td>\n",
                            "      <td>0.04</td>\n",
                            "      <td>0.04</td>\n",
                            "      <td>...</td>\n",
                            "      <td>0.02</td>\n",
                            "      <td>True</td>\n",
                            "      <td>50000.0</td>\n",
                            "      <td>80-20</td>\n",
                            "      <td>36133.99</td>\n",
                            "      <td>36133.99</td>\n",
                            "      <td>0.00</td>\n",
                            "      <td>0.00</td>\n",
                            "      <td>0.0</td>\n",
                            "      <td>0.00</td>\n",
                            "    </tr>\n",
                            "    <tr>\n",
                            "      <th>36</th>\n",
                            "      <td>18248.21</td>\n",
                            "      <td>0.00</td>\n",
                            "      <td>0.00</td>\n",
                            "      <td>18036.34</td>\n",
                            "      <td>0.0</td>\n",
                            "      <td>2027-04-01</td>\n",
                            "      <td>0.05</td>\n",
                            "      <td>[]</td>\n",
                            "      <td>0.04</td>\n",
                            "      <td>0.04</td>\n",
                            "      <td>...</td>\n",
                            "      <td>0.02</td>\n",
                            "      <td>True</td>\n",
                            "      <td>50000.0</td>\n",
                            "      <td>80-20</td>\n",
                            "      <td>18248.21</td>\n",
                            "      <td>18248.21</td>\n",
                            "      <td>0.00</td>\n",
                            "      <td>0.00</td>\n",
                            "      <td>0.0</td>\n",
                            "      <td>0.00</td>\n",
                            "    </tr>\n",
                            "    <tr>\n",
                            "      <th>37</th>\n",
                            "      <td>227.78</td>\n",
                            "      <td>0.00</td>\n",
                            "      <td>0.00</td>\n",
                            "      <td>18096.46</td>\n",
                            "      <td>0.0</td>\n",
                            "      <td>2027-05-01</td>\n",
                            "      <td>0.05</td>\n",
                            "      <td>[]</td>\n",
                            "      <td>0.04</td>\n",
                            "      <td>0.04</td>\n",
                            "      <td>...</td>\n",
                            "      <td>0.02</td>\n",
                            "      <td>True</td>\n",
                            "      <td>50000.0</td>\n",
                            "      <td>80-20</td>\n",
                            "      <td>227.78</td>\n",
                            "      <td>227.78</td>\n",
                            "      <td>0.00</td>\n",
                            "      <td>0.00</td>\n",
                            "      <td>0.0</td>\n",
                            "      <td>0.00</td>\n",
                            "    </tr>\n",
                            "  </tbody>\n",
                            "</table>\n",
                            "<p>38 rows × 21 columns</p>\n",
                            "</div>"
                        ],
                        "text/plain": [
                            "    stock_investments  bonds_investments       cash  monthly_expenses  \\\n",
                            "0           100000.00          100000.00  100000.00          16000.00   \n",
                            "1           129254.00          107542.67   50000.00          16053.33   \n",
                            "2           129792.56          107901.15   35993.16          16106.84   \n",
                            "3           130333.36          108260.82   21932.63          16160.53   \n",
                            "4           130876.42          108621.69    7818.23          16214.40   \n",
                            "5           131421.74          102633.54       0.00          16268.45   \n",
                            "6           131969.33           88752.97       0.00          16322.68   \n",
                            "7           132519.20           74771.72       0.00          16377.09   \n",
                            "8           133071.36           60689.28       0.00          16431.68   \n",
                            "9           133625.82           46505.13       0.00          16486.45   \n",
                            "10          134182.59           32218.74       0.00          16541.40   \n",
                            "11          134741.68           17829.60       0.00          16596.54   \n",
                            "12          135303.10            3337.17       0.00          16651.86   \n",
                            "13          124607.79               0.00       0.00          16707.37   \n",
                            "14          110463.93               0.00       0.00          16763.06   \n",
                            "15           96205.26               0.00       0.00          16818.94   \n",
                            "16           81831.11               0.00       0.00          16875.00   \n",
                            "17           67340.82               0.00       0.00          16931.25   \n",
                            "18           52733.72               0.00       0.00          16987.69   \n",
                            "19           38009.13               0.00       0.00          17044.32   \n",
                            "20           23166.37               0.00       0.00          17101.13   \n",
                            "21            8204.76               0.00       0.00          17158.13   \n",
                            "22          165840.43           41460.11   50000.00          17215.32   \n",
                            "23          166531.43           41598.31   32727.30          17272.70   \n",
                            "24          167225.31           41736.97   15397.02          17330.28   \n",
                            "25          167922.08           39885.07       0.00          17388.05   \n",
                            "26          168621.76           22572.01       0.00          17446.01   \n",
                            "27          169324.35            5143.09       0.00          17504.16   \n",
                            "28          157627.59               0.00       0.00          17562.51   \n",
                            "29          140663.32               0.00       0.00          17621.05   \n",
                            "30          123569.63               0.00       0.00          17679.79   \n",
                            "31          106345.78               0.00       0.00          17738.72   \n",
                            "32           88991.04               0.00       0.00          17797.85   \n",
                            "33           71504.66               0.00       0.00          17857.18   \n",
                            "34           53885.89               0.00       0.00          17916.70   \n",
                            "35           36133.99               0.00       0.00          17976.42   \n",
                            "36           18248.21               0.00       0.00          18036.34   \n",
                            "37             227.78               0.00       0.00          18096.46   \n",
                            "\n",
                            "    monthly_income       date  stock_return_rate  \\\n",
                            "0              0.0 2024-04-01               0.05   \n",
                            "1              0.0 2024-05-01               0.05   \n",
                            "2              0.0 2024-06-01               0.05   \n",
                            "3              0.0 2024-07-01               0.05   \n",
                            "4              0.0 2024-08-01               0.05   \n",
                            "5              0.0 2024-09-01               0.05   \n",
                            "6              0.0 2024-10-01               0.05   \n",
                            "7              0.0 2024-11-01               0.05   \n",
                            "8              0.0 2024-12-01               0.05   \n",
                            "9              0.0 2025-01-01               0.05   \n",
                            "10             0.0 2025-02-01               0.05   \n",
                            "11             0.0 2025-03-01               0.05   \n",
                            "12             0.0 2025-04-01               0.05   \n",
                            "13             0.0 2025-05-01               0.05   \n",
                            "14             0.0 2025-06-01               0.05   \n",
                            "15             0.0 2025-07-01               0.05   \n",
                            "16             0.0 2025-08-01               0.05   \n",
                            "17             0.0 2025-09-01               0.05   \n",
                            "18             0.0 2025-10-01               0.05   \n",
                            "19             0.0 2025-11-01               0.05   \n",
                            "20             0.0 2025-12-01               0.05   \n",
                            "21             0.0 2026-01-01               0.05   \n",
                            "22             0.0 2026-02-01               0.05   \n",
                            "23             0.0 2026-03-01               0.05   \n",
                            "24             0.0 2026-04-01               0.05   \n",
                            "25             0.0 2026-05-01               0.05   \n",
                            "26             0.0 2026-06-01               0.05   \n",
                            "27             0.0 2026-07-01               0.05   \n",
                            "28             0.0 2026-08-01               0.05   \n",
                            "29             0.0 2026-09-01               0.05   \n",
                            "30             0.0 2026-10-01               0.05   \n",
                            "31             0.0 2026-11-01               0.05   \n",
                            "32             0.0 2026-12-01               0.05   \n",
                            "33             0.0 2027-01-01               0.05   \n",
                            "34             0.0 2027-02-01               0.05   \n",
                            "35             0.0 2027-03-01               0.05   \n",
                            "36             0.0 2027-04-01               0.05   \n",
                            "37             0.0 2027-05-01               0.05   \n",
                            "\n",
                            "                                investment_properties  bonds_return_rate  \\\n",
                            "0   [{'market_value': 520000, 'monthly_income': 21...               0.04   \n",
                            "1   [{'market_value': 520866.67, 'monthly_income':...               0.04   \n",
                            "2   [{'market_value': 521734.78, 'monthly_income':...               0.04   \n",
                            "3   [{'market_value': 522604.34, 'monthly_income':...               0.04   \n",
                            "4   [{'market_value': 523475.35, 'monthly_income':...               0.04   \n",
                            "5   [{'market_value': 524347.81, 'monthly_income':...               0.04   \n",
                            "6   [{'market_value': 525221.72, 'monthly_income':...               0.04   \n",
                            "7   [{'market_value': 526097.09, 'monthly_income':...               0.04   \n",
                            "8   [{'market_value': 526973.92, 'monthly_income':...               0.04   \n",
                            "9   [{'market_value': 527852.21, 'monthly_income':...               0.04   \n",
                            "10  [{'market_value': 528731.96, 'monthly_income':...               0.04   \n",
                            "11  [{'market_value': 529613.18, 'monthly_income':...               0.04   \n",
                            "12  [{'market_value': 530495.87, 'monthly_income':...               0.04   \n",
                            "13  [{'market_value': 531380.03, 'monthly_income':...               0.04   \n",
                            "14  [{'market_value': 532265.66, 'monthly_income':...               0.04   \n",
                            "15  [{'market_value': 533152.77, 'monthly_income':...               0.04   \n",
                            "16  [{'market_value': 534041.36, 'monthly_income':...               0.04   \n",
                            "17  [{'market_value': 534931.43, 'monthly_income':...               0.04   \n",
                            "18  [{'market_value': 535822.98, 'monthly_income':...               0.04   \n",
                            "19  [{'market_value': 536716.02, 'monthly_income':...               0.04   \n",
                            "20  [{'market_value': 537610.55, 'monthly_income':...               0.04   \n",
                            "21  [{'market_value': 538506.57, 'monthly_income':...               0.04   \n",
                            "22                                                 []               0.04   \n",
                            "23                                                 []               0.04   \n",
                            "24                                                 []               0.04   \n",
                            "25                                                 []               0.04   \n",
                            "26                                                 []               0.04   \n",
                            "27                                                 []               0.04   \n",
                            "28                                                 []               0.04   \n",
                            "29                                                 []               0.04   \n",
                            "30                                                 []               0.04   \n",
                            "31                                                 []               0.04   \n",
                            "32                                                 []               0.04   \n",
                            "33                                                 []               0.04   \n",
                            "34                                                 []               0.04   \n",
                            "35                                                 []               0.04   \n",
                            "36                                                 []               0.04   \n",
                            "37                                                 []               0.04   \n",
                            "\n",
                            "    annual_inflation_rate  ...  annual_property_appreciation_rate  \\\n",
                            "0                    0.04  ...                               0.02   \n",
                            "1                    0.04  ...                               0.02   \n",
                            "2                    0.04  ...                               0.02   \n",
                            "3                    0.04  ...                               0.02   \n",
                            "4                    0.04  ...                               0.02   \n",
                            "5                    0.04  ...                               0.02   \n",
                            "6                    0.04  ...                               0.02   \n",
                            "7                    0.04  ...                               0.02   \n",
                            "8                    0.04  ...                               0.02   \n",
                            "9                    0.04  ...                               0.02   \n",
                            "10                   0.04  ...                               0.02   \n",
                            "11                   0.04  ...                               0.02   \n",
                            "12                   0.04  ...                               0.02   \n",
                            "13                   0.04  ...                               0.02   \n",
                            "14                   0.04  ...                               0.02   \n",
                            "15                   0.04  ...                               0.02   \n",
                            "16                   0.04  ...                               0.02   \n",
                            "17                   0.04  ...                               0.02   \n",
                            "18                   0.04  ...                               0.02   \n",
                            "19                   0.04  ...                               0.02   \n",
                            "20                   0.04  ...                               0.02   \n",
                            "21                   0.04  ...                               0.02   \n",
                            "22                   0.04  ...                               0.02   \n",
                            "23                   0.04  ...                               0.02   \n",
                            "24                   0.04  ...                               0.02   \n",
                            "25                   0.04  ...                               0.02   \n",
                            "26                   0.04  ...                               0.02   \n",
                            "27                   0.04  ...                               0.02   \n",
                            "28                   0.04  ...                               0.02   \n",
                            "29                   0.04  ...                               0.02   \n",
                            "30                   0.04  ...                               0.02   \n",
                            "31                   0.04  ...                               0.02   \n",
                            "32                   0.04  ...                               0.02   \n",
                            "33                   0.04  ...                               0.02   \n",
                            "34                   0.04  ...                               0.02   \n",
                            "35                   0.04  ...                               0.02   \n",
                            "36                   0.04  ...                               0.02   \n",
                            "37                   0.04  ...                               0.02   \n",
                            "\n",
                            "    invest_cash_surplus  invest_cash_threshold  invest_cash_surplus_strategy  \\\n",
                            "0                  True                50000.0                         80-20   \n",
                            "1                  True                50000.0                         80-20   \n",
                            "2                  True                50000.0                         80-20   \n",
                            "3                  True                50000.0                         80-20   \n",
                            "4                  True                50000.0                         80-20   \n",
                            "5                  True                50000.0                         80-20   \n",
                            "6                  True                50000.0                         80-20   \n",
                            "7                  True                50000.0                         80-20   \n",
                            "8                  True                50000.0                         80-20   \n",
                            "9                  True                50000.0                         80-20   \n",
                            "10                 True                50000.0                         80-20   \n",
                            "11                 True                50000.0                         80-20   \n",
                            "12                 True                50000.0                         80-20   \n",
                            "13                 True                50000.0                         80-20   \n",
                            "14                 True                50000.0                         80-20   \n",
                            "15                 True                50000.0                         80-20   \n",
                            "16                 True                50000.0                         80-20   \n",
                            "17                 True                50000.0                         80-20   \n",
                            "18                 True                50000.0                         80-20   \n",
                            "19                 True                50000.0                         80-20   \n",
                            "20                 True                50000.0                         80-20   \n",
                            "21                 True                50000.0                         80-20   \n",
                            "22                 True                50000.0                         80-20   \n",
                            "23                 True                50000.0                         80-20   \n",
                            "24                 True                50000.0                         80-20   \n",
                            "25                 True                50000.0                         80-20   \n",
                            "26                 True                50000.0                         80-20   \n",
                            "27                 True                50000.0                         80-20   \n",
                            "28                 True                50000.0                         80-20   \n",
                            "29                 True                50000.0                         80-20   \n",
                            "30                 True                50000.0                         80-20   \n",
                            "31                 True                50000.0                         80-20   \n",
                            "32                 True                50000.0                         80-20   \n",
                            "33                 True                50000.0                         80-20   \n",
                            "34                 True                50000.0                         80-20   \n",
                            "35                 True                50000.0                         80-20   \n",
                            "36                 True                50000.0                         80-20   \n",
                            "37                 True                50000.0                         80-20   \n",
                            "\n",
                            "   liquid_wealth  wealth_inc_properties  properties_monthly_mortgage  \\\n",
                            "0      300000.00              528000.00                      2576.48   \n",
                            "1      286796.67              516375.89                      2576.48   \n",
                            "2      273686.87              504851.30                      2576.48   \n",
                            "3      260526.81              493282.47                      2576.48   \n",
                            "4      247316.34              481669.29                      2576.48   \n",
                            "5      234055.28              470011.61                      2576.48   \n",
                            "6      220722.30              458288.12                      2576.48   \n",
                            "7      207290.92              446472.39                      2576.48   \n",
                            "8      193760.64              434563.94                      2576.48   \n",
                            "9      180130.95              422562.30                      2576.48   \n",
                            "10     166401.33              410466.97                      2576.48   \n",
                            "11     152571.28              398277.50                      2576.48   \n",
                            "12     138640.27              385993.39                      2576.48   \n",
                            "13     124607.79              373614.16                      2576.48   \n",
                            "14     110463.93              361129.92                      2576.48   \n",
                            "15      96205.26              348537.30                      2576.48   \n",
                            "16      81831.11              335835.65                      2576.48   \n",
                            "17      67340.82              323024.34                      2576.48   \n",
                            "18      52733.72              310102.74                      2576.48   \n",
                            "19      38009.13              297070.21                      2576.48   \n",
                            "20      23166.37              283926.10                      2576.48   \n",
                            "21       8204.76              270669.76                      2576.48   \n",
                            "22     257300.54              257300.54                         0.00   \n",
                            "23     240857.04              240857.04                         0.00   \n",
                            "24     224359.30              224359.30                         0.00   \n",
                            "25     207807.15              207807.15                         0.00   \n",
                            "26     191193.77              191193.77                         0.00   \n",
                            "27     174467.44              174467.44                         0.00   \n",
                            "28     157627.59              157627.59                         0.00   \n",
                            "29     140663.32              140663.32                         0.00   \n",
                            "30     123569.63              123569.63                         0.00   \n",
                            "31     106345.78              106345.78                         0.00   \n",
                            "32      88991.04               88991.04                         0.00   \n",
                            "33      71504.66               71504.66                         0.00   \n",
                            "34      53885.89               53885.89                         0.00   \n",
                            "35      36133.99               36133.99                         0.00   \n",
                            "36      18248.21               18248.21                         0.00   \n",
                            "37        227.78                 227.78                         0.00   \n",
                            "\n",
                            "    properties_market_value  properties_monthly_income  \\\n",
                            "0                 520000.00                     2100.0   \n",
                            "1                 520866.67                     2100.0   \n",
                            "2                 521734.78                     2100.0   \n",
                            "3                 522604.34                     2100.0   \n",
                            "4                 523475.35                     2100.0   \n",
                            "5                 524347.81                     2100.0   \n",
                            "6                 525221.72                     2100.0   \n",
                            "7                 526097.09                     2100.0   \n",
                            "8                 526973.92                     2100.0   \n",
                            "9                 527852.21                     2100.0   \n",
                            "10                528731.96                     2100.0   \n",
                            "11                529613.18                     2100.0   \n",
                            "12                530495.87                     2100.0   \n",
                            "13                531380.03                     2100.0   \n",
                            "14                532265.66                     2100.0   \n",
                            "15                533152.77                     2100.0   \n",
                            "16                534041.36                     2100.0   \n",
                            "17                534931.43                     2100.0   \n",
                            "18                535822.98                     2100.0   \n",
                            "19                536716.02                     2100.0   \n",
                            "20                537610.55                     2100.0   \n",
                            "21                538506.57                     2100.0   \n",
                            "22                     0.00                        0.0   \n",
                            "23                     0.00                        0.0   \n",
                            "24                     0.00                        0.0   \n",
                            "25                     0.00                        0.0   \n",
                            "26                     0.00                        0.0   \n",
                            "27                     0.00                        0.0   \n",
                            "28                     0.00                        0.0   \n",
                            "29                     0.00                        0.0   \n",
                            "30                     0.00                        0.0   \n",
                            "31                     0.00                        0.0   \n",
                            "32                     0.00                        0.0   \n",
                            "33                     0.00                        0.0   \n",
                            "34                     0.00                        0.0   \n",
                            "35                     0.00                        0.0   \n",
                            "36                     0.00                        0.0   \n",
                            "37                     0.00                        0.0   \n",
                            "\n",
                            "    properties_net_cash_value  \n",
                            "0                   228000.00  \n",
                            "1                   229579.22  \n",
                            "2                   231164.43  \n",
                            "3                   232755.66  \n",
                            "4                   234352.95  \n",
                            "5                   235956.33  \n",
                            "6                   237565.82  \n",
                            "7                   239181.47  \n",
                            "8                   240803.30  \n",
                            "9                   242431.35  \n",
                            "10                  244065.64  \n",
                            "11                  245706.22  \n",
                            "12                  247353.12  \n",
                            "13                  249006.37  \n",
                            "14                  250665.99  \n",
                            "15                  252332.04  \n",
                            "16                  254004.54  \n",
                            "17                  255683.52  \n",
                            "18                  257369.02  \n",
                            "19                  259061.08  \n",
                            "20                  260759.73  \n",
                            "21                  262465.00  \n",
                            "22                       0.00  \n",
                            "23                       0.00  \n",
                            "24                       0.00  \n",
                            "25                       0.00  \n",
                            "26                       0.00  \n",
                            "27                       0.00  \n",
                            "28                       0.00  \n",
                            "29                       0.00  \n",
                            "30                       0.00  \n",
                            "31                       0.00  \n",
                            "32                       0.00  \n",
                            "33                       0.00  \n",
                            "34                       0.00  \n",
                            "35                       0.00  \n",
                            "36                       0.00  \n",
                            "37                       0.00  \n",
                            "\n",
                            "[38 rows x 21 columns]"
                        ]
                    },
                    "execution_count": 4,
                    "metadata": {},
                    "output_type": "execute_result"
                }
            ],
            "source": [
                "\n",
                "df = pd.DataFrame([s.to_dict() for s in simulation])\n",
                "\n",
                "number_of_records = len(df)\n",
                "last_record = df.iloc[-1]\n",
                "df\n"
            ]
        },
        {
            "cell_type": "code",
            "execution_count": 5,
            "metadata": {},
            "outputs": [
                {
                    "name": "stdout",
                    "output_type": "stream",
                    "text": [
                        "Without any income and burning only your investments, you can survive for 38 months\n"
                    ]
                }
            ],
            "source": [
                "print(f\"Without any income and burning only your investments, you can survive for {number_of_records} months\")\n",
                "\n"
            ]
        },
        {
            "cell_type": "code",
            "execution_count": 7,
            "metadata": {},
            "outputs": [
                {
                    "data": {
                        "application/vnd.plotly.v1+json": {
                            "config": {
                                "plotlyServerURL": "https://plot.ly"
                            },
                            "data": [
                                {
                                    "alignmentgroup": "True",
                                    "hovertemplate": "variable=properties_net_cash_value<br>date=%{x}<br>value=%{y}<extra></extra>",
                                    "legendgroup": "properties_net_cash_value",
                                    "marker": {
                                        "color": "#636efa",
                                        "pattern": {
                                            "shape": ""
                                        }
                                    },
                                    "name": "properties_net_cash_value",
                                    "offsetgroup": "properties_net_cash_value",
                                    "orientation": "v",
                                    "showlegend": true,
                                    "textposition": "auto",
                                    "type": "bar",
                                    "x": [
                                        "2024-04-01T00:00:00",
                                        "2024-05-01T00:00:00",
                                        "2024-06-01T00:00:00",
                                        "2024-07-01T00:00:00",
                                        "2024-08-01T00:00:00",
                                        "2024-09-01T00:00:00",
                                        "2024-10-01T00:00:00",
                                        "2024-11-01T00:00:00",
                                        "2024-12-01T00:00:00",
                                        "2025-01-01T00:00:00",
                                        "2025-02-01T00:00:00",
                                        "2025-03-01T00:00:00",
                                        "2025-04-01T00:00:00",
                                        "2025-05-01T00:00:00",
                                        "2025-06-01T00:00:00",
                                        "2025-07-01T00:00:00",
                                        "2025-08-01T00:00:00",
                                        "2025-09-01T00:00:00",
                                        "2025-10-01T00:00:00",
                                        "2025-11-01T00:00:00",
                                        "2025-12-01T00:00:00",
                                        "2026-01-01T00:00:00",
                                        "2026-02-01T00:00:00",
                                        "2026-03-01T00:00:00",
                                        "2026-04-01T00:00:00",
                                        "2026-05-01T00:00:00",
                                        "2026-06-01T00:00:00",
                                        "2026-07-01T00:00:00",
                                        "2026-08-01T00:00:00",
                                        "2026-09-01T00:00:00",
                                        "2026-10-01T00:00:00",
                                        "2026-11-01T00:00:00",
                                        "2026-12-01T00:00:00",
                                        "2027-01-01T00:00:00",
                                        "2027-02-01T00:00:00",
                                        "2027-03-01T00:00:00",
                                        "2027-04-01T00:00:00",
                                        "2027-05-01T00:00:00"
                                    ],
                                    "xaxis": "x",
                                    "y": [
                                        228000,
                                        229579.22,
                                        231164.43,
                                        232755.66,
                                        234352.95,
                                        235956.33,
                                        237565.82,
                                        239181.47,
                                        240803.3,
                                        242431.35,
                                        244065.64,
                                        245706.22,
                                        247353.12,
                                        249006.37,
                                        250665.99,
                                        252332.04,
                                        254004.54,
                                        255683.52,
                                        257369.02,
                                        259061.08,
                                        260759.73,
                                        262465,
                                        0,
                                        0,
                                        0,
                                        0,
                                        0,
                                        0,
                                        0,
                                        0,
                                        0,
                                        0,
                                        0,
                                        0,
                                        0,
                                        0,
                                        0,
                                        0
                                    ],
                                    "yaxis": "y"
                                },
                                {
                                    "alignmentgroup": "True",
                                    "hovertemplate": "variable=stock_investments<br>date=%{x}<br>value=%{y}<extra></extra>",
                                    "legendgroup": "stock_investments",
                                    "marker": {
                                        "color": "#EF553B",
                                        "pattern": {
                                            "shape": ""
                                        }
                                    },
                                    "name": "stock_investments",
                                    "offsetgroup": "stock_investments",
                                    "orientation": "v",
                                    "showlegend": true,
                                    "textposition": "auto",
                                    "type": "bar",
                                    "x": [
                                        "2024-04-01T00:00:00",
                                        "2024-05-01T00:00:00",
                                        "2024-06-01T00:00:00",
                                        "2024-07-01T00:00:00",
                                        "2024-08-01T00:00:00",
                                        "2024-09-01T00:00:00",
                                        "2024-10-01T00:00:00",
                                        "2024-11-01T00:00:00",
                                        "2024-12-01T00:00:00",
                                        "2025-01-01T00:00:00",
                                        "2025-02-01T00:00:00",
                                        "2025-03-01T00:00:00",
                                        "2025-04-01T00:00:00",
                                        "2025-05-01T00:00:00",
                                        "2025-06-01T00:00:00",
                                        "2025-07-01T00:00:00",
                                        "2025-08-01T00:00:00",
                                        "2025-09-01T00:00:00",
                                        "2025-10-01T00:00:00",
                                        "2025-11-01T00:00:00",
                                        "2025-12-01T00:00:00",
                                        "2026-01-01T00:00:00",
                                        "2026-02-01T00:00:00",
                                        "2026-03-01T00:00:00",
                                        "2026-04-01T00:00:00",
                                        "2026-05-01T00:00:00",
                                        "2026-06-01T00:00:00",
                                        "2026-07-01T00:00:00",
                                        "2026-08-01T00:00:00",
                                        "2026-09-01T00:00:00",
                                        "2026-10-01T00:00:00",
                                        "2026-11-01T00:00:00",
                                        "2026-12-01T00:00:00",
                                        "2027-01-01T00:00:00",
                                        "2027-02-01T00:00:00",
                                        "2027-03-01T00:00:00",
                                        "2027-04-01T00:00:00",
                                        "2027-05-01T00:00:00"
                                    ],
                                    "xaxis": "x",
                                    "y": [
                                        100000,
                                        129254,
                                        129792.56,
                                        130333.36,
                                        130876.42,
                                        131421.74,
                                        131969.33,
                                        132519.2,
                                        133071.36,
                                        133625.82,
                                        134182.59,
                                        134741.68,
                                        135303.1,
                                        124607.79,
                                        110463.93,
                                        96205.26,
                                        81831.11,
                                        67340.82,
                                        52733.72,
                                        38009.13,
                                        23166.37,
                                        8204.76,
                                        165840.43,
                                        166531.43,
                                        167225.31,
                                        167922.08,
                                        168621.76,
                                        169324.35,
                                        157627.59,
                                        140663.32,
                                        123569.63,
                                        106345.78,
                                        88991.04,
                                        71504.66,
                                        53885.89,
                                        36133.99,
                                        18248.21,
                                        227.78
                                    ],
                                    "yaxis": "y"
                                },
                                {
                                    "alignmentgroup": "True",
                                    "hovertemplate": "variable=bonds_investments<br>date=%{x}<br>value=%{y}<extra></extra>",
                                    "legendgroup": "bonds_investments",
                                    "marker": {
                                        "color": "#00cc96",
                                        "pattern": {
                                            "shape": ""
                                        }
                                    },
                                    "name": "bonds_investments",
                                    "offsetgroup": "bonds_investments",
                                    "orientation": "v",
                                    "showlegend": true,
                                    "textposition": "auto",
                                    "type": "bar",
                                    "x": [
                                        "2024-04-01T00:00:00",
                                        "2024-05-01T00:00:00",
                                        "2024-06-01T00:00:00",
                                        "2024-07-01T00:00:00",
                                        "2024-08-01T00:00:00",
                                        "2024-09-01T00:00:00",
                                        "2024-10-01T00:00:00",
                                        "2024-11-01T00:00:00",
                                        "2024-12-01T00:00:00",
                                        "2025-01-01T00:00:00",
                                        "2025-02-01T00:00:00",
                                        "2025-03-01T00:00:00",
                                        "2025-04-01T00:00:00",
                                        "2025-05-01T00:00:00",
                                        "2025-06-01T00:00:00",
                                        "2025-07-01T00:00:00",
                                        "2025-08-01T00:00:00",
                                        "2025-09-01T00:00:00",
                                        "2025-10-01T00:00:00",
                                        "2025-11-01T00:00:00",
                                        "2025-12-01T00:00:00",
                                        "2026-01-01T00:00:00",
                                        "2026-02-01T00:00:00",
                                        "2026-03-01T00:00:00",
                                        "2026-04-01T00:00:00",
                                        "2026-05-01T00:00:00",
                                        "2026-06-01T00:00:00",
                                        "2026-07-01T00:00:00",
                                        "2026-08-01T00:00:00",
                                        "2026-09-01T00:00:00",
                                        "2026-10-01T00:00:00",
                                        "2026-11-01T00:00:00",
                                        "2026-12-01T00:00:00",
                                        "2027-01-01T00:00:00",
                                        "2027-02-01T00:00:00",
                                        "2027-03-01T00:00:00",
                                        "2027-04-01T00:00:00",
                                        "2027-05-01T00:00:00"
                                    ],
                                    "xaxis": "x",
                                    "y": [
                                        100000,
                                        107542.67,
                                        107901.15,
                                        108260.82,
                                        108621.69,
                                        102633.54,
                                        88752.97,
                                        74771.72,
                                        60689.28,
                                        46505.13,
                                        32218.74,
                                        17829.6,
                                        3337.17,
                                        0,
                                        0,
                                        0,
                                        0,
                                        0,
                                        0,
                                        0,
                                        0,
                                        0,
                                        41460.11,
                                        41598.31,
                                        41736.97,
                                        39885.07,
                                        22572.01,
                                        5143.09,
                                        0,
                                        0,
                                        0,
                                        0,
                                        0,
                                        0,
                                        0,
                                        0,
                                        0,
                                        0
                                    ],
                                    "yaxis": "y"
                                },
                                {
                                    "alignmentgroup": "True",
                                    "hovertemplate": "variable=cash<br>date=%{x}<br>value=%{y}<extra></extra>",
                                    "legendgroup": "cash",
                                    "marker": {
                                        "color": "#ab63fa",
                                        "pattern": {
                                            "shape": ""
                                        }
                                    },
                                    "name": "cash",
                                    "offsetgroup": "cash",
                                    "orientation": "v",
                                    "showlegend": true,
                                    "textposition": "auto",
                                    "type": "bar",
                                    "x": [
                                        "2024-04-01T00:00:00",
                                        "2024-05-01T00:00:00",
                                        "2024-06-01T00:00:00",
                                        "2024-07-01T00:00:00",
                                        "2024-08-01T00:00:00",
                                        "2024-09-01T00:00:00",
                                        "2024-10-01T00:00:00",
                                        "2024-11-01T00:00:00",
                                        "2024-12-01T00:00:00",
                                        "2025-01-01T00:00:00",
                                        "2025-02-01T00:00:00",
                                        "2025-03-01T00:00:00",
                                        "2025-04-01T00:00:00",
                                        "2025-05-01T00:00:00",
                                        "2025-06-01T00:00:00",
                                        "2025-07-01T00:00:00",
                                        "2025-08-01T00:00:00",
                                        "2025-09-01T00:00:00",
                                        "2025-10-01T00:00:00",
                                        "2025-11-01T00:00:00",
                                        "2025-12-01T00:00:00",
                                        "2026-01-01T00:00:00",
                                        "2026-02-01T00:00:00",
                                        "2026-03-01T00:00:00",
                                        "2026-04-01T00:00:00",
                                        "2026-05-01T00:00:00",
                                        "2026-06-01T00:00:00",
                                        "2026-07-01T00:00:00",
                                        "2026-08-01T00:00:00",
                                        "2026-09-01T00:00:00",
                                        "2026-10-01T00:00:00",
                                        "2026-11-01T00:00:00",
                                        "2026-12-01T00:00:00",
                                        "2027-01-01T00:00:00",
                                        "2027-02-01T00:00:00",
                                        "2027-03-01T00:00:00",
                                        "2027-04-01T00:00:00",
                                        "2027-05-01T00:00:00"
                                    ],
                                    "xaxis": "x",
                                    "y": [
                                        100000,
                                        50000,
                                        35993.16,
                                        21932.63,
                                        7818.23,
                                        0,
                                        0,
                                        0,
                                        0,
                                        0,
                                        0,
                                        0,
                                        0,
                                        0,
                                        0,
                                        0,
                                        0,
                                        0,
                                        0,
                                        0,
                                        0,
                                        0,
                                        50000,
                                        32727.3,
                                        15397.02,
                                        0,
                                        0,
                                        0,
                                        0,
                                        0,
                                        0,
                                        0,
                                        0,
                                        0,
                                        0,
                                        0,
                                        0,
                                        0
                                    ],
                                    "yaxis": "y"
                                },
                                {
                                    "mode": "lines",
                                    "name": "Monthly expenses",
                                    "type": "scatter",
                                    "x": [
                                        "2024-04-01T00:00:00",
                                        "2024-05-01T00:00:00",
                                        "2024-06-01T00:00:00",
                                        "2024-07-01T00:00:00",
                                        "2024-08-01T00:00:00",
                                        "2024-09-01T00:00:00",
                                        "2024-10-01T00:00:00",
                                        "2024-11-01T00:00:00",
                                        "2024-12-01T00:00:00",
                                        "2025-01-01T00:00:00",
                                        "2025-02-01T00:00:00",
                                        "2025-03-01T00:00:00",
                                        "2025-04-01T00:00:00",
                                        "2025-05-01T00:00:00",
                                        "2025-06-01T00:00:00",
                                        "2025-07-01T00:00:00",
                                        "2025-08-01T00:00:00",
                                        "2025-09-01T00:00:00",
                                        "2025-10-01T00:00:00",
                                        "2025-11-01T00:00:00",
                                        "2025-12-01T00:00:00",
                                        "2026-01-01T00:00:00",
                                        "2026-02-01T00:00:00",
                                        "2026-03-01T00:00:00",
                                        "2026-04-01T00:00:00",
                                        "2026-05-01T00:00:00",
                                        "2026-06-01T00:00:00",
                                        "2026-07-01T00:00:00",
                                        "2026-08-01T00:00:00",
                                        "2026-09-01T00:00:00",
                                        "2026-10-01T00:00:00",
                                        "2026-11-01T00:00:00",
                                        "2026-12-01T00:00:00",
                                        "2027-01-01T00:00:00",
                                        "2027-02-01T00:00:00",
                                        "2027-03-01T00:00:00",
                                        "2027-04-01T00:00:00",
                                        "2027-05-01T00:00:00"
                                    ],
                                    "y": [
                                        16000,
                                        16053.33,
                                        16106.84,
                                        16160.53,
                                        16214.4,
                                        16268.45,
                                        16322.68,
                                        16377.09,
                                        16431.68,
                                        16486.45,
                                        16541.4,
                                        16596.54,
                                        16651.86,
                                        16707.37,
                                        16763.06,
                                        16818.94,
                                        16875,
                                        16931.25,
                                        16987.69,
                                        17044.32,
                                        17101.13,
                                        17158.13,
                                        17215.32,
                                        17272.7,
                                        17330.28,
                                        17388.05,
                                        17446.01,
                                        17504.16,
                                        17562.51,
                                        17621.05,
                                        17679.79,
                                        17738.72,
                                        17797.85,
                                        17857.18,
                                        17916.7,
                                        17976.42,
                                        18036.34,
                                        18096.46
                                    ]
                                },
                                {
                                    "mode": "lines",
                                    "name": "Wealth with net properties",
                                    "type": "scatter",
                                    "x": [
                                        "2024-04-01T00:00:00",
                                        "2024-05-01T00:00:00",
                                        "2024-06-01T00:00:00",
                                        "2024-07-01T00:00:00",
                                        "2024-08-01T00:00:00",
                                        "2024-09-01T00:00:00",
                                        "2024-10-01T00:00:00",
                                        "2024-11-01T00:00:00",
                                        "2024-12-01T00:00:00",
                                        "2025-01-01T00:00:00",
                                        "2025-02-01T00:00:00",
                                        "2025-03-01T00:00:00",
                                        "2025-04-01T00:00:00",
                                        "2025-05-01T00:00:00",
                                        "2025-06-01T00:00:00",
                                        "2025-07-01T00:00:00",
                                        "2025-08-01T00:00:00",
                                        "2025-09-01T00:00:00",
                                        "2025-10-01T00:00:00",
                                        "2025-11-01T00:00:00",
                                        "2025-12-01T00:00:00",
                                        "2026-01-01T00:00:00",
                                        "2026-02-01T00:00:00",
                                        "2026-03-01T00:00:00",
                                        "2026-04-01T00:00:00",
                                        "2026-05-01T00:00:00",
                                        "2026-06-01T00:00:00",
                                        "2026-07-01T00:00:00",
                                        "2026-08-01T00:00:00",
                                        "2026-09-01T00:00:00",
                                        "2026-10-01T00:00:00",
                                        "2026-11-01T00:00:00",
                                        "2026-12-01T00:00:00",
                                        "2027-01-01T00:00:00",
                                        "2027-02-01T00:00:00",
                                        "2027-03-01T00:00:00",
                                        "2027-04-01T00:00:00",
                                        "2027-05-01T00:00:00"
                                    ],
                                    "y": [
                                        528000,
                                        516375.89,
                                        504851.3,
                                        493282.47,
                                        481669.29,
                                        470011.61,
                                        458288.12,
                                        446472.39,
                                        434563.94,
                                        422562.3,
                                        410466.97,
                                        398277.5,
                                        385993.39,
                                        373614.16,
                                        361129.92,
                                        348537.3,
                                        335835.65,
                                        323024.34,
                                        310102.74,
                                        297070.21,
                                        283926.1,
                                        270669.76,
                                        257300.54,
                                        240857.04,
                                        224359.3,
                                        207807.15,
                                        191193.77,
                                        174467.44,
                                        157627.59,
                                        140663.32,
                                        123569.63,
                                        106345.78,
                                        88991.04,
                                        71504.66,
                                        53885.89,
                                        36133.99,
                                        18248.21,
                                        227.78
                                    ]
                                }
                            ],
                            "layout": {
                                "barmode": "relative",
                                "legend": {
                                    "title": {
                                        "text": "variable"
                                    },
                                    "tracegroupgap": 0
                                },
                                "template": {
                                    "data": {
                                        "bar": [
                                            {
                                                "error_x": {
                                                    "color": "#2a3f5f"
                                                },
                                                "error_y": {
                                                    "color": "#2a3f5f"
                                                },
                                                "marker": {
                                                    "line": {
                                                        "color": "#E5ECF6",
                                                        "width": 0.5
                                                    },
                                                    "pattern": {
                                                        "fillmode": "overlay",
                                                        "size": 10,
                                                        "solidity": 0.2
                                                    }
                                                },
                                                "type": "bar"
                                            }
                                        ],
                                        "barpolar": [
                                            {
                                                "marker": {
                                                    "line": {
                                                        "color": "#E5ECF6",
                                                        "width": 0.5
                                                    },
                                                    "pattern": {
                                                        "fillmode": "overlay",
                                                        "size": 10,
                                                        "solidity": 0.2
                                                    }
                                                },
                                                "type": "barpolar"
                                            }
                                        ],
                                        "carpet": [
                                            {
                                                "aaxis": {
                                                    "endlinecolor": "#2a3f5f",
                                                    "gridcolor": "white",
                                                    "linecolor": "white",
                                                    "minorgridcolor": "white",
                                                    "startlinecolor": "#2a3f5f"
                                                },
                                                "baxis": {
                                                    "endlinecolor": "#2a3f5f",
                                                    "gridcolor": "white",
                                                    "linecolor": "white",
                                                    "minorgridcolor": "white",
                                                    "startlinecolor": "#2a3f5f"
                                                },
                                                "type": "carpet"
                                            }
                                        ],
                                        "choropleth": [
                                            {
                                                "colorbar": {
                                                    "outlinewidth": 0,
                                                    "ticks": ""
                                                },
                                                "type": "choropleth"
                                            }
                                        ],
                                        "contour": [
                                            {
                                                "colorbar": {
                                                    "outlinewidth": 0,
                                                    "ticks": ""
                                                },
                                                "colorscale": [
                                                    [
                                                        0,
                                                        "#0d0887"
                                                    ],
                                                    [
                                                        0.1111111111111111,
                                                        "#46039f"
                                                    ],
                                                    [
                                                        0.2222222222222222,
                                                        "#7201a8"
                                                    ],
                                                    [
                                                        0.3333333333333333,
                                                        "#9c179e"
                                                    ],
                                                    [
                                                        0.4444444444444444,
                                                        "#bd3786"
                                                    ],
                                                    [
                                                        0.5555555555555556,
                                                        "#d8576b"
                                                    ],
                                                    [
                                                        0.6666666666666666,
                                                        "#ed7953"
                                                    ],
                                                    [
                                                        0.7777777777777778,
                                                        "#fb9f3a"
                                                    ],
                                                    [
                                                        0.8888888888888888,
                                                        "#fdca26"
                                                    ],
                                                    [
                                                        1,
                                                        "#f0f921"
                                                    ]
                                                ],
                                                "type": "contour"
                                            }
                                        ],
                                        "contourcarpet": [
                                            {
                                                "colorbar": {
                                                    "outlinewidth": 0,
                                                    "ticks": ""
                                                },
                                                "type": "contourcarpet"
                                            }
                                        ],
                                        "heatmap": [
                                            {
                                                "colorbar": {
                                                    "outlinewidth": 0,
                                                    "ticks": ""
                                                },
                                                "colorscale": [
                                                    [
                                                        0,
                                                        "#0d0887"
                                                    ],
                                                    [
                                                        0.1111111111111111,
                                                        "#46039f"
                                                    ],
                                                    [
                                                        0.2222222222222222,
                                                        "#7201a8"
                                                    ],
                                                    [
                                                        0.3333333333333333,
                                                        "#9c179e"
                                                    ],
                                                    [
                                                        0.4444444444444444,
                                                        "#bd3786"
                                                    ],
                                                    [
                                                        0.5555555555555556,
                                                        "#d8576b"
                                                    ],
                                                    [
                                                        0.6666666666666666,
                                                        "#ed7953"
                                                    ],
                                                    [
                                                        0.7777777777777778,
                                                        "#fb9f3a"
                                                    ],
                                                    [
                                                        0.8888888888888888,
                                                        "#fdca26"
                                                    ],
                                                    [
                                                        1,
                                                        "#f0f921"
                                                    ]
                                                ],
                                                "type": "heatmap"
                                            }
                                        ],
                                        "heatmapgl": [
                                            {
                                                "colorbar": {
                                                    "outlinewidth": 0,
                                                    "ticks": ""
                                                },
                                                "colorscale": [
                                                    [
                                                        0,
                                                        "#0d0887"
                                                    ],
                                                    [
                                                        0.1111111111111111,
                                                        "#46039f"
                                                    ],
                                                    [
                                                        0.2222222222222222,
                                                        "#7201a8"
                                                    ],
                                                    [
                                                        0.3333333333333333,
                                                        "#9c179e"
                                                    ],
                                                    [
                                                        0.4444444444444444,
                                                        "#bd3786"
                                                    ],
                                                    [
                                                        0.5555555555555556,
                                                        "#d8576b"
                                                    ],
                                                    [
                                                        0.6666666666666666,
                                                        "#ed7953"
                                                    ],
                                                    [
                                                        0.7777777777777778,
                                                        "#fb9f3a"
                                                    ],
                                                    [
                                                        0.8888888888888888,
                                                        "#fdca26"
                                                    ],
                                                    [
                                                        1,
                                                        "#f0f921"
                                                    ]
                                                ],
                                                "type": "heatmapgl"
                                            }
                                        ],
                                        "histogram": [
                                            {
                                                "marker": {
                                                    "pattern": {
                                                        "fillmode": "overlay",
                                                        "size": 10,
                                                        "solidity": 0.2
                                                    }
                                                },
                                                "type": "histogram"
                                            }
                                        ],
                                        "histogram2d": [
                                            {
                                                "colorbar": {
                                                    "outlinewidth": 0,
                                                    "ticks": ""
                                                },
                                                "colorscale": [
                                                    [
                                                        0,
                                                        "#0d0887"
                                                    ],
                                                    [
                                                        0.1111111111111111,
                                                        "#46039f"
                                                    ],
                                                    [
                                                        0.2222222222222222,
                                                        "#7201a8"
                                                    ],
                                                    [
                                                        0.3333333333333333,
                                                        "#9c179e"
                                                    ],
                                                    [
                                                        0.4444444444444444,
                                                        "#bd3786"
                                                    ],
                                                    [
                                                        0.5555555555555556,
                                                        "#d8576b"
                                                    ],
                                                    [
                                                        0.6666666666666666,
                                                        "#ed7953"
                                                    ],
                                                    [
                                                        0.7777777777777778,
                                                        "#fb9f3a"
                                                    ],
                                                    [
                                                        0.8888888888888888,
                                                        "#fdca26"
                                                    ],
                                                    [
                                                        1,
                                                        "#f0f921"
                                                    ]
                                                ],
                                                "type": "histogram2d"
                                            }
                                        ],
                                        "histogram2dcontour": [
                                            {
                                                "colorbar": {
                                                    "outlinewidth": 0,
                                                    "ticks": ""
                                                },
                                                "colorscale": [
                                                    [
                                                        0,
                                                        "#0d0887"
                                                    ],
                                                    [
                                                        0.1111111111111111,
                                                        "#46039f"
                                                    ],
                                                    [
                                                        0.2222222222222222,
                                                        "#7201a8"
                                                    ],
                                                    [
                                                        0.3333333333333333,
                                                        "#9c179e"
                                                    ],
                                                    [
                                                        0.4444444444444444,
                                                        "#bd3786"
                                                    ],
                                                    [
                                                        0.5555555555555556,
                                                        "#d8576b"
                                                    ],
                                                    [
                                                        0.6666666666666666,
                                                        "#ed7953"
                                                    ],
                                                    [
                                                        0.7777777777777778,
                                                        "#fb9f3a"
                                                    ],
                                                    [
                                                        0.8888888888888888,
                                                        "#fdca26"
                                                    ],
                                                    [
                                                        1,
                                                        "#f0f921"
                                                    ]
                                                ],
                                                "type": "histogram2dcontour"
                                            }
                                        ],
                                        "mesh3d": [
                                            {
                                                "colorbar": {
                                                    "outlinewidth": 0,
                                                    "ticks": ""
                                                },
                                                "type": "mesh3d"
                                            }
                                        ],
                                        "parcoords": [
                                            {
                                                "line": {
                                                    "colorbar": {
                                                        "outlinewidth": 0,
                                                        "ticks": ""
                                                    }
                                                },
                                                "type": "parcoords"
                                            }
                                        ],
                                        "pie": [
                                            {
                                                "automargin": true,
                                                "type": "pie"
                                            }
                                        ],
                                        "scatter": [
                                            {
                                                "fillpattern": {
                                                    "fillmode": "overlay",
                                                    "size": 10,
                                                    "solidity": 0.2
                                                },
                                                "type": "scatter"
                                            }
                                        ],
                                        "scatter3d": [
                                            {
                                                "line": {
                                                    "colorbar": {
                                                        "outlinewidth": 0,
                                                        "ticks": ""
                                                    }
                                                },
                                                "marker": {
                                                    "colorbar": {
                                                        "outlinewidth": 0,
                                                        "ticks": ""
                                                    }
                                                },
                                                "type": "scatter3d"
                                            }
                                        ],
                                        "scattercarpet": [
                                            {
                                                "marker": {
                                                    "colorbar": {
                                                        "outlinewidth": 0,
                                                        "ticks": ""
                                                    }
                                                },
                                                "type": "scattercarpet"
                                            }
                                        ],
                                        "scattergeo": [
                                            {
                                                "marker": {
                                                    "colorbar": {
                                                        "outlinewidth": 0,
                                                        "ticks": ""
                                                    }
                                                },
                                                "type": "scattergeo"
                                            }
                                        ],
                                        "scattergl": [
                                            {
                                                "marker": {
                                                    "colorbar": {
                                                        "outlinewidth": 0,
                                                        "ticks": ""
                                                    }
                                                },
                                                "type": "scattergl"
                                            }
                                        ],
                                        "scattermapbox": [
                                            {
                                                "marker": {
                                                    "colorbar": {
                                                        "outlinewidth": 0,
                                                        "ticks": ""
                                                    }
                                                },
                                                "type": "scattermapbox"
                                            }
                                        ],
                                        "scatterpolar": [
                                            {
                                                "marker": {
                                                    "colorbar": {
                                                        "outlinewidth": 0,
                                                        "ticks": ""
                                                    }
                                                },
                                                "type": "scatterpolar"
                                            }
                                        ],
                                        "scatterpolargl": [
                                            {
                                                "marker": {
                                                    "colorbar": {
                                                        "outlinewidth": 0,
                                                        "ticks": ""
                                                    }
                                                },
                                                "type": "scatterpolargl"
                                            }
                                        ],
                                        "scatterternary": [
                                            {
                                                "marker": {
                                                    "colorbar": {
                                                        "outlinewidth": 0,
                                                        "ticks": ""
                                                    }
                                                },
                                                "type": "scatterternary"
                                            }
                                        ],
                                        "surface": [
                                            {
                                                "colorbar": {
                                                    "outlinewidth": 0,
                                                    "ticks": ""
                                                },
                                                "colorscale": [
                                                    [
                                                        0,
                                                        "#0d0887"
                                                    ],
                                                    [
                                                        0.1111111111111111,
                                                        "#46039f"
                                                    ],
                                                    [
                                                        0.2222222222222222,
                                                        "#7201a8"
                                                    ],
                                                    [
                                                        0.3333333333333333,
                                                        "#9c179e"
                                                    ],
                                                    [
                                                        0.4444444444444444,
                                                        "#bd3786"
                                                    ],
                                                    [
                                                        0.5555555555555556,
                                                        "#d8576b"
                                                    ],
                                                    [
                                                        0.6666666666666666,
                                                        "#ed7953"
                                                    ],
                                                    [
                                                        0.7777777777777778,
                                                        "#fb9f3a"
                                                    ],
                                                    [
                                                        0.8888888888888888,
                                                        "#fdca26"
                                                    ],
                                                    [
                                                        1,
                                                        "#f0f921"
                                                    ]
                                                ],
                                                "type": "surface"
                                            }
                                        ],
                                        "table": [
                                            {
                                                "cells": {
                                                    "fill": {
                                                        "color": "#EBF0F8"
                                                    },
                                                    "line": {
                                                        "color": "white"
                                                    }
                                                },
                                                "header": {
                                                    "fill": {
                                                        "color": "#C8D4E3"
                                                    },
                                                    "line": {
                                                        "color": "white"
                                                    }
                                                },
                                                "type": "table"
                                            }
                                        ]
                                    },
                                    "layout": {
                                        "annotationdefaults": {
                                            "arrowcolor": "#2a3f5f",
                                            "arrowhead": 0,
                                            "arrowwidth": 1
                                        },
                                        "autotypenumbers": "strict",
                                        "coloraxis": {
                                            "colorbar": {
                                                "outlinewidth": 0,
                                                "ticks": ""
                                            }
                                        },
                                        "colorscale": {
                                            "diverging": [
                                                [
                                                    0,
                                                    "#8e0152"
                                                ],
                                                [
                                                    0.1,
                                                    "#c51b7d"
                                                ],
                                                [
                                                    0.2,
                                                    "#de77ae"
                                                ],
                                                [
                                                    0.3,
                                                    "#f1b6da"
                                                ],
                                                [
                                                    0.4,
                                                    "#fde0ef"
                                                ],
                                                [
                                                    0.5,
                                                    "#f7f7f7"
                                                ],
                                                [
                                                    0.6,
                                                    "#e6f5d0"
                                                ],
                                                [
                                                    0.7,
                                                    "#b8e186"
                                                ],
                                                [
                                                    0.8,
                                                    "#7fbc41"
                                                ],
                                                [
                                                    0.9,
                                                    "#4d9221"
                                                ],
                                                [
                                                    1,
                                                    "#276419"
                                                ]
                                            ],
                                            "sequential": [
                                                [
                                                    0,
                                                    "#0d0887"
                                                ],
                                                [
                                                    0.1111111111111111,
                                                    "#46039f"
                                                ],
                                                [
                                                    0.2222222222222222,
                                                    "#7201a8"
                                                ],
                                                [
                                                    0.3333333333333333,
                                                    "#9c179e"
                                                ],
                                                [
                                                    0.4444444444444444,
                                                    "#bd3786"
                                                ],
                                                [
                                                    0.5555555555555556,
                                                    "#d8576b"
                                                ],
                                                [
                                                    0.6666666666666666,
                                                    "#ed7953"
                                                ],
                                                [
                                                    0.7777777777777778,
                                                    "#fb9f3a"
                                                ],
                                                [
                                                    0.8888888888888888,
                                                    "#fdca26"
                                                ],
                                                [
                                                    1,
                                                    "#f0f921"
                                                ]
                                            ],
                                            "sequentialminus": [
                                                [
                                                    0,
                                                    "#0d0887"
                                                ],
                                                [
                                                    0.1111111111111111,
                                                    "#46039f"
                                                ],
                                                [
                                                    0.2222222222222222,
                                                    "#7201a8"
                                                ],
                                                [
                                                    0.3333333333333333,
                                                    "#9c179e"
                                                ],
                                                [
                                                    0.4444444444444444,
                                                    "#bd3786"
                                                ],
                                                [
                                                    0.5555555555555556,
                                                    "#d8576b"
                                                ],
                                                [
                                                    0.6666666666666666,
                                                    "#ed7953"
                                                ],
                                                [
                                                    0.7777777777777778,
                                                    "#fb9f3a"
                                                ],
                                                [
                                                    0.8888888888888888,
                                                    "#fdca26"
                                                ],
                                                [
                                                    1,
                                                    "#f0f921"
                                                ]
                                            ]
                                        },
                                        "colorway": [
                                            "#636efa",
                                            "#EF553B",
                                            "#00cc96",
                                            "#ab63fa",
                                            "#FFA15A",
                                            "#19d3f3",
                                            "#FF6692",
                                            "#B6E880",
                                            "#FF97FF",
                                            "#FECB52"
                                        ],
                                        "font": {
                                            "color": "#2a3f5f"
                                        },
                                        "geo": {
                                            "bgcolor": "white",
                                            "lakecolor": "white",
                                            "landcolor": "#E5ECF6",
                                            "showlakes": true,
                                            "showland": true,
                                            "subunitcolor": "white"
                                        },
                                        "hoverlabel": {
                                            "align": "left"
                                        },
                                        "hovermode": "closest",
                                        "mapbox": {
                                            "style": "light"
                                        },
                                        "paper_bgcolor": "white",
                                        "plot_bgcolor": "#E5ECF6",
                                        "polar": {
                                            "angularaxis": {
                                                "gridcolor": "white",
                                                "linecolor": "white",
                                                "ticks": ""
                                            },
                                            "bgcolor": "#E5ECF6",
                                            "radialaxis": {
                                                "gridcolor": "white",
                                                "linecolor": "white",
                                                "ticks": ""
                                            }
                                        },
                                        "scene": {
                                            "xaxis": {
                                                "backgroundcolor": "#E5ECF6",
                                                "gridcolor": "white",
                                                "gridwidth": 2,
                                                "linecolor": "white",
                                                "showbackground": true,
                                                "ticks": "",
                                                "zerolinecolor": "white"
                                            },
                                            "yaxis": {
                                                "backgroundcolor": "#E5ECF6",
                                                "gridcolor": "white",
                                                "gridwidth": 2,
                                                "linecolor": "white",
                                                "showbackground": true,
                                                "ticks": "",
                                                "zerolinecolor": "white"
                                            },
                                            "zaxis": {
                                                "backgroundcolor": "#E5ECF6",
                                                "gridcolor": "white",
                                                "gridwidth": 2,
                                                "linecolor": "white",
                                                "showbackground": true,
                                                "ticks": "",
                                                "zerolinecolor": "white"
                                            }
                                        },
                                        "shapedefaults": {
                                            "line": {
                                                "color": "#2a3f5f"
                                            }
                                        },
                                        "ternary": {
                                            "aaxis": {
                                                "gridcolor": "white",
                                                "linecolor": "white",
                                                "ticks": ""
                                            },
                                            "baxis": {
                                                "gridcolor": "white",
                                                "linecolor": "white",
                                                "ticks": ""
                                            },
                                            "bgcolor": "#E5ECF6",
                                            "caxis": {
                                                "gridcolor": "white",
                                                "linecolor": "white",
                                                "ticks": ""
                                            }
                                        },
                                        "title": {
                                            "x": 0.05
                                        },
                                        "xaxis": {
                                            "automargin": true,
                                            "gridcolor": "white",
                                            "linecolor": "white",
                                            "ticks": "",
                                            "title": {
                                                "standoff": 15
                                            },
                                            "zerolinecolor": "white",
                                            "zerolinewidth": 2
                                        },
                                        "yaxis": {
                                            "automargin": true,
                                            "gridcolor": "white",
                                            "linecolor": "white",
                                            "ticks": "",
                                            "title": {
                                                "standoff": 15
                                            },
                                            "zerolinecolor": "white",
                                            "zerolinewidth": 2
                                        }
                                    }
                                },
                                "title": {
                                    "text": "Wealth over time"
                                },
                                "xaxis": {
                                    "anchor": "y",
                                    "domain": [
                                        0,
                                        1
                                    ],
                                    "title": {
                                        "text": "date"
                                    }
                                },
                                "yaxis": {
                                    "anchor": "x",
                                    "domain": [
                                        0,
                                        1
                                    ],
                                    "title": {
                                        "text": "value"
                                    }
                                }
                            }
                        }
                    },
                    "metadata": {},
                    "output_type": "display_data"
                }
            ],
            "source": [
                "# I want to use plotly to create a nice stacked bar chart of bonds and stock investments\n",
                "# with a line chart showing monthly expenses\n",
                "\n",
                "fig = px.bar(df, x=df['date'], y=[\n",
                "        \"properties_net_cash_value\",\n",
                "        \"stock_investments\",\n",
                "        \"bonds_investments\",\n",
                "        \"cash\",\n",
                "    ], title='Wealth over time')\n",
                "fig.add_scatter(x=df['date'], y=df['monthly_expenses'], mode='lines', name='Monthly expenses')\n",
                "fig.add_scatter(x=df['date'], y=df['wealth_inc_properties'], mode='lines', name='Wealth with net properties')\n",
                "\n",
                "fig.show()\n"
            ]
        }
    ],
    "metadata": {
        "kernelspec": {
            "display_name": "fire-notebooks-V1dUDsYi-py3.11",
            "language": "python",
            "name": "python3"
        },
        "language_info": {
            "codemirror_mode": {
                "name": "ipython",
                "version": 3
            },
            "file_extension": ".py",
            "mimetype": "text/x-python",
            "name": "python",
            "nbconvert_exporter": "python",
            "pygments_lexer": "ipython3",
            "version": "3.11.8"
        }
    },
    "nbformat": 4,
    "nbformat_minor": 2
}
