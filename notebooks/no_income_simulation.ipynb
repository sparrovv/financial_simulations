{
    "cells": [
        {
            "cell_type": "markdown",
            "metadata": {},
            "source": [
                "# FIRE \n",
                "\n",
                "This notebook will try to answer the following questions:\n",
                "\n",
                "- Given my current savings and no income, how many months will my savings last\n",
                "\n",
                "\n",
                "## Assumptions\n",
                "\n",
                "- The annual return on the stock investment (assumption ETF) is an average and is applied monthly. \n",
                "The assumption is a long term.\n",
                "- The bond investment has a fixed return rate that's applied monthly. In reality that should be close to inflation rate.\n",
                "- The monthly income is constant and is added to cash every month. It's also a simplification as in reality the income is not constant\n",
                "- The monthly expenses are constant but the inflation rate is applied. In reality, the expenses won't be constant as they change depending on many factors.\n",
                "- The inflation rate is constant\n",
                "- When the cash is depleted, the investment is used to cover the expenses. The investment is used in the following order: cash, bond, stock, real estate. \n",
                "- Simulation ends when the wealth is depleted and no more assets are available to cover the expenses.\n"
            ]
        },
        {
            "cell_type": "code",
            "execution_count": 1,
            "metadata": {},
            "outputs": [],
            "source": [
                "import sys\n",
                "from pathlib import Path\n",
                "\n",
                "project_root = Path.cwd().parent \n",
                "src_path = project_root / 'src'\n",
                "\n",
                "sys.path.append(str(src_path))"
            ]
        },
        {
            "cell_type": "code",
            "execution_count": 2,
            "metadata": {},
            "outputs": [],
            "source": [
                "import datetime\n",
                "from fire.simulations import FireSimulation, run_simulation, InvestmentProperty\n",
                "from fire.inflation import random_inflation_gen\n",
                "import pandas as pd\n",
                "import plotly.express as px\n",
                "from decimal import Decimal\n"
            ]
        },
        {
            "cell_type": "code",
            "execution_count": 3,
            "metadata": {},
            "outputs": [],
            "source": [
                "from decimal import Decimal\n",
                "\n",
                "inf_gen = random_inflation_gen((1,5))\n",
                "\n",
                "init = FireSimulation(\n",
                "    stock_investments=Decimal(\"100000\"),\n",
                "    bonds_investments=Decimal(\"100000\"),\n",
                "    cash=Decimal(\"100000\"),\n",
                "    investment_properties=[\n",
                "        InvestmentProperty(\n",
                "            mortgage_left=Decimal(\"292000\"),\n",
                "            mortgage_rate=Decimal(\"7.66\"),\n",
                "            mortgage_months=202,\n",
                "            market_value=Decimal(\"520000\"),\n",
                "            monthly_income=Decimal(\"2100\"),\n",
                "        )\n",
                "    ],\n",
                "    stock_return_rate=Decimal(\"0.05\"),\n",
                "    bonds_return_rate=Decimal(\"0.04\"),\n",
                "    monthly_expenses=Decimal(\"16000\"),\n",
                "    annual_inflation_rate=Decimal(\"0.04\"),\n",
                "    monthly_income=Decimal(\"0\"),\n",
                "    annual_property_appreciation_rate=Decimal(\"0.02\"),\n",
                "    invest_cash_surplus=True,\n",
                "    invest_cash_threshold=Decimal(\"50000\"),\n",
                "    invest_cash_surplus_strategy='80-20',\n",
                "    date=datetime.datetime.fromisoformat('2024-04-01')\n",
                ")\n",
                "\n",
                "# simulate for next X years\n",
                "years = 15\n",
                "expected_number_of_months = years * 12\n",
                "simulation = run_simulation(init, years*12, inflation_rate_gen=inf_gen)"
            ]
        },
        {
            "cell_type": "code",
            "execution_count": 4,
            "metadata": {},
            "outputs": [
                {
                    "data": {
                        "text/html": [
                            "<div>\n",
                            "<style scoped>\n",
                            "    .dataframe tbody tr th:only-of-type {\n",
                            "        vertical-align: middle;\n",
                            "    }\n",
                            "\n",
                            "    .dataframe tbody tr th {\n",
                            "        vertical-align: top;\n",
                            "    }\n",
                            "\n",
                            "    .dataframe thead th {\n",
                            "        text-align: right;\n",
                            "    }\n",
                            "</style>\n",
                            "<table border=\"1\" class=\"dataframe\">\n",
                            "  <thead>\n",
                            "    <tr style=\"text-align: right;\">\n",
                            "      <th></th>\n",
                            "      <th>stock_investments</th>\n",
                            "      <th>bonds_investments</th>\n",
                            "      <th>cash</th>\n",
                            "      <th>monthly_expenses</th>\n",
                            "      <th>monthly_income</th>\n",
                            "      <th>date</th>\n",
                            "      <th>stock_return_rate</th>\n",
                            "      <th>investment_properties</th>\n",
                            "      <th>bonds_return_rate</th>\n",
                            "      <th>annual_inflation_rate</th>\n",
                            "      <th>...</th>\n",
                            "      <th>invest_cash_surplus</th>\n",
                            "      <th>invest_cash_threshold</th>\n",
                            "      <th>invest_cash_surplus_strategy</th>\n",
                            "      <th>liquid_wealth</th>\n",
                            "      <th>wealth_inc_properties</th>\n",
                            "      <th>properties_monthly_mortgage</th>\n",
                            "      <th>properties_market_value</th>\n",
                            "      <th>properties_monthly_income</th>\n",
                            "      <th>properties_net_cash_value</th>\n",
                            "      <th>properties_mortgage_left</th>\n",
                            "    </tr>\n",
                            "  </thead>\n",
                            "  <tbody>\n",
                            "    <tr>\n",
                            "      <th>0</th>\n",
                            "      <td>100000.00</td>\n",
                            "      <td>100000.00</td>\n",
                            "      <td>100000.00</td>\n",
                            "      <td>16000.00</td>\n",
                            "      <td>0.0</td>\n",
                            "      <td>2024-04-01</td>\n",
                            "      <td>0.05</td>\n",
                            "      <td>[{'market_value': 520000, 'monthly_income': 21...</td>\n",
                            "      <td>0.04</td>\n",
                            "      <td>0.04</td>\n",
                            "      <td>...</td>\n",
                            "      <td>True</td>\n",
                            "      <td>50000.0</td>\n",
                            "      <td>80-20</td>\n",
                            "      <td>300000.00</td>\n",
                            "      <td>528000.00</td>\n",
                            "      <td>2576.48</td>\n",
                            "      <td>520000.00</td>\n",
                            "      <td>2100.0</td>\n",
                            "      <td>228000.00</td>\n",
                            "      <td>292000.00</td>\n",
                            "    </tr>\n",
                            "    <tr>\n",
                            "      <th>1</th>\n",
                            "      <td>128784.67</td>\n",
                            "      <td>107425.33</td>\n",
                            "      <td>50000.00</td>\n",
                            "      <td>16640.00</td>\n",
                            "      <td>0.0</td>\n",
                            "      <td>2024-05-01</td>\n",
                            "      <td>0.05</td>\n",
                            "      <td>[{'market_value': 520866.67, 'monthly_income':...</td>\n",
                            "      <td>0.04</td>\n",
                            "      <td>0.48</td>\n",
                            "      <td>...</td>\n",
                            "      <td>True</td>\n",
                            "      <td>50000.0</td>\n",
                            "      <td>80-20</td>\n",
                            "      <td>286210.00</td>\n",
                            "      <td>515789.22</td>\n",
                            "      <td>2576.48</td>\n",
                            "      <td>520866.67</td>\n",
                            "      <td>2100.0</td>\n",
                            "      <td>229579.22</td>\n",
                            "      <td>291287.45</td>\n",
                            "    </tr>\n",
                            "    <tr>\n",
                            "      <th>2</th>\n",
                            "      <td>129321.27</td>\n",
                            "      <td>107783.41</td>\n",
                            "      <td>34960.80</td>\n",
                            "      <td>17139.20</td>\n",
                            "      <td>0.0</td>\n",
                            "      <td>2024-06-01</td>\n",
                            "      <td>0.05</td>\n",
                            "      <td>[{'market_value': 521734.78, 'monthly_income':...</td>\n",
                            "      <td>0.04</td>\n",
                            "      <td>0.36</td>\n",
                            "      <td>...</td>\n",
                            "      <td>True</td>\n",
                            "      <td>50000.0</td>\n",
                            "      <td>80-20</td>\n",
                            "      <td>272065.48</td>\n",
                            "      <td>503229.91</td>\n",
                            "      <td>2576.48</td>\n",
                            "      <td>521734.78</td>\n",
                            "      <td>2100.0</td>\n",
                            "      <td>231164.43</td>\n",
                            "      <td>290570.35</td>\n",
                            "    </tr>\n",
                            "    <tr>\n",
                            "      <th>3</th>\n",
                            "      <td>129860.11</td>\n",
                            "      <td>108142.69</td>\n",
                            "      <td>19236.03</td>\n",
                            "      <td>17824.77</td>\n",
                            "      <td>0.0</td>\n",
                            "      <td>2024-07-01</td>\n",
                            "      <td>0.05</td>\n",
                            "      <td>[{'market_value': 522604.34, 'monthly_income':...</td>\n",
                            "      <td>0.04</td>\n",
                            "      <td>0.48</td>\n",
                            "      <td>...</td>\n",
                            "      <td>True</td>\n",
                            "      <td>50000.0</td>\n",
                            "      <td>80-20</td>\n",
                            "      <td>257238.83</td>\n",
                            "      <td>489994.49</td>\n",
                            "      <td>2576.48</td>\n",
                            "      <td>522604.34</td>\n",
                            "      <td>2100.0</td>\n",
                            "      <td>232755.66</td>\n",
                            "      <td>289848.68</td>\n",
                            "    </tr>\n",
                            "    <tr>\n",
                            "      <th>4</th>\n",
                            "      <td>130401.19</td>\n",
                            "      <td>108503.17</td>\n",
                            "      <td>2976.52</td>\n",
                            "      <td>18359.51</td>\n",
                            "      <td>0.0</td>\n",
                            "      <td>2024-08-01</td>\n",
                            "      <td>0.05</td>\n",
                            "      <td>[{'market_value': 523475.35, 'monthly_income':...</td>\n",
                            "      <td>0.04</td>\n",
                            "      <td>0.36</td>\n",
                            "      <td>...</td>\n",
                            "      <td>True</td>\n",
                            "      <td>50000.0</td>\n",
                            "      <td>80-20</td>\n",
                            "      <td>241880.88</td>\n",
                            "      <td>476233.83</td>\n",
                            "      <td>2576.48</td>\n",
                            "      <td>523475.35</td>\n",
                            "      <td>2100.0</td>\n",
                            "      <td>234352.95</td>\n",
                            "      <td>289122.40</td>\n",
                            "    </tr>\n",
                            "    <tr>\n",
                            "      <th>5</th>\n",
                            "      <td>130944.53</td>\n",
                            "      <td>95031.07</td>\n",
                            "      <td>0.00</td>\n",
                            "      <td>18910.30</td>\n",
                            "      <td>0.0</td>\n",
                            "      <td>2024-09-01</td>\n",
                            "      <td>0.05</td>\n",
                            "      <td>[{'market_value': 524347.81, 'monthly_income':...</td>\n",
                            "      <td>0.04</td>\n",
                            "      <td>0.36</td>\n",
                            "      <td>...</td>\n",
                            "      <td>True</td>\n",
                            "      <td>50000.0</td>\n",
                            "      <td>80-20</td>\n",
                            "      <td>225975.60</td>\n",
                            "      <td>461931.93</td>\n",
                            "      <td>2576.48</td>\n",
                            "      <td>524347.81</td>\n",
                            "      <td>2100.0</td>\n",
                            "      <td>235956.33</td>\n",
                            "      <td>288391.48</td>\n",
                            "    </tr>\n",
                            "    <tr>\n",
                            "      <th>6</th>\n",
                            "      <td>131490.13</td>\n",
                            "      <td>77781.13</td>\n",
                            "      <td>0.00</td>\n",
                            "      <td>19666.71</td>\n",
                            "      <td>0.0</td>\n",
                            "      <td>2024-10-01</td>\n",
                            "      <td>0.05</td>\n",
                            "      <td>[{'market_value': 525221.72, 'monthly_income':...</td>\n",
                            "      <td>0.04</td>\n",
                            "      <td>0.48</td>\n",
                            "      <td>...</td>\n",
                            "      <td>True</td>\n",
                            "      <td>50000.0</td>\n",
                            "      <td>80-20</td>\n",
                            "      <td>209271.26</td>\n",
                            "      <td>446837.08</td>\n",
                            "      <td>2576.48</td>\n",
                            "      <td>525221.72</td>\n",
                            "      <td>2100.0</td>\n",
                            "      <td>237565.82</td>\n",
                            "      <td>287655.90</td>\n",
                            "    </tr>\n",
                            "    <tr>\n",
                            "      <th>7</th>\n",
                            "      <td>132038.01</td>\n",
                            "      <td>60080.36</td>\n",
                            "      <td>0.00</td>\n",
                            "      <td>20060.04</td>\n",
                            "      <td>0.0</td>\n",
                            "      <td>2024-11-01</td>\n",
                            "      <td>0.05</td>\n",
                            "      <td>[{'market_value': 526097.09, 'monthly_income':...</td>\n",
                            "      <td>0.04</td>\n",
                            "      <td>0.24</td>\n",
                            "      <td>...</td>\n",
                            "      <td>True</td>\n",
                            "      <td>50000.0</td>\n",
                            "      <td>80-20</td>\n",
                            "      <td>192118.37</td>\n",
                            "      <td>431299.84</td>\n",
                            "      <td>2576.48</td>\n",
                            "      <td>526097.09</td>\n",
                            "      <td>2100.0</td>\n",
                            "      <td>239181.47</td>\n",
                            "      <td>286915.62</td>\n",
                            "    </tr>\n",
                            "    <tr>\n",
                            "      <th>8</th>\n",
                            "      <td>132588.17</td>\n",
                            "      <td>41518.19</td>\n",
                            "      <td>0.00</td>\n",
                            "      <td>20862.44</td>\n",
                            "      <td>0.0</td>\n",
                            "      <td>2024-12-01</td>\n",
                            "      <td>0.05</td>\n",
                            "      <td>[{'market_value': 526973.92, 'monthly_income':...</td>\n",
                            "      <td>0.04</td>\n",
                            "      <td>0.48</td>\n",
                            "      <td>...</td>\n",
                            "      <td>True</td>\n",
                            "      <td>50000.0</td>\n",
                            "      <td>80-20</td>\n",
                            "      <td>174106.36</td>\n",
                            "      <td>414909.66</td>\n",
                            "      <td>2576.48</td>\n",
                            "      <td>526973.92</td>\n",
                            "      <td>2100.0</td>\n",
                            "      <td>240803.30</td>\n",
                            "      <td>286170.62</td>\n",
                            "    </tr>\n",
                            "    <tr>\n",
                            "      <th>9</th>\n",
                            "      <td>133140.62</td>\n",
                            "      <td>22059.65</td>\n",
                            "      <td>0.00</td>\n",
                            "      <td>21696.94</td>\n",
                            "      <td>0.0</td>\n",
                            "      <td>2025-01-01</td>\n",
                            "      <td>0.05</td>\n",
                            "      <td>[{'market_value': 527852.21, 'monthly_income':...</td>\n",
                            "      <td>0.04</td>\n",
                            "      <td>0.48</td>\n",
                            "      <td>...</td>\n",
                            "      <td>True</td>\n",
                            "      <td>50000.0</td>\n",
                            "      <td>80-20</td>\n",
                            "      <td>155200.27</td>\n",
                            "      <td>397631.62</td>\n",
                            "      <td>2576.48</td>\n",
                            "      <td>527852.21</td>\n",
                            "      <td>2100.0</td>\n",
                            "      <td>242431.35</td>\n",
                            "      <td>285420.86</td>\n",
                            "    </tr>\n",
                            "    <tr>\n",
                            "      <th>10</th>\n",
                            "      <td>133695.37</td>\n",
                            "      <td>2319.27</td>\n",
                            "      <td>0.00</td>\n",
                            "      <td>21913.91</td>\n",
                            "      <td>0.0</td>\n",
                            "      <td>2025-02-01</td>\n",
                            "      <td>0.05</td>\n",
                            "      <td>[{'market_value': 528731.96, 'monthly_income':...</td>\n",
                            "      <td>0.04</td>\n",
                            "      <td>0.12</td>\n",
                            "      <td>...</td>\n",
                            "      <td>True</td>\n",
                            "      <td>50000.0</td>\n",
                            "      <td>80-20</td>\n",
                            "      <td>136014.64</td>\n",
                            "      <td>380080.28</td>\n",
                            "      <td>2576.48</td>\n",
                            "      <td>528731.96</td>\n",
                            "      <td>2100.0</td>\n",
                            "      <td>244065.64</td>\n",
                            "      <td>284666.32</td>\n",
                            "    </tr>\n",
                            "    <tr>\n",
                            "      <th>11</th>\n",
                            "      <td>116546.39</td>\n",
                            "      <td>0.00</td>\n",
                            "      <td>0.00</td>\n",
                            "      <td>22133.05</td>\n",
                            "      <td>0.0</td>\n",
                            "      <td>2025-03-01</td>\n",
                            "      <td>0.05</td>\n",
                            "      <td>[{'market_value': 529613.18, 'monthly_income':...</td>\n",
                            "      <td>0.04</td>\n",
                            "      <td>0.12</td>\n",
                            "      <td>...</td>\n",
                            "      <td>True</td>\n",
                            "      <td>50000.0</td>\n",
                            "      <td>80-20</td>\n",
                            "      <td>116546.39</td>\n",
                            "      <td>362252.61</td>\n",
                            "      <td>2576.48</td>\n",
                            "      <td>529613.18</td>\n",
                            "      <td>2100.0</td>\n",
                            "      <td>245706.22</td>\n",
                            "      <td>283906.96</td>\n",
                            "    </tr>\n",
                            "    <tr>\n",
                            "      <th>12</th>\n",
                            "      <td>96777.62</td>\n",
                            "      <td>0.00</td>\n",
                            "      <td>0.00</td>\n",
                            "      <td>22354.38</td>\n",
                            "      <td>0.0</td>\n",
                            "      <td>2025-04-01</td>\n",
                            "      <td>0.05</td>\n",
                            "      <td>[{'market_value': 530495.87, 'monthly_income':...</td>\n",
                            "      <td>0.04</td>\n",
                            "      <td>0.12</td>\n",
                            "      <td>...</td>\n",
                            "      <td>True</td>\n",
                            "      <td>50000.0</td>\n",
                            "      <td>80-20</td>\n",
                            "      <td>96777.62</td>\n",
                            "      <td>344130.74</td>\n",
                            "      <td>2576.48</td>\n",
                            "      <td>530495.87</td>\n",
                            "      <td>2100.0</td>\n",
                            "      <td>247353.12</td>\n",
                            "      <td>283142.75</td>\n",
                            "    </tr>\n",
                            "    <tr>\n",
                            "      <th>13</th>\n",
                            "      <td>76702.94</td>\n",
                            "      <td>0.00</td>\n",
                            "      <td>0.00</td>\n",
                            "      <td>22577.92</td>\n",
                            "      <td>0.0</td>\n",
                            "      <td>2025-05-01</td>\n",
                            "      <td>0.05</td>\n",
                            "      <td>[{'market_value': 531380.03, 'monthly_income':...</td>\n",
                            "      <td>0.04</td>\n",
                            "      <td>0.12</td>\n",
                            "      <td>...</td>\n",
                            "      <td>True</td>\n",
                            "      <td>50000.0</td>\n",
                            "      <td>80-20</td>\n",
                            "      <td>76702.94</td>\n",
                            "      <td>325709.31</td>\n",
                            "      <td>2576.48</td>\n",
                            "      <td>531380.03</td>\n",
                            "      <td>2100.0</td>\n",
                            "      <td>249006.37</td>\n",
                            "      <td>282373.66</td>\n",
                            "    </tr>\n",
                            "    <tr>\n",
                            "      <th>14</th>\n",
                            "      <td>56318.84</td>\n",
                            "      <td>0.00</td>\n",
                            "      <td>0.00</td>\n",
                            "      <td>22803.70</td>\n",
                            "      <td>0.0</td>\n",
                            "      <td>2025-06-01</td>\n",
                            "      <td>0.05</td>\n",
                            "      <td>[{'market_value': 532265.66, 'monthly_income':...</td>\n",
                            "      <td>0.04</td>\n",
                            "      <td>0.12</td>\n",
                            "      <td>...</td>\n",
                            "      <td>True</td>\n",
                            "      <td>50000.0</td>\n",
                            "      <td>80-20</td>\n",
                            "      <td>56318.84</td>\n",
                            "      <td>306984.83</td>\n",
                            "      <td>2576.48</td>\n",
                            "      <td>532265.66</td>\n",
                            "      <td>2100.0</td>\n",
                            "      <td>250665.99</td>\n",
                            "      <td>281599.67</td>\n",
                            "    </tr>\n",
                            "    <tr>\n",
                            "      <th>15</th>\n",
                            "      <td>35393.73</td>\n",
                            "      <td>0.00</td>\n",
                            "      <td>0.00</td>\n",
                            "      <td>23259.77</td>\n",
                            "      <td>0.0</td>\n",
                            "      <td>2025-07-01</td>\n",
                            "      <td>0.05</td>\n",
                            "      <td>[{'market_value': 533152.77, 'monthly_income':...</td>\n",
                            "      <td>0.04</td>\n",
                            "      <td>0.24</td>\n",
                            "      <td>...</td>\n",
                            "      <td>True</td>\n",
                            "      <td>50000.0</td>\n",
                            "      <td>80-20</td>\n",
                            "      <td>35393.73</td>\n",
                            "      <td>287725.77</td>\n",
                            "      <td>2576.48</td>\n",
                            "      <td>533152.77</td>\n",
                            "      <td>2100.0</td>\n",
                            "      <td>252332.04</td>\n",
                            "      <td>280820.73</td>\n",
                            "    </tr>\n",
                            "    <tr>\n",
                            "      <th>16</th>\n",
                            "      <td>13451.04</td>\n",
                            "      <td>0.00</td>\n",
                            "      <td>0.00</td>\n",
                            "      <td>24190.16</td>\n",
                            "      <td>0.0</td>\n",
                            "      <td>2025-08-01</td>\n",
                            "      <td>0.05</td>\n",
                            "      <td>[{'market_value': 534041.36, 'monthly_income':...</td>\n",
                            "      <td>0.04</td>\n",
                            "      <td>0.48</td>\n",
                            "      <td>...</td>\n",
                            "      <td>True</td>\n",
                            "      <td>50000.0</td>\n",
                            "      <td>80-20</td>\n",
                            "      <td>13451.04</td>\n",
                            "      <td>267455.58</td>\n",
                            "      <td>2576.48</td>\n",
                            "      <td>534041.36</td>\n",
                            "      <td>2100.0</td>\n",
                            "      <td>254004.54</td>\n",
                            "      <td>280036.82</td>\n",
                            "    </tr>\n",
                            "    <tr>\n",
                            "      <th>17</th>\n",
                            "      <td>157293.31</td>\n",
                            "      <td>39323.33</td>\n",
                            "      <td>50000.00</td>\n",
                            "      <td>24673.96</td>\n",
                            "      <td>0.0</td>\n",
                            "      <td>2025-09-01</td>\n",
                            "      <td>0.05</td>\n",
                            "      <td>[]</td>\n",
                            "      <td>0.04</td>\n",
                            "      <td>0.24</td>\n",
                            "      <td>...</td>\n",
                            "      <td>True</td>\n",
                            "      <td>50000.0</td>\n",
                            "      <td>80-20</td>\n",
                            "      <td>246616.64</td>\n",
                            "      <td>246616.64</td>\n",
                            "      <td>0.00</td>\n",
                            "      <td>0.00</td>\n",
                            "      <td>0.0</td>\n",
                            "      <td>0.00</td>\n",
                            "      <td>0.00</td>\n",
                            "    </tr>\n",
                            "    <tr>\n",
                            "      <th>18</th>\n",
                            "      <td>157948.70</td>\n",
                            "      <td>39454.41</td>\n",
                            "      <td>24585.82</td>\n",
                            "      <td>25414.18</td>\n",
                            "      <td>0.0</td>\n",
                            "      <td>2025-10-01</td>\n",
                            "      <td>0.05</td>\n",
                            "      <td>[]</td>\n",
                            "      <td>0.04</td>\n",
                            "      <td>0.36</td>\n",
                            "      <td>...</td>\n",
                            "      <td>True</td>\n",
                            "      <td>50000.0</td>\n",
                            "      <td>80-20</td>\n",
                            "      <td>221988.93</td>\n",
                            "      <td>221988.93</td>\n",
                            "      <td>0.00</td>\n",
                            "      <td>0.00</td>\n",
                            "      <td>0.0</td>\n",
                            "      <td>0.00</td>\n",
                            "      <td>0.00</td>\n",
                            "    </tr>\n",
                            "    <tr>\n",
                            "      <th>19</th>\n",
                            "      <td>158606.82</td>\n",
                            "      <td>37995.14</td>\n",
                            "      <td>0.00</td>\n",
                            "      <td>26176.61</td>\n",
                            "      <td>0.0</td>\n",
                            "      <td>2025-11-01</td>\n",
                            "      <td>0.05</td>\n",
                            "      <td>[]</td>\n",
                            "      <td>0.04</td>\n",
                            "      <td>0.36</td>\n",
                            "      <td>...</td>\n",
                            "      <td>True</td>\n",
                            "      <td>50000.0</td>\n",
                            "      <td>80-20</td>\n",
                            "      <td>196601.96</td>\n",
                            "      <td>196601.96</td>\n",
                            "      <td>0.00</td>\n",
                            "      <td>0.00</td>\n",
                            "      <td>0.0</td>\n",
                            "      <td>0.00</td>\n",
                            "      <td>0.00</td>\n",
                            "    </tr>\n",
                            "    <tr>\n",
                            "      <th>20</th>\n",
                            "      <td>159267.68</td>\n",
                            "      <td>11421.65</td>\n",
                            "      <td>0.00</td>\n",
                            "      <td>26700.14</td>\n",
                            "      <td>0.0</td>\n",
                            "      <td>2025-12-01</td>\n",
                            "      <td>0.05</td>\n",
                            "      <td>[]</td>\n",
                            "      <td>0.04</td>\n",
                            "      <td>0.24</td>\n",
                            "      <td>...</td>\n",
                            "      <td>True</td>\n",
                            "      <td>50000.0</td>\n",
                            "      <td>80-20</td>\n",
                            "      <td>170689.33</td>\n",
                            "      <td>170689.33</td>\n",
                            "      <td>0.00</td>\n",
                            "      <td>0.00</td>\n",
                            "      <td>0.0</td>\n",
                            "      <td>0.00</td>\n",
                            "      <td>0.00</td>\n",
                            "    </tr>\n",
                            "    <tr>\n",
                            "      <th>21</th>\n",
                            "      <td>143889.87</td>\n",
                            "      <td>0.00</td>\n",
                            "      <td>0.00</td>\n",
                            "      <td>27501.14</td>\n",
                            "      <td>0.0</td>\n",
                            "      <td>2026-01-01</td>\n",
                            "      <td>0.05</td>\n",
                            "      <td>[]</td>\n",
                            "      <td>0.04</td>\n",
                            "      <td>0.36</td>\n",
                            "      <td>...</td>\n",
                            "      <td>True</td>\n",
                            "      <td>50000.0</td>\n",
                            "      <td>80-20</td>\n",
                            "      <td>143889.87</td>\n",
                            "      <td>143889.87</td>\n",
                            "      <td>0.00</td>\n",
                            "      <td>0.00</td>\n",
                            "      <td>0.0</td>\n",
                            "      <td>0.00</td>\n",
                            "      <td>0.00</td>\n",
                            "    </tr>\n",
                            "    <tr>\n",
                            "      <th>22</th>\n",
                            "      <td>115888.23</td>\n",
                            "      <td>0.00</td>\n",
                            "      <td>0.00</td>\n",
                            "      <td>28601.19</td>\n",
                            "      <td>0.0</td>\n",
                            "      <td>2026-02-01</td>\n",
                            "      <td>0.05</td>\n",
                            "      <td>[]</td>\n",
                            "      <td>0.04</td>\n",
                            "      <td>0.48</td>\n",
                            "      <td>...</td>\n",
                            "      <td>True</td>\n",
                            "      <td>50000.0</td>\n",
                            "      <td>80-20</td>\n",
                            "      <td>115888.23</td>\n",
                            "      <td>115888.23</td>\n",
                            "      <td>0.00</td>\n",
                            "      <td>0.00</td>\n",
                            "      <td>0.0</td>\n",
                            "      <td>0.00</td>\n",
                            "      <td>0.00</td>\n",
                            "    </tr>\n",
                            "    <tr>\n",
                            "      <th>23</th>\n",
                            "      <td>87197.88</td>\n",
                            "      <td>0.00</td>\n",
                            "      <td>0.00</td>\n",
                            "      <td>29173.21</td>\n",
                            "      <td>0.0</td>\n",
                            "      <td>2026-03-01</td>\n",
                            "      <td>0.05</td>\n",
                            "      <td>[]</td>\n",
                            "      <td>0.04</td>\n",
                            "      <td>0.24</td>\n",
                            "      <td>...</td>\n",
                            "      <td>True</td>\n",
                            "      <td>50000.0</td>\n",
                            "      <td>80-20</td>\n",
                            "      <td>87197.88</td>\n",
                            "      <td>87197.88</td>\n",
                            "      <td>0.00</td>\n",
                            "      <td>0.00</td>\n",
                            "      <td>0.0</td>\n",
                            "      <td>0.00</td>\n",
                            "      <td>0.00</td>\n",
                            "    </tr>\n",
                            "    <tr>\n",
                            "      <th>24</th>\n",
                            "      <td>57804.53</td>\n",
                            "      <td>0.00</td>\n",
                            "      <td>0.00</td>\n",
                            "      <td>29756.67</td>\n",
                            "      <td>0.0</td>\n",
                            "      <td>2026-04-01</td>\n",
                            "      <td>0.05</td>\n",
                            "      <td>[]</td>\n",
                            "      <td>0.04</td>\n",
                            "      <td>0.24</td>\n",
                            "      <td>...</td>\n",
                            "      <td>True</td>\n",
                            "      <td>50000.0</td>\n",
                            "      <td>80-20</td>\n",
                            "      <td>57804.53</td>\n",
                            "      <td>57804.53</td>\n",
                            "      <td>0.00</td>\n",
                            "      <td>0.00</td>\n",
                            "      <td>0.0</td>\n",
                            "      <td>0.00</td>\n",
                            "      <td>0.00</td>\n",
                            "    </tr>\n",
                            "    <tr>\n",
                            "      <th>25</th>\n",
                            "      <td>27693.58</td>\n",
                            "      <td>0.00</td>\n",
                            "      <td>0.00</td>\n",
                            "      <td>30351.80</td>\n",
                            "      <td>0.0</td>\n",
                            "      <td>2026-05-01</td>\n",
                            "      <td>0.05</td>\n",
                            "      <td>[]</td>\n",
                            "      <td>0.04</td>\n",
                            "      <td>0.24</td>\n",
                            "      <td>...</td>\n",
                            "      <td>True</td>\n",
                            "      <td>50000.0</td>\n",
                            "      <td>80-20</td>\n",
                            "      <td>27693.58</td>\n",
                            "      <td>27693.58</td>\n",
                            "      <td>0.00</td>\n",
                            "      <td>0.00</td>\n",
                            "      <td>0.0</td>\n",
                            "      <td>0.00</td>\n",
                            "      <td>0.00</td>\n",
                            "    </tr>\n",
                            "  </tbody>\n",
                            "</table>\n",
                            "<p>26 rows × 22 columns</p>\n",
                            "</div>"
                        ],
                        "text/plain": [
                            "    stock_investments  bonds_investments       cash  monthly_expenses  \\\n",
                            "0           100000.00          100000.00  100000.00          16000.00   \n",
                            "1           128784.67          107425.33   50000.00          16640.00   \n",
                            "2           129321.27          107783.41   34960.80          17139.20   \n",
                            "3           129860.11          108142.69   19236.03          17824.77   \n",
                            "4           130401.19          108503.17    2976.52          18359.51   \n",
                            "5           130944.53           95031.07       0.00          18910.30   \n",
                            "6           131490.13           77781.13       0.00          19666.71   \n",
                            "7           132038.01           60080.36       0.00          20060.04   \n",
                            "8           132588.17           41518.19       0.00          20862.44   \n",
                            "9           133140.62           22059.65       0.00          21696.94   \n",
                            "10          133695.37            2319.27       0.00          21913.91   \n",
                            "11          116546.39               0.00       0.00          22133.05   \n",
                            "12           96777.62               0.00       0.00          22354.38   \n",
                            "13           76702.94               0.00       0.00          22577.92   \n",
                            "14           56318.84               0.00       0.00          22803.70   \n",
                            "15           35393.73               0.00       0.00          23259.77   \n",
                            "16           13451.04               0.00       0.00          24190.16   \n",
                            "17          157293.31           39323.33   50000.00          24673.96   \n",
                            "18          157948.70           39454.41   24585.82          25414.18   \n",
                            "19          158606.82           37995.14       0.00          26176.61   \n",
                            "20          159267.68           11421.65       0.00          26700.14   \n",
                            "21          143889.87               0.00       0.00          27501.14   \n",
                            "22          115888.23               0.00       0.00          28601.19   \n",
                            "23           87197.88               0.00       0.00          29173.21   \n",
                            "24           57804.53               0.00       0.00          29756.67   \n",
                            "25           27693.58               0.00       0.00          30351.80   \n",
                            "\n",
                            "    monthly_income       date  stock_return_rate  \\\n",
                            "0              0.0 2024-04-01               0.05   \n",
                            "1              0.0 2024-05-01               0.05   \n",
                            "2              0.0 2024-06-01               0.05   \n",
                            "3              0.0 2024-07-01               0.05   \n",
                            "4              0.0 2024-08-01               0.05   \n",
                            "5              0.0 2024-09-01               0.05   \n",
                            "6              0.0 2024-10-01               0.05   \n",
                            "7              0.0 2024-11-01               0.05   \n",
                            "8              0.0 2024-12-01               0.05   \n",
                            "9              0.0 2025-01-01               0.05   \n",
                            "10             0.0 2025-02-01               0.05   \n",
                            "11             0.0 2025-03-01               0.05   \n",
                            "12             0.0 2025-04-01               0.05   \n",
                            "13             0.0 2025-05-01               0.05   \n",
                            "14             0.0 2025-06-01               0.05   \n",
                            "15             0.0 2025-07-01               0.05   \n",
                            "16             0.0 2025-08-01               0.05   \n",
                            "17             0.0 2025-09-01               0.05   \n",
                            "18             0.0 2025-10-01               0.05   \n",
                            "19             0.0 2025-11-01               0.05   \n",
                            "20             0.0 2025-12-01               0.05   \n",
                            "21             0.0 2026-01-01               0.05   \n",
                            "22             0.0 2026-02-01               0.05   \n",
                            "23             0.0 2026-03-01               0.05   \n",
                            "24             0.0 2026-04-01               0.05   \n",
                            "25             0.0 2026-05-01               0.05   \n",
                            "\n",
                            "                                investment_properties  bonds_return_rate  \\\n",
                            "0   [{'market_value': 520000, 'monthly_income': 21...               0.04   \n",
                            "1   [{'market_value': 520866.67, 'monthly_income':...               0.04   \n",
                            "2   [{'market_value': 521734.78, 'monthly_income':...               0.04   \n",
                            "3   [{'market_value': 522604.34, 'monthly_income':...               0.04   \n",
                            "4   [{'market_value': 523475.35, 'monthly_income':...               0.04   \n",
                            "5   [{'market_value': 524347.81, 'monthly_income':...               0.04   \n",
                            "6   [{'market_value': 525221.72, 'monthly_income':...               0.04   \n",
                            "7   [{'market_value': 526097.09, 'monthly_income':...               0.04   \n",
                            "8   [{'market_value': 526973.92, 'monthly_income':...               0.04   \n",
                            "9   [{'market_value': 527852.21, 'monthly_income':...               0.04   \n",
                            "10  [{'market_value': 528731.96, 'monthly_income':...               0.04   \n",
                            "11  [{'market_value': 529613.18, 'monthly_income':...               0.04   \n",
                            "12  [{'market_value': 530495.87, 'monthly_income':...               0.04   \n",
                            "13  [{'market_value': 531380.03, 'monthly_income':...               0.04   \n",
                            "14  [{'market_value': 532265.66, 'monthly_income':...               0.04   \n",
                            "15  [{'market_value': 533152.77, 'monthly_income':...               0.04   \n",
                            "16  [{'market_value': 534041.36, 'monthly_income':...               0.04   \n",
                            "17                                                 []               0.04   \n",
                            "18                                                 []               0.04   \n",
                            "19                                                 []               0.04   \n",
                            "20                                                 []               0.04   \n",
                            "21                                                 []               0.04   \n",
                            "22                                                 []               0.04   \n",
                            "23                                                 []               0.04   \n",
                            "24                                                 []               0.04   \n",
                            "25                                                 []               0.04   \n",
                            "\n",
                            "    annual_inflation_rate  ...  invest_cash_surplus  invest_cash_threshold  \\\n",
                            "0                    0.04  ...                 True                50000.0   \n",
                            "1                    0.48  ...                 True                50000.0   \n",
                            "2                    0.36  ...                 True                50000.0   \n",
                            "3                    0.48  ...                 True                50000.0   \n",
                            "4                    0.36  ...                 True                50000.0   \n",
                            "5                    0.36  ...                 True                50000.0   \n",
                            "6                    0.48  ...                 True                50000.0   \n",
                            "7                    0.24  ...                 True                50000.0   \n",
                            "8                    0.48  ...                 True                50000.0   \n",
                            "9                    0.48  ...                 True                50000.0   \n",
                            "10                   0.12  ...                 True                50000.0   \n",
                            "11                   0.12  ...                 True                50000.0   \n",
                            "12                   0.12  ...                 True                50000.0   \n",
                            "13                   0.12  ...                 True                50000.0   \n",
                            "14                   0.12  ...                 True                50000.0   \n",
                            "15                   0.24  ...                 True                50000.0   \n",
                            "16                   0.48  ...                 True                50000.0   \n",
                            "17                   0.24  ...                 True                50000.0   \n",
                            "18                   0.36  ...                 True                50000.0   \n",
                            "19                   0.36  ...                 True                50000.0   \n",
                            "20                   0.24  ...                 True                50000.0   \n",
                            "21                   0.36  ...                 True                50000.0   \n",
                            "22                   0.48  ...                 True                50000.0   \n",
                            "23                   0.24  ...                 True                50000.0   \n",
                            "24                   0.24  ...                 True                50000.0   \n",
                            "25                   0.24  ...                 True                50000.0   \n",
                            "\n",
                            "    invest_cash_surplus_strategy  liquid_wealth wealth_inc_properties  \\\n",
                            "0                          80-20      300000.00             528000.00   \n",
                            "1                          80-20      286210.00             515789.22   \n",
                            "2                          80-20      272065.48             503229.91   \n",
                            "3                          80-20      257238.83             489994.49   \n",
                            "4                          80-20      241880.88             476233.83   \n",
                            "5                          80-20      225975.60             461931.93   \n",
                            "6                          80-20      209271.26             446837.08   \n",
                            "7                          80-20      192118.37             431299.84   \n",
                            "8                          80-20      174106.36             414909.66   \n",
                            "9                          80-20      155200.27             397631.62   \n",
                            "10                         80-20      136014.64             380080.28   \n",
                            "11                         80-20      116546.39             362252.61   \n",
                            "12                         80-20       96777.62             344130.74   \n",
                            "13                         80-20       76702.94             325709.31   \n",
                            "14                         80-20       56318.84             306984.83   \n",
                            "15                         80-20       35393.73             287725.77   \n",
                            "16                         80-20       13451.04             267455.58   \n",
                            "17                         80-20      246616.64             246616.64   \n",
                            "18                         80-20      221988.93             221988.93   \n",
                            "19                         80-20      196601.96             196601.96   \n",
                            "20                         80-20      170689.33             170689.33   \n",
                            "21                         80-20      143889.87             143889.87   \n",
                            "22                         80-20      115888.23             115888.23   \n",
                            "23                         80-20       87197.88              87197.88   \n",
                            "24                         80-20       57804.53              57804.53   \n",
                            "25                         80-20       27693.58              27693.58   \n",
                            "\n",
                            "    properties_monthly_mortgage  properties_market_value  \\\n",
                            "0                       2576.48                520000.00   \n",
                            "1                       2576.48                520866.67   \n",
                            "2                       2576.48                521734.78   \n",
                            "3                       2576.48                522604.34   \n",
                            "4                       2576.48                523475.35   \n",
                            "5                       2576.48                524347.81   \n",
                            "6                       2576.48                525221.72   \n",
                            "7                       2576.48                526097.09   \n",
                            "8                       2576.48                526973.92   \n",
                            "9                       2576.48                527852.21   \n",
                            "10                      2576.48                528731.96   \n",
                            "11                      2576.48                529613.18   \n",
                            "12                      2576.48                530495.87   \n",
                            "13                      2576.48                531380.03   \n",
                            "14                      2576.48                532265.66   \n",
                            "15                      2576.48                533152.77   \n",
                            "16                      2576.48                534041.36   \n",
                            "17                         0.00                     0.00   \n",
                            "18                         0.00                     0.00   \n",
                            "19                         0.00                     0.00   \n",
                            "20                         0.00                     0.00   \n",
                            "21                         0.00                     0.00   \n",
                            "22                         0.00                     0.00   \n",
                            "23                         0.00                     0.00   \n",
                            "24                         0.00                     0.00   \n",
                            "25                         0.00                     0.00   \n",
                            "\n",
                            "    properties_monthly_income  properties_net_cash_value  \\\n",
                            "0                      2100.0                  228000.00   \n",
                            "1                      2100.0                  229579.22   \n",
                            "2                      2100.0                  231164.43   \n",
                            "3                      2100.0                  232755.66   \n",
                            "4                      2100.0                  234352.95   \n",
                            "5                      2100.0                  235956.33   \n",
                            "6                      2100.0                  237565.82   \n",
                            "7                      2100.0                  239181.47   \n",
                            "8                      2100.0                  240803.30   \n",
                            "9                      2100.0                  242431.35   \n",
                            "10                     2100.0                  244065.64   \n",
                            "11                     2100.0                  245706.22   \n",
                            "12                     2100.0                  247353.12   \n",
                            "13                     2100.0                  249006.37   \n",
                            "14                     2100.0                  250665.99   \n",
                            "15                     2100.0                  252332.04   \n",
                            "16                     2100.0                  254004.54   \n",
                            "17                        0.0                       0.00   \n",
                            "18                        0.0                       0.00   \n",
                            "19                        0.0                       0.00   \n",
                            "20                        0.0                       0.00   \n",
                            "21                        0.0                       0.00   \n",
                            "22                        0.0                       0.00   \n",
                            "23                        0.0                       0.00   \n",
                            "24                        0.0                       0.00   \n",
                            "25                        0.0                       0.00   \n",
                            "\n",
                            "    properties_mortgage_left  \n",
                            "0                  292000.00  \n",
                            "1                  291287.45  \n",
                            "2                  290570.35  \n",
                            "3                  289848.68  \n",
                            "4                  289122.40  \n",
                            "5                  288391.48  \n",
                            "6                  287655.90  \n",
                            "7                  286915.62  \n",
                            "8                  286170.62  \n",
                            "9                  285420.86  \n",
                            "10                 284666.32  \n",
                            "11                 283906.96  \n",
                            "12                 283142.75  \n",
                            "13                 282373.66  \n",
                            "14                 281599.67  \n",
                            "15                 280820.73  \n",
                            "16                 280036.82  \n",
                            "17                      0.00  \n",
                            "18                      0.00  \n",
                            "19                      0.00  \n",
                            "20                      0.00  \n",
                            "21                      0.00  \n",
                            "22                      0.00  \n",
                            "23                      0.00  \n",
                            "24                      0.00  \n",
                            "25                      0.00  \n",
                            "\n",
                            "[26 rows x 22 columns]"
                        ]
                    },
                    "execution_count": 4,
                    "metadata": {},
                    "output_type": "execute_result"
                }
            ],
            "source": [
                "\n",
                "df = pd.DataFrame([s.to_dict() for s in simulation])\n",
                "\n",
                "number_of_records = len(df)\n",
                "last_record = df.iloc[-1]\n",
                "df\n"
            ]
        },
        {
            "cell_type": "code",
            "execution_count": 5,
            "metadata": {},
            "outputs": [
                {
                    "name": "stdout",
                    "output_type": "stream",
                    "text": [
                        "Without any income and burning only your investments, you can survive for 26 months\n"
                    ]
                }
            ],
            "source": [
                "print(f\"Without any income and burning only your investments, you can survive for {number_of_records} months\")\n",
                "\n"
            ]
        },
        {
            "cell_type": "code",
            "execution_count": 6,
            "metadata": {
                "tags": [
                    "skip"
                ]
            },
            "outputs": [
                {
                    "data": {
                        "application/vnd.plotly.v1+json": {
                            "config": {
                                "plotlyServerURL": "https://plot.ly"
                            },
                            "data": [
                                {
                                    "alignmentgroup": "True",
                                    "hovertemplate": "variable=properties_net_cash_value<br>date=%{x}<br>value=%{y}<extra></extra>",
                                    "legendgroup": "properties_net_cash_value",
                                    "marker": {
                                        "color": "#636efa",
                                        "pattern": {
                                            "shape": ""
                                        }
                                    },
                                    "name": "properties_net_cash_value",
                                    "offsetgroup": "properties_net_cash_value",
                                    "orientation": "v",
                                    "showlegend": true,
                                    "textposition": "auto",
                                    "type": "bar",
                                    "x": [
                                        "2024-04-01T00:00:00",
                                        "2024-05-01T00:00:00",
                                        "2024-06-01T00:00:00",
                                        "2024-07-01T00:00:00",
                                        "2024-08-01T00:00:00",
                                        "2024-09-01T00:00:00",
                                        "2024-10-01T00:00:00",
                                        "2024-11-01T00:00:00",
                                        "2024-12-01T00:00:00",
                                        "2025-01-01T00:00:00",
                                        "2025-02-01T00:00:00",
                                        "2025-03-01T00:00:00",
                                        "2025-04-01T00:00:00",
                                        "2025-05-01T00:00:00",
                                        "2025-06-01T00:00:00",
                                        "2025-07-01T00:00:00",
                                        "2025-08-01T00:00:00",
                                        "2025-09-01T00:00:00",
                                        "2025-10-01T00:00:00",
                                        "2025-11-01T00:00:00",
                                        "2025-12-01T00:00:00",
                                        "2026-01-01T00:00:00",
                                        "2026-02-01T00:00:00",
                                        "2026-03-01T00:00:00",
                                        "2026-04-01T00:00:00",
                                        "2026-05-01T00:00:00"
                                    ],
                                    "xaxis": "x",
                                    "y": [
                                        228000,
                                        229579.22,
                                        231164.43,
                                        232755.66,
                                        234352.95,
                                        235956.33,
                                        237565.82,
                                        239181.47,
                                        240803.3,
                                        242431.35,
                                        244065.64,
                                        245706.22,
                                        247353.12,
                                        249006.37,
                                        250665.99,
                                        252332.04,
                                        254004.54,
                                        0,
                                        0,
                                        0,
                                        0,
                                        0,
                                        0,
                                        0,
                                        0,
                                        0
                                    ],
                                    "yaxis": "y"
                                },
                                {
                                    "alignmentgroup": "True",
                                    "hovertemplate": "variable=stock_investments<br>date=%{x}<br>value=%{y}<extra></extra>",
                                    "legendgroup": "stock_investments",
                                    "marker": {
                                        "color": "#EF553B",
                                        "pattern": {
                                            "shape": ""
                                        }
                                    },
                                    "name": "stock_investments",
                                    "offsetgroup": "stock_investments",
                                    "orientation": "v",
                                    "showlegend": true,
                                    "textposition": "auto",
                                    "type": "bar",
                                    "x": [
                                        "2024-04-01T00:00:00",
                                        "2024-05-01T00:00:00",
                                        "2024-06-01T00:00:00",
                                        "2024-07-01T00:00:00",
                                        "2024-08-01T00:00:00",
                                        "2024-09-01T00:00:00",
                                        "2024-10-01T00:00:00",
                                        "2024-11-01T00:00:00",
                                        "2024-12-01T00:00:00",
                                        "2025-01-01T00:00:00",
                                        "2025-02-01T00:00:00",
                                        "2025-03-01T00:00:00",
                                        "2025-04-01T00:00:00",
                                        "2025-05-01T00:00:00",
                                        "2025-06-01T00:00:00",
                                        "2025-07-01T00:00:00",
                                        "2025-08-01T00:00:00",
                                        "2025-09-01T00:00:00",
                                        "2025-10-01T00:00:00",
                                        "2025-11-01T00:00:00",
                                        "2025-12-01T00:00:00",
                                        "2026-01-01T00:00:00",
                                        "2026-02-01T00:00:00",
                                        "2026-03-01T00:00:00",
                                        "2026-04-01T00:00:00",
                                        "2026-05-01T00:00:00"
                                    ],
                                    "xaxis": "x",
                                    "y": [
                                        100000,
                                        128784.67,
                                        129321.27,
                                        129860.11,
                                        130401.19,
                                        130944.53,
                                        131490.13,
                                        132038.01,
                                        132588.17,
                                        133140.62,
                                        133695.37,
                                        116546.39,
                                        96777.62,
                                        76702.94,
                                        56318.84,
                                        35393.73,
                                        13451.04,
                                        157293.31,
                                        157948.7,
                                        158606.82,
                                        159267.68,
                                        143889.87,
                                        115888.23,
                                        87197.88,
                                        57804.53,
                                        27693.58
                                    ],
                                    "yaxis": "y"
                                },
                                {
                                    "alignmentgroup": "True",
                                    "hovertemplate": "variable=bonds_investments<br>date=%{x}<br>value=%{y}<extra></extra>",
                                    "legendgroup": "bonds_investments",
                                    "marker": {
                                        "color": "#00cc96",
                                        "pattern": {
                                            "shape": ""
                                        }
                                    },
                                    "name": "bonds_investments",
                                    "offsetgroup": "bonds_investments",
                                    "orientation": "v",
                                    "showlegend": true,
                                    "textposition": "auto",
                                    "type": "bar",
                                    "x": [
                                        "2024-04-01T00:00:00",
                                        "2024-05-01T00:00:00",
                                        "2024-06-01T00:00:00",
                                        "2024-07-01T00:00:00",
                                        "2024-08-01T00:00:00",
                                        "2024-09-01T00:00:00",
                                        "2024-10-01T00:00:00",
                                        "2024-11-01T00:00:00",
                                        "2024-12-01T00:00:00",
                                        "2025-01-01T00:00:00",
                                        "2025-02-01T00:00:00",
                                        "2025-03-01T00:00:00",
                                        "2025-04-01T00:00:00",
                                        "2025-05-01T00:00:00",
                                        "2025-06-01T00:00:00",
                                        "2025-07-01T00:00:00",
                                        "2025-08-01T00:00:00",
                                        "2025-09-01T00:00:00",
                                        "2025-10-01T00:00:00",
                                        "2025-11-01T00:00:00",
                                        "2025-12-01T00:00:00",
                                        "2026-01-01T00:00:00",
                                        "2026-02-01T00:00:00",
                                        "2026-03-01T00:00:00",
                                        "2026-04-01T00:00:00",
                                        "2026-05-01T00:00:00"
                                    ],
                                    "xaxis": "x",
                                    "y": [
                                        100000,
                                        107425.33,
                                        107783.41,
                                        108142.69,
                                        108503.17,
                                        95031.07,
                                        77781.13,
                                        60080.36,
                                        41518.19,
                                        22059.65,
                                        2319.27,
                                        0,
                                        0,
                                        0,
                                        0,
                                        0,
                                        0,
                                        39323.33,
                                        39454.41,
                                        37995.14,
                                        11421.65,
                                        0,
                                        0,
                                        0,
                                        0,
                                        0
                                    ],
                                    "yaxis": "y"
                                },
                                {
                                    "alignmentgroup": "True",
                                    "hovertemplate": "variable=cash<br>date=%{x}<br>value=%{y}<extra></extra>",
                                    "legendgroup": "cash",
                                    "marker": {
                                        "color": "#ab63fa",
                                        "pattern": {
                                            "shape": ""
                                        }
                                    },
                                    "name": "cash",
                                    "offsetgroup": "cash",
                                    "orientation": "v",
                                    "showlegend": true,
                                    "textposition": "auto",
                                    "type": "bar",
                                    "x": [
                                        "2024-04-01T00:00:00",
                                        "2024-05-01T00:00:00",
                                        "2024-06-01T00:00:00",
                                        "2024-07-01T00:00:00",
                                        "2024-08-01T00:00:00",
                                        "2024-09-01T00:00:00",
                                        "2024-10-01T00:00:00",
                                        "2024-11-01T00:00:00",
                                        "2024-12-01T00:00:00",
                                        "2025-01-01T00:00:00",
                                        "2025-02-01T00:00:00",
                                        "2025-03-01T00:00:00",
                                        "2025-04-01T00:00:00",
                                        "2025-05-01T00:00:00",
                                        "2025-06-01T00:00:00",
                                        "2025-07-01T00:00:00",
                                        "2025-08-01T00:00:00",
                                        "2025-09-01T00:00:00",
                                        "2025-10-01T00:00:00",
                                        "2025-11-01T00:00:00",
                                        "2025-12-01T00:00:00",
                                        "2026-01-01T00:00:00",
                                        "2026-02-01T00:00:00",
                                        "2026-03-01T00:00:00",
                                        "2026-04-01T00:00:00",
                                        "2026-05-01T00:00:00"
                                    ],
                                    "xaxis": "x",
                                    "y": [
                                        100000,
                                        50000,
                                        34960.8,
                                        19236.03,
                                        2976.52,
                                        0,
                                        0,
                                        0,
                                        0,
                                        0,
                                        0,
                                        0,
                                        0,
                                        0,
                                        0,
                                        0,
                                        0,
                                        50000,
                                        24585.82,
                                        0,
                                        0,
                                        0,
                                        0,
                                        0,
                                        0,
                                        0
                                    ],
                                    "yaxis": "y"
                                },
                                {
                                    "mode": "lines",
                                    "name": "Monthly expenses",
                                    "type": "scatter",
                                    "x": [
                                        "2024-04-01T00:00:00",
                                        "2024-05-01T00:00:00",
                                        "2024-06-01T00:00:00",
                                        "2024-07-01T00:00:00",
                                        "2024-08-01T00:00:00",
                                        "2024-09-01T00:00:00",
                                        "2024-10-01T00:00:00",
                                        "2024-11-01T00:00:00",
                                        "2024-12-01T00:00:00",
                                        "2025-01-01T00:00:00",
                                        "2025-02-01T00:00:00",
                                        "2025-03-01T00:00:00",
                                        "2025-04-01T00:00:00",
                                        "2025-05-01T00:00:00",
                                        "2025-06-01T00:00:00",
                                        "2025-07-01T00:00:00",
                                        "2025-08-01T00:00:00",
                                        "2025-09-01T00:00:00",
                                        "2025-10-01T00:00:00",
                                        "2025-11-01T00:00:00",
                                        "2025-12-01T00:00:00",
                                        "2026-01-01T00:00:00",
                                        "2026-02-01T00:00:00",
                                        "2026-03-01T00:00:00",
                                        "2026-04-01T00:00:00",
                                        "2026-05-01T00:00:00"
                                    ],
                                    "y": [
                                        16000,
                                        16640,
                                        17139.2,
                                        17824.77,
                                        18359.51,
                                        18910.3,
                                        19666.71,
                                        20060.04,
                                        20862.44,
                                        21696.94,
                                        21913.91,
                                        22133.05,
                                        22354.38,
                                        22577.92,
                                        22803.7,
                                        23259.77,
                                        24190.16,
                                        24673.96,
                                        25414.18,
                                        26176.61,
                                        26700.14,
                                        27501.14,
                                        28601.19,
                                        29173.21,
                                        29756.67,
                                        30351.8
                                    ]
                                },
                                {
                                    "mode": "lines",
                                    "name": "Wealth with net properties",
                                    "type": "scatter",
                                    "x": [
                                        "2024-04-01T00:00:00",
                                        "2024-05-01T00:00:00",
                                        "2024-06-01T00:00:00",
                                        "2024-07-01T00:00:00",
                                        "2024-08-01T00:00:00",
                                        "2024-09-01T00:00:00",
                                        "2024-10-01T00:00:00",
                                        "2024-11-01T00:00:00",
                                        "2024-12-01T00:00:00",
                                        "2025-01-01T00:00:00",
                                        "2025-02-01T00:00:00",
                                        "2025-03-01T00:00:00",
                                        "2025-04-01T00:00:00",
                                        "2025-05-01T00:00:00",
                                        "2025-06-01T00:00:00",
                                        "2025-07-01T00:00:00",
                                        "2025-08-01T00:00:00",
                                        "2025-09-01T00:00:00",
                                        "2025-10-01T00:00:00",
                                        "2025-11-01T00:00:00",
                                        "2025-12-01T00:00:00",
                                        "2026-01-01T00:00:00",
                                        "2026-02-01T00:00:00",
                                        "2026-03-01T00:00:00",
                                        "2026-04-01T00:00:00",
                                        "2026-05-01T00:00:00"
                                    ],
                                    "y": [
                                        528000,
                                        515789.22,
                                        503229.91,
                                        489994.49,
                                        476233.83,
                                        461931.93,
                                        446837.08,
                                        431299.84,
                                        414909.66,
                                        397631.62,
                                        380080.28,
                                        362252.61,
                                        344130.74,
                                        325709.31,
                                        306984.83,
                                        287725.77,
                                        267455.58,
                                        246616.64,
                                        221988.93,
                                        196601.96,
                                        170689.33,
                                        143889.87,
                                        115888.23,
                                        87197.88,
                                        57804.53,
                                        27693.58
                                    ]
                                }
                            ],
                            "layout": {
                                "barmode": "relative",
                                "legend": {
                                    "title": {
                                        "text": "variable"
                                    },
                                    "tracegroupgap": 0
                                },
                                "template": {
                                    "data": {
                                        "bar": [
                                            {
                                                "error_x": {
                                                    "color": "#2a3f5f"
                                                },
                                                "error_y": {
                                                    "color": "#2a3f5f"
                                                },
                                                "marker": {
                                                    "line": {
                                                        "color": "#E5ECF6",
                                                        "width": 0.5
                                                    },
                                                    "pattern": {
                                                        "fillmode": "overlay",
                                                        "size": 10,
                                                        "solidity": 0.2
                                                    }
                                                },
                                                "type": "bar"
                                            }
                                        ],
                                        "barpolar": [
                                            {
                                                "marker": {
                                                    "line": {
                                                        "color": "#E5ECF6",
                                                        "width": 0.5
                                                    },
                                                    "pattern": {
                                                        "fillmode": "overlay",
                                                        "size": 10,
                                                        "solidity": 0.2
                                                    }
                                                },
                                                "type": "barpolar"
                                            }
                                        ],
                                        "carpet": [
                                            {
                                                "aaxis": {
                                                    "endlinecolor": "#2a3f5f",
                                                    "gridcolor": "white",
                                                    "linecolor": "white",
                                                    "minorgridcolor": "white",
                                                    "startlinecolor": "#2a3f5f"
                                                },
                                                "baxis": {
                                                    "endlinecolor": "#2a3f5f",
                                                    "gridcolor": "white",
                                                    "linecolor": "white",
                                                    "minorgridcolor": "white",
                                                    "startlinecolor": "#2a3f5f"
                                                },
                                                "type": "carpet"
                                            }
                                        ],
                                        "choropleth": [
                                            {
                                                "colorbar": {
                                                    "outlinewidth": 0,
                                                    "ticks": ""
                                                },
                                                "type": "choropleth"
                                            }
                                        ],
                                        "contour": [
                                            {
                                                "colorbar": {
                                                    "outlinewidth": 0,
                                                    "ticks": ""
                                                },
                                                "colorscale": [
                                                    [
                                                        0,
                                                        "#0d0887"
                                                    ],
                                                    [
                                                        0.1111111111111111,
                                                        "#46039f"
                                                    ],
                                                    [
                                                        0.2222222222222222,
                                                        "#7201a8"
                                                    ],
                                                    [
                                                        0.3333333333333333,
                                                        "#9c179e"
                                                    ],
                                                    [
                                                        0.4444444444444444,
                                                        "#bd3786"
                                                    ],
                                                    [
                                                        0.5555555555555556,
                                                        "#d8576b"
                                                    ],
                                                    [
                                                        0.6666666666666666,
                                                        "#ed7953"
                                                    ],
                                                    [
                                                        0.7777777777777778,
                                                        "#fb9f3a"
                                                    ],
                                                    [
                                                        0.8888888888888888,
                                                        "#fdca26"
                                                    ],
                                                    [
                                                        1,
                                                        "#f0f921"
                                                    ]
                                                ],
                                                "type": "contour"
                                            }
                                        ],
                                        "contourcarpet": [
                                            {
                                                "colorbar": {
                                                    "outlinewidth": 0,
                                                    "ticks": ""
                                                },
                                                "type": "contourcarpet"
                                            }
                                        ],
                                        "heatmap": [
                                            {
                                                "colorbar": {
                                                    "outlinewidth": 0,
                                                    "ticks": ""
                                                },
                                                "colorscale": [
                                                    [
                                                        0,
                                                        "#0d0887"
                                                    ],
                                                    [
                                                        0.1111111111111111,
                                                        "#46039f"
                                                    ],
                                                    [
                                                        0.2222222222222222,
                                                        "#7201a8"
                                                    ],
                                                    [
                                                        0.3333333333333333,
                                                        "#9c179e"
                                                    ],
                                                    [
                                                        0.4444444444444444,
                                                        "#bd3786"
                                                    ],
                                                    [
                                                        0.5555555555555556,
                                                        "#d8576b"
                                                    ],
                                                    [
                                                        0.6666666666666666,
                                                        "#ed7953"
                                                    ],
                                                    [
                                                        0.7777777777777778,
                                                        "#fb9f3a"
                                                    ],
                                                    [
                                                        0.8888888888888888,
                                                        "#fdca26"
                                                    ],
                                                    [
                                                        1,
                                                        "#f0f921"
                                                    ]
                                                ],
                                                "type": "heatmap"
                                            }
                                        ],
                                        "heatmapgl": [
                                            {
                                                "colorbar": {
                                                    "outlinewidth": 0,
                                                    "ticks": ""
                                                },
                                                "colorscale": [
                                                    [
                                                        0,
                                                        "#0d0887"
                                                    ],
                                                    [
                                                        0.1111111111111111,
                                                        "#46039f"
                                                    ],
                                                    [
                                                        0.2222222222222222,
                                                        "#7201a8"
                                                    ],
                                                    [
                                                        0.3333333333333333,
                                                        "#9c179e"
                                                    ],
                                                    [
                                                        0.4444444444444444,
                                                        "#bd3786"
                                                    ],
                                                    [
                                                        0.5555555555555556,
                                                        "#d8576b"
                                                    ],
                                                    [
                                                        0.6666666666666666,
                                                        "#ed7953"
                                                    ],
                                                    [
                                                        0.7777777777777778,
                                                        "#fb9f3a"
                                                    ],
                                                    [
                                                        0.8888888888888888,
                                                        "#fdca26"
                                                    ],
                                                    [
                                                        1,
                                                        "#f0f921"
                                                    ]
                                                ],
                                                "type": "heatmapgl"
                                            }
                                        ],
                                        "histogram": [
                                            {
                                                "marker": {
                                                    "pattern": {
                                                        "fillmode": "overlay",
                                                        "size": 10,
                                                        "solidity": 0.2
                                                    }
                                                },
                                                "type": "histogram"
                                            }
                                        ],
                                        "histogram2d": [
                                            {
                                                "colorbar": {
                                                    "outlinewidth": 0,
                                                    "ticks": ""
                                                },
                                                "colorscale": [
                                                    [
                                                        0,
                                                        "#0d0887"
                                                    ],
                                                    [
                                                        0.1111111111111111,
                                                        "#46039f"
                                                    ],
                                                    [
                                                        0.2222222222222222,
                                                        "#7201a8"
                                                    ],
                                                    [
                                                        0.3333333333333333,
                                                        "#9c179e"
                                                    ],
                                                    [
                                                        0.4444444444444444,
                                                        "#bd3786"
                                                    ],
                                                    [
                                                        0.5555555555555556,
                                                        "#d8576b"
                                                    ],
                                                    [
                                                        0.6666666666666666,
                                                        "#ed7953"
                                                    ],
                                                    [
                                                        0.7777777777777778,
                                                        "#fb9f3a"
                                                    ],
                                                    [
                                                        0.8888888888888888,
                                                        "#fdca26"
                                                    ],
                                                    [
                                                        1,
                                                        "#f0f921"
                                                    ]
                                                ],
                                                "type": "histogram2d"
                                            }
                                        ],
                                        "histogram2dcontour": [
                                            {
                                                "colorbar": {
                                                    "outlinewidth": 0,
                                                    "ticks": ""
                                                },
                                                "colorscale": [
                                                    [
                                                        0,
                                                        "#0d0887"
                                                    ],
                                                    [
                                                        0.1111111111111111,
                                                        "#46039f"
                                                    ],
                                                    [
                                                        0.2222222222222222,
                                                        "#7201a8"
                                                    ],
                                                    [
                                                        0.3333333333333333,
                                                        "#9c179e"
                                                    ],
                                                    [
                                                        0.4444444444444444,
                                                        "#bd3786"
                                                    ],
                                                    [
                                                        0.5555555555555556,
                                                        "#d8576b"
                                                    ],
                                                    [
                                                        0.6666666666666666,
                                                        "#ed7953"
                                                    ],
                                                    [
                                                        0.7777777777777778,
                                                        "#fb9f3a"
                                                    ],
                                                    [
                                                        0.8888888888888888,
                                                        "#fdca26"
                                                    ],
                                                    [
                                                        1,
                                                        "#f0f921"
                                                    ]
                                                ],
                                                "type": "histogram2dcontour"
                                            }
                                        ],
                                        "mesh3d": [
                                            {
                                                "colorbar": {
                                                    "outlinewidth": 0,
                                                    "ticks": ""
                                                },
                                                "type": "mesh3d"
                                            }
                                        ],
                                        "parcoords": [
                                            {
                                                "line": {
                                                    "colorbar": {
                                                        "outlinewidth": 0,
                                                        "ticks": ""
                                                    }
                                                },
                                                "type": "parcoords"
                                            }
                                        ],
                                        "pie": [
                                            {
                                                "automargin": true,
                                                "type": "pie"
                                            }
                                        ],
                                        "scatter": [
                                            {
                                                "fillpattern": {
                                                    "fillmode": "overlay",
                                                    "size": 10,
                                                    "solidity": 0.2
                                                },
                                                "type": "scatter"
                                            }
                                        ],
                                        "scatter3d": [
                                            {
                                                "line": {
                                                    "colorbar": {
                                                        "outlinewidth": 0,
                                                        "ticks": ""
                                                    }
                                                },
                                                "marker": {
                                                    "colorbar": {
                                                        "outlinewidth": 0,
                                                        "ticks": ""
                                                    }
                                                },
                                                "type": "scatter3d"
                                            }
                                        ],
                                        "scattercarpet": [
                                            {
                                                "marker": {
                                                    "colorbar": {
                                                        "outlinewidth": 0,
                                                        "ticks": ""
                                                    }
                                                },
                                                "type": "scattercarpet"
                                            }
                                        ],
                                        "scattergeo": [
                                            {
                                                "marker": {
                                                    "colorbar": {
                                                        "outlinewidth": 0,
                                                        "ticks": ""
                                                    }
                                                },
                                                "type": "scattergeo"
                                            }
                                        ],
                                        "scattergl": [
                                            {
                                                "marker": {
                                                    "colorbar": {
                                                        "outlinewidth": 0,
                                                        "ticks": ""
                                                    }
                                                },
                                                "type": "scattergl"
                                            }
                                        ],
                                        "scattermapbox": [
                                            {
                                                "marker": {
                                                    "colorbar": {
                                                        "outlinewidth": 0,
                                                        "ticks": ""
                                                    }
                                                },
                                                "type": "scattermapbox"
                                            }
                                        ],
                                        "scatterpolar": [
                                            {
                                                "marker": {
                                                    "colorbar": {
                                                        "outlinewidth": 0,
                                                        "ticks": ""
                                                    }
                                                },
                                                "type": "scatterpolar"
                                            }
                                        ],
                                        "scatterpolargl": [
                                            {
                                                "marker": {
                                                    "colorbar": {
                                                        "outlinewidth": 0,
                                                        "ticks": ""
                                                    }
                                                },
                                                "type": "scatterpolargl"
                                            }
                                        ],
                                        "scatterternary": [
                                            {
                                                "marker": {
                                                    "colorbar": {
                                                        "outlinewidth": 0,
                                                        "ticks": ""
                                                    }
                                                },
                                                "type": "scatterternary"
                                            }
                                        ],
                                        "surface": [
                                            {
                                                "colorbar": {
                                                    "outlinewidth": 0,
                                                    "ticks": ""
                                                },
                                                "colorscale": [
                                                    [
                                                        0,
                                                        "#0d0887"
                                                    ],
                                                    [
                                                        0.1111111111111111,
                                                        "#46039f"
                                                    ],
                                                    [
                                                        0.2222222222222222,
                                                        "#7201a8"
                                                    ],
                                                    [
                                                        0.3333333333333333,
                                                        "#9c179e"
                                                    ],
                                                    [
                                                        0.4444444444444444,
                                                        "#bd3786"
                                                    ],
                                                    [
                                                        0.5555555555555556,
                                                        "#d8576b"
                                                    ],
                                                    [
                                                        0.6666666666666666,
                                                        "#ed7953"
                                                    ],
                                                    [
                                                        0.7777777777777778,
                                                        "#fb9f3a"
                                                    ],
                                                    [
                                                        0.8888888888888888,
                                                        "#fdca26"
                                                    ],
                                                    [
                                                        1,
                                                        "#f0f921"
                                                    ]
                                                ],
                                                "type": "surface"
                                            }
                                        ],
                                        "table": [
                                            {
                                                "cells": {
                                                    "fill": {
                                                        "color": "#EBF0F8"
                                                    },
                                                    "line": {
                                                        "color": "white"
                                                    }
                                                },
                                                "header": {
                                                    "fill": {
                                                        "color": "#C8D4E3"
                                                    },
                                                    "line": {
                                                        "color": "white"
                                                    }
                                                },
                                                "type": "table"
                                            }
                                        ]
                                    },
                                    "layout": {
                                        "annotationdefaults": {
                                            "arrowcolor": "#2a3f5f",
                                            "arrowhead": 0,
                                            "arrowwidth": 1
                                        },
                                        "autotypenumbers": "strict",
                                        "coloraxis": {
                                            "colorbar": {
                                                "outlinewidth": 0,
                                                "ticks": ""
                                            }
                                        },
                                        "colorscale": {
                                            "diverging": [
                                                [
                                                    0,
                                                    "#8e0152"
                                                ],
                                                [
                                                    0.1,
                                                    "#c51b7d"
                                                ],
                                                [
                                                    0.2,
                                                    "#de77ae"
                                                ],
                                                [
                                                    0.3,
                                                    "#f1b6da"
                                                ],
                                                [
                                                    0.4,
                                                    "#fde0ef"
                                                ],
                                                [
                                                    0.5,
                                                    "#f7f7f7"
                                                ],
                                                [
                                                    0.6,
                                                    "#e6f5d0"
                                                ],
                                                [
                                                    0.7,
                                                    "#b8e186"
                                                ],
                                                [
                                                    0.8,
                                                    "#7fbc41"
                                                ],
                                                [
                                                    0.9,
                                                    "#4d9221"
                                                ],
                                                [
                                                    1,
                                                    "#276419"
                                                ]
                                            ],
                                            "sequential": [
                                                [
                                                    0,
                                                    "#0d0887"
                                                ],
                                                [
                                                    0.1111111111111111,
                                                    "#46039f"
                                                ],
                                                [
                                                    0.2222222222222222,
                                                    "#7201a8"
                                                ],
                                                [
                                                    0.3333333333333333,
                                                    "#9c179e"
                                                ],
                                                [
                                                    0.4444444444444444,
                                                    "#bd3786"
                                                ],
                                                [
                                                    0.5555555555555556,
                                                    "#d8576b"
                                                ],
                                                [
                                                    0.6666666666666666,
                                                    "#ed7953"
                                                ],
                                                [
                                                    0.7777777777777778,
                                                    "#fb9f3a"
                                                ],
                                                [
                                                    0.8888888888888888,
                                                    "#fdca26"
                                                ],
                                                [
                                                    1,
                                                    "#f0f921"
                                                ]
                                            ],
                                            "sequentialminus": [
                                                [
                                                    0,
                                                    "#0d0887"
                                                ],
                                                [
                                                    0.1111111111111111,
                                                    "#46039f"
                                                ],
                                                [
                                                    0.2222222222222222,
                                                    "#7201a8"
                                                ],
                                                [
                                                    0.3333333333333333,
                                                    "#9c179e"
                                                ],
                                                [
                                                    0.4444444444444444,
                                                    "#bd3786"
                                                ],
                                                [
                                                    0.5555555555555556,
                                                    "#d8576b"
                                                ],
                                                [
                                                    0.6666666666666666,
                                                    "#ed7953"
                                                ],
                                                [
                                                    0.7777777777777778,
                                                    "#fb9f3a"
                                                ],
                                                [
                                                    0.8888888888888888,
                                                    "#fdca26"
                                                ],
                                                [
                                                    1,
                                                    "#f0f921"
                                                ]
                                            ]
                                        },
                                        "colorway": [
                                            "#636efa",
                                            "#EF553B",
                                            "#00cc96",
                                            "#ab63fa",
                                            "#FFA15A",
                                            "#19d3f3",
                                            "#FF6692",
                                            "#B6E880",
                                            "#FF97FF",
                                            "#FECB52"
                                        ],
                                        "font": {
                                            "color": "#2a3f5f"
                                        },
                                        "geo": {
                                            "bgcolor": "white",
                                            "lakecolor": "white",
                                            "landcolor": "#E5ECF6",
                                            "showlakes": true,
                                            "showland": true,
                                            "subunitcolor": "white"
                                        },
                                        "hoverlabel": {
                                            "align": "left"
                                        },
                                        "hovermode": "closest",
                                        "mapbox": {
                                            "style": "light"
                                        },
                                        "paper_bgcolor": "white",
                                        "plot_bgcolor": "#E5ECF6",
                                        "polar": {
                                            "angularaxis": {
                                                "gridcolor": "white",
                                                "linecolor": "white",
                                                "ticks": ""
                                            },
                                            "bgcolor": "#E5ECF6",
                                            "radialaxis": {
                                                "gridcolor": "white",
                                                "linecolor": "white",
                                                "ticks": ""
                                            }
                                        },
                                        "scene": {
                                            "xaxis": {
                                                "backgroundcolor": "#E5ECF6",
                                                "gridcolor": "white",
                                                "gridwidth": 2,
                                                "linecolor": "white",
                                                "showbackground": true,
                                                "ticks": "",
                                                "zerolinecolor": "white"
                                            },
                                            "yaxis": {
                                                "backgroundcolor": "#E5ECF6",
                                                "gridcolor": "white",
                                                "gridwidth": 2,
                                                "linecolor": "white",
                                                "showbackground": true,
                                                "ticks": "",
                                                "zerolinecolor": "white"
                                            },
                                            "zaxis": {
                                                "backgroundcolor": "#E5ECF6",
                                                "gridcolor": "white",
                                                "gridwidth": 2,
                                                "linecolor": "white",
                                                "showbackground": true,
                                                "ticks": "",
                                                "zerolinecolor": "white"
                                            }
                                        },
                                        "shapedefaults": {
                                            "line": {
                                                "color": "#2a3f5f"
                                            }
                                        },
                                        "ternary": {
                                            "aaxis": {
                                                "gridcolor": "white",
                                                "linecolor": "white",
                                                "ticks": ""
                                            },
                                            "baxis": {
                                                "gridcolor": "white",
                                                "linecolor": "white",
                                                "ticks": ""
                                            },
                                            "bgcolor": "#E5ECF6",
                                            "caxis": {
                                                "gridcolor": "white",
                                                "linecolor": "white",
                                                "ticks": ""
                                            }
                                        },
                                        "title": {
                                            "x": 0.05
                                        },
                                        "xaxis": {
                                            "automargin": true,
                                            "gridcolor": "white",
                                            "linecolor": "white",
                                            "ticks": "",
                                            "title": {
                                                "standoff": 15
                                            },
                                            "zerolinecolor": "white",
                                            "zerolinewidth": 2
                                        },
                                        "yaxis": {
                                            "automargin": true,
                                            "gridcolor": "white",
                                            "linecolor": "white",
                                            "ticks": "",
                                            "title": {
                                                "standoff": 15
                                            },
                                            "zerolinecolor": "white",
                                            "zerolinewidth": 2
                                        }
                                    }
                                },
                                "title": {
                                    "text": "Wealth over time"
                                },
                                "xaxis": {
                                    "anchor": "y",
                                    "domain": [
                                        0,
                                        1
                                    ],
                                    "title": {
                                        "text": "date"
                                    }
                                },
                                "yaxis": {
                                    "anchor": "x",
                                    "domain": [
                                        0,
                                        1
                                    ],
                                    "title": {
                                        "text": "value"
                                    }
                                }
                            }
                        }
                    },
                    "metadata": {},
                    "output_type": "display_data"
                }
            ],
            "source": [
                "# I want to use plotly to create a nice stacked bar chart of bonds and stock investments\n",
                "# with a line chart showing monthly expenses\n",
                "\n",
                "fig = px.bar(df, x=df['date'], y=[\n",
                "        \"properties_net_cash_value\",\n",
                "        \"stock_investments\",\n",
                "        \"bonds_investments\",\n",
                "        \"cash\",\n",
                "    ], title='Wealth over time')\n",
                "fig.add_scatter(x=df['date'], y=df['monthly_expenses'], mode='lines', name='Monthly expenses')\n",
                "fig.add_scatter(x=df['date'], y=df['wealth_inc_properties'], mode='lines', name='Wealth with net properties')\n",
                "\n",
                "fig.show()\n"
            ]
        },
        {
            "cell_type": "markdown",
            "metadata": {},
            "source": [
                "## Properties specific"
            ]
        },
        {
            "cell_type": "code",
            "execution_count": null,
            "metadata": {},
            "outputs": [],
            "source": []
        }
    ],
    "metadata": {
        "kernelspec": {
            "display_name": "fire-notebooks-V1dUDsYi-py3.11",
            "language": "python",
            "name": "python3"
        },
        "language_info": {
            "codemirror_mode": {
                "name": "ipython",
                "version": 3
            },
            "file_extension": ".py",
            "mimetype": "text/x-python",
            "name": "python",
            "nbconvert_exporter": "python",
            "pygments_lexer": "ipython3",
            "version": "3.11.8"
        }
    },
    "nbformat": 4,
    "nbformat_minor": 2
}
